{
  "cells": [
    {
      "cell_type": "markdown",
      "metadata": {
        "id": "view-in-github",
        "colab_type": "text"
      },
      "source": [
        "<a href=\"https://colab.research.google.com/github/Tommmster/6620_/blob/master/CuraciondeDatos_entregable_parte_1y2_reversionado.ipynb\" target=\"_parent\"><img src=\"https://colab.research.google.com/assets/colab-badge.svg\" alt=\"Open In Colab\"/></a>"
      ]
    },
    {
      "cell_type": "markdown",
      "id": "e0ff301b-5595-4a0b-a2b8-3d5609a0485d",
      "metadata": {
        "id": "e0ff301b-5595-4a0b-a2b8-3d5609a0485d"
      },
      "source": [
        "**Diplomatura en Ciencia de Datos, Aprendizaje Automático y sus Aplicaciones**\n",
        "\n",
        "**Exploración y Curación de Datos**\n",
        "\n",
        "*Edición 2022*\n",
        "\n",
        "----\n",
        "\n",
        "# Trabajo práctico entregable - parte 1\n",
        "\n",
        "En esta notebook, vamos a cargar el conjunto de datos de [la compentencia Kaggle](https://www.kaggle.com/dansbecker/melbourne-housing-snapshot) sobre estimación de precios de ventas de propiedades en Melbourne, Australia.\n",
        "\n",
        "Utilizaremos el conjunto de datos reducido producido por [DanB](https://www.kaggle.com/dansbecker). Hemos subido una copia a un servidor de la Universidad Nacional de Córdoba para facilitar su acceso remoto."
      ]
    },
    {
      "cell_type": "code",
      "execution_count": 139,
      "id": "f5ac98f7-51f3-4f91-ac49-60ef5fe249be",
      "metadata": {
        "id": "f5ac98f7-51f3-4f91-ac49-60ef5fe249be",
        "colab": {
          "base_uri": "https://localhost:8080/"
        },
        "outputId": "1d8dcae0-7009-4674-c773-32a7d8a2a465"
      },
      "outputs": [
        {
          "output_type": "stream",
          "name": "stdout",
          "text": [
            "Looking in indexes: https://pypi.org/simple, https://us-python.pkg.dev/colab-wheels/public/simple/\n",
            "Requirement already satisfied: decouple in /usr/local/lib/python3.7/dist-packages (0.0.7)\n"
          ]
        }
      ],
      "source": [
        "import matplotlib\n",
        "import matplotlib.pyplot as plt\n",
        "import numpy\n",
        "import pandas\n",
        "\n",
        "import seaborn\n",
        "seaborn.set_context('talk')\n",
        "\n",
        "\n",
        "#!pip install matplotlib-venn\n",
        "!pip install decouple\n",
        "\n",
        "#from decouple import config\n",
        "from sqlalchemy import create_engine, text"
      ]
    },
    {
      "cell_type": "code",
      "execution_count": 140,
      "id": "ce478cbd-0f49-4f15-8dc5-1fe1a5b39f17",
      "metadata": {
        "id": "ce478cbd-0f49-4f15-8dc5-1fe1a5b39f17",
        "colab": {
          "base_uri": "https://localhost:8080/",
          "height": 36
        },
        "outputId": "9371e0a5-b52b-4974-cc70-10d10dccea80"
      },
      "outputs": [
        {
          "output_type": "execute_result",
          "data": {
            "text/plain": [
              "'5.5.0'"
            ],
            "application/vnd.google.colaboratory.intrinsic+json": {
              "type": "string"
            }
          },
          "metadata": {},
          "execution_count": 140
        }
      ],
      "source": [
        "import plotly\n",
        "plotly.__version__\n",
        "# Make sure it's 4.14.3"
      ]
    },
    {
      "cell_type": "code",
      "execution_count": 141,
      "id": "5ba8bfd5-199a-4390-a5b4-11ec9669b3e1",
      "metadata": {
        "id": "5ba8bfd5-199a-4390-a5b4-11ec9669b3e1"
      },
      "outputs": [],
      "source": [
        "# melb_data es un archivo que contiene las propiedades a aquilar con descripcion de las mismas , habitaciones, precio, vendedor , fecha \n",
        "melb_df = pandas.read_csv(\n",
        "    'https://cs.famaf.unc.edu.ar/~mteruel/datasets/diplodatos/melb_data.csv')\n"
      ]
    },
    {
      "cell_type": "code",
      "source": [
        "melb_df.columns"
      ],
      "metadata": {
        "colab": {
          "base_uri": "https://localhost:8080/"
        },
        "id": "9y4TI08d2hWf",
        "outputId": "3ce0e774-e586-47fe-8653-ea221ca1e415"
      },
      "id": "9y4TI08d2hWf",
      "execution_count": 142,
      "outputs": [
        {
          "output_type": "execute_result",
          "data": {
            "text/plain": [
              "Index(['Suburb', 'Address', 'Rooms', 'Type', 'Price', 'Method', 'SellerG',\n",
              "       'Date', 'Distance', 'Postcode', 'Bedroom2', 'Bathroom', 'Car',\n",
              "       'Landsize', 'BuildingArea', 'YearBuilt', 'CouncilArea', 'Lattitude',\n",
              "       'Longtitude', 'Regionname', 'Propertycount'],\n",
              "      dtype='object')"
            ]
          },
          "metadata": {},
          "execution_count": 142
        }
      ]
    },
    {
      "cell_type": "markdown",
      "id": "6cffe5bf-2498-498c-aa06-3e61422d91e6",
      "metadata": {
        "id": "6cffe5bf-2498-498c-aa06-3e61422d91e6"
      },
      "source": [
        "## Ejercicio 1 SQL: \n",
        "\n",
        "1. Crear una base de datos en SQLite utilizando la libreria [SQLalchemy](https://stackoverflow.com/questions/2268050/execute-sql-from-file-in-sqlalchemy).\n",
        "https://docs.sqlalchemy.org/en/14/core/engines.html#sqlite\n",
        "\n",
        "2. Ingestar los datos provistos en 'https://cs.famaf.unc.edu.ar/~mteruel/datasets/diplodatos/melb_data.csv' en una tabla y el dataset generado en clase con datos de airbnb y sus precios por codigo postal en otra.\n",
        "\n",
        "3. Implementar consultas en SQL que respondan con la siguiente información:\n",
        "\n",
        "    - cantidad de registros totales por ciudad.\n",
        "    - cantidad de registros totales por barrio y ciudad.\n",
        "\n",
        "4. Combinar los datasets de ambas tablas ingestadas utilizando el comando JOIN de SQL  para obtener un resultado similar a lo realizado con Pandas en clase.  \n",
        "\n"
      ]
    },
    {
      "cell_type": "markdown",
      "id": "c5468c4f-5cdf-4df4-a317-60e1fb0c00db",
      "metadata": {
        "id": "c5468c4f-5cdf-4df4-a317-60e1fb0c00db"
      },
      "source": [
        "## Ejercicio 2: \n",
        "\n",
        "1. Seleccionar un subconjunto de columnas que les parezcan relevantes al problema de predicción del valor de la propiedad. Justificar las columnas seleccionadas y las que no lo fueron.\n",
        " - Eliminar los valores extremos que no sean relevantes para la predicción de valores de las propiedades.\n",
        "\n",
        "2. Agregar información adicional respectiva al entorno de una propiedad a partir del [conjunto de datos de AirBnB](https://www.kaggle.com/tylerx/melbourne-airbnb-open-data?select=cleansed_listings_dec18.csv) utilizado en el práctico. \n",
        "  1. Seleccionar qué variables agregar y qué combinaciones aplicar a cada una. Por ejemplo, pueden utilizar solo la columna `price`, o aplicar múltiples transformaciones como la mediana o el mínimo.\n",
        "  1. Utilizar la variable zipcode para unir los conjuntos de datos. Sólo incluir los zipcodes que tengan una cantidad mínima de registros (a elección) como para que la información agregada sea relevante.\n",
        "  2. Investigar al menos otras 2 variables que puedan servir para combinar los datos, y justificar si serían adecuadas o no. Pueden asumir que cuentan con la ayuda de anotadores expertos para encontrar equivalencias entre barrios o direcciones, o que cuentan con algoritmos para encontrar las n ubicaciones más cercanas a una propiedad a partir de sus coordenadas geográficas. **NO** es necesario que realicen la implementación.\n",
        "\n",
        "Pueden leer otras columnas del conjunto de AirBnB además de las que están en `interesting_cols`, si les parecen relevantes."
      ]
    },
    {
      "cell_type": "markdown",
      "id": "c5303f27-3b15-441b-b291-8caf1c734139",
      "metadata": {
        "id": "c5303f27-3b15-441b-b291-8caf1c734139"
      },
      "source": [
        "## Ejercicio 3:\n",
        "\n",
        "Crear y guardar un nuevo conjunto de datos con todas las transformaciones realizadas anteriormente."
      ]
    },
    {
      "cell_type": "markdown",
      "id": "abfd3eeb-d466-424b-b58e-d1364ac39206",
      "metadata": {
        "id": "abfd3eeb-d466-424b-b58e-d1364ac39206"
      },
      "source": [
        "## Ejercicios opcionales:\n",
        "\n",
        "1. Armar un script en python (archivo .py) [ETL](https://towardsdatascience.com/what-to-log-from-python-etl-pipelines-9e0cfe29950e) que corra los pasos de extraccion, transformacion y carga, armando una funcion para cada etapa del proceso y luego un main que corra todos los pasos requeridos.\n",
        "\n",
        "2. Armar un DAG en Apache Airflow que corra el ETL. (https://airflow.apache.org/docs/apache-airflow/stable/tutorial.html)"
      ]
    },
    {
      "cell_type": "markdown",
      "source": [
        "# Ejercicio 1 SQL *Resolucion*\n"
      ],
      "metadata": {
        "id": "t50-CKAiKjJw"
      },
      "id": "t50-CKAiKjJw"
    },
    {
      "cell_type": "markdown",
      "source": [
        "*1. Crear una base de datos en SQLite*"
      ],
      "metadata": {
        "id": "xww0ef2wL-fQ"
      },
      "id": "xww0ef2wL-fQ"
    },
    {
      "cell_type": "code",
      "execution_count": 143,
      "id": "5d210b95-836f-45ac-a52d-1a4dafdb447a",
      "metadata": {
        "id": "5d210b95-836f-45ac-a52d-1a4dafdb447a"
      },
      "outputs": [],
      "source": [
        "import pandas as pd\n",
        "from sqlalchemy import create_engine, text\n",
        "\n",
        "# crea una conexion a la base de datos BDCuracion\n",
        "engine = create_engine('sqlite:///BDCuracion.db', echo=True)"
      ]
    },
    {
      "cell_type": "markdown",
      "source": [
        "2. *Ingestar los datos provistos en 'https://cs.famaf.unc.edu.ar/~mteruel/datasets/diplodatos/melb_data.csv' en una tabla y el dataset generado en clase con datos de airbnb y sus precios por codigo postal en otra.*"
      ],
      "metadata": {
        "id": "7XaB5KOYML8t"
      },
      "id": "7XaB5KOYML8t"
    },
    {
      "cell_type": "code",
      "source": [
        "melb_df.to_sql('melbourn', con=engine, if_exists=\"replace\")"
      ],
      "metadata": {
        "id": "Kn6ErtCyNNf3",
        "colab": {
          "base_uri": "https://localhost:8080/"
        },
        "outputId": "08990e79-a742-4ff1-853d-50b669e3f72d"
      },
      "id": "Kn6ErtCyNNf3",
      "execution_count": 144,
      "outputs": [
        {
          "output_type": "stream",
          "name": "stdout",
          "text": [
            "2022-06-08 02:22:42,876 INFO sqlalchemy.engine.Engine PRAGMA main.table_info(\"melbourn\")\n",
            "2022-06-08 02:22:42,880 INFO sqlalchemy.engine.Engine [raw sql] ()\n",
            "2022-06-08 02:22:42,884 INFO sqlalchemy.engine.Engine PRAGMA main.table_info(\"melbourn\")\n",
            "2022-06-08 02:22:42,888 INFO sqlalchemy.engine.Engine [raw sql] ()\n",
            "2022-06-08 02:22:42,892 INFO sqlalchemy.engine.Engine SELECT name FROM sqlite_master WHERE type='table' ORDER BY name\n",
            "2022-06-08 02:22:42,894 INFO sqlalchemy.engine.Engine [raw sql] ()\n",
            "2022-06-08 02:22:42,898 INFO sqlalchemy.engine.Engine PRAGMA main.table_info(\"melbourn\")\n",
            "2022-06-08 02:22:42,900 INFO sqlalchemy.engine.Engine [raw sql] ()\n",
            "2022-06-08 02:22:42,907 INFO sqlalchemy.engine.Engine SELECT sql FROM  (SELECT * FROM sqlite_master UNION ALL   SELECT * FROM sqlite_temp_master) WHERE name = ? AND type = 'table'\n",
            "2022-06-08 02:22:42,909 INFO sqlalchemy.engine.Engine [raw sql] ('melbourn',)\n",
            "2022-06-08 02:22:42,913 INFO sqlalchemy.engine.Engine PRAGMA main.foreign_key_list(\"melbourn\")\n",
            "2022-06-08 02:22:42,915 INFO sqlalchemy.engine.Engine [raw sql] ()\n",
            "2022-06-08 02:22:42,917 INFO sqlalchemy.engine.Engine PRAGMA temp.foreign_key_list(\"melbourn\")\n",
            "2022-06-08 02:22:42,919 INFO sqlalchemy.engine.Engine [raw sql] ()\n",
            "2022-06-08 02:22:42,921 INFO sqlalchemy.engine.Engine SELECT sql FROM  (SELECT * FROM sqlite_master UNION ALL   SELECT * FROM sqlite_temp_master) WHERE name = ? AND type = 'table'\n",
            "2022-06-08 02:22:42,923 INFO sqlalchemy.engine.Engine [raw sql] ('melbourn',)\n",
            "2022-06-08 02:22:42,925 INFO sqlalchemy.engine.Engine PRAGMA main.index_list(\"melbourn\")\n",
            "2022-06-08 02:22:42,926 INFO sqlalchemy.engine.Engine [raw sql] ()\n",
            "2022-06-08 02:22:42,929 INFO sqlalchemy.engine.Engine PRAGMA main.index_info(\"ix_melbourn_index\")\n",
            "2022-06-08 02:22:42,930 INFO sqlalchemy.engine.Engine [raw sql] ()\n",
            "2022-06-08 02:22:42,933 INFO sqlalchemy.engine.Engine PRAGMA main.index_list(\"melbourn\")\n",
            "2022-06-08 02:22:42,935 INFO sqlalchemy.engine.Engine [raw sql] ()\n",
            "2022-06-08 02:22:42,937 INFO sqlalchemy.engine.Engine PRAGMA main.index_info(\"ix_melbourn_index\")\n",
            "2022-06-08 02:22:42,939 INFO sqlalchemy.engine.Engine [raw sql] ()\n",
            "2022-06-08 02:22:42,941 INFO sqlalchemy.engine.Engine SELECT sql FROM  (SELECT * FROM sqlite_master UNION ALL   SELECT * FROM sqlite_temp_master) WHERE name = ? AND type = 'table'\n",
            "2022-06-08 02:22:42,943 INFO sqlalchemy.engine.Engine [raw sql] ('melbourn',)\n",
            "2022-06-08 02:22:42,946 INFO sqlalchemy.engine.Engine BEGIN (implicit)\n",
            "2022-06-08 02:22:42,949 INFO sqlalchemy.engine.Engine \n",
            "DROP TABLE melbourn\n",
            "2022-06-08 02:22:42,951 INFO sqlalchemy.engine.Engine [no key 0.00176s] ()\n",
            "2022-06-08 02:22:43,015 INFO sqlalchemy.engine.Engine COMMIT\n",
            "2022-06-08 02:22:43,022 INFO sqlalchemy.engine.Engine BEGIN (implicit)\n",
            "2022-06-08 02:22:43,026 INFO sqlalchemy.engine.Engine \n",
            "CREATE TABLE melbourn (\n",
            "\t\"index\" BIGINT, \n",
            "\t\"Suburb\" TEXT, \n",
            "\t\"Address\" TEXT, \n",
            "\t\"Rooms\" BIGINT, \n",
            "\t\"Type\" TEXT, \n",
            "\t\"Price\" FLOAT, \n",
            "\t\"Method\" TEXT, \n",
            "\t\"SellerG\" TEXT, \n",
            "\t\"Date\" TEXT, \n",
            "\t\"Distance\" FLOAT, \n",
            "\t\"Postcode\" FLOAT, \n",
            "\t\"Bedroom2\" FLOAT, \n",
            "\t\"Bathroom\" FLOAT, \n",
            "\t\"Car\" FLOAT, \n",
            "\t\"Landsize\" FLOAT, \n",
            "\t\"BuildingArea\" FLOAT, \n",
            "\t\"YearBuilt\" FLOAT, \n",
            "\t\"CouncilArea\" TEXT, \n",
            "\t\"Lattitude\" FLOAT, \n",
            "\t\"Longtitude\" FLOAT, \n",
            "\t\"Regionname\" TEXT, \n",
            "\t\"Propertycount\" FLOAT\n",
            ")\n",
            "\n",
            "\n",
            "2022-06-08 02:22:43,031 INFO sqlalchemy.engine.Engine [no key 0.00473s] ()\n",
            "2022-06-08 02:22:43,047 INFO sqlalchemy.engine.Engine CREATE INDEX ix_melbourn_index ON melbourn (\"index\")\n",
            "2022-06-08 02:22:43,050 INFO sqlalchemy.engine.Engine [no key 0.00291s] ()\n",
            "2022-06-08 02:22:43,063 INFO sqlalchemy.engine.Engine COMMIT\n",
            "2022-06-08 02:22:43,097 INFO sqlalchemy.engine.Engine BEGIN (implicit)\n",
            "2022-06-08 02:22:43,596 INFO sqlalchemy.engine.Engine INSERT INTO melbourn (\"index\", \"Suburb\", \"Address\", \"Rooms\", \"Type\", \"Price\", \"Method\", \"SellerG\", \"Date\", \"Distance\", \"Postcode\", \"Bedroom2\", \"Bathroom\", \"Car\", \"Landsize\", \"BuildingArea\", \"YearBuilt\", \"CouncilArea\", \"Lattitude\", \"Longtitude\", \"Regionname\", \"Propertycount\") VALUES (?, ?, ?, ?, ?, ?, ?, ?, ?, ?, ?, ?, ?, ?, ?, ?, ?, ?, ?, ?, ?, ?)\n",
            "2022-06-08 02:22:43,603 INFO sqlalchemy.engine.Engine [generated in 0.44749s] ((0, 'Abbotsford', '85 Turner St', 2, 'h', 1480000.0, 'S', 'Biggin', '3/12/2016', 2.5, 3067.0, 2.0, 1.0, 1.0, 202.0, None, None, 'Yarra', -37.7996, 144.9984, 'Northern Metropolitan', 4019.0), (1, 'Abbotsford', '25 Bloomburg St', 2, 'h', 1035000.0, 'S', 'Biggin', '4/02/2016', 2.5, 3067.0, 2.0, 1.0, 0.0, 156.0, 79.0, 1900.0, 'Yarra', -37.8079, 144.9934, 'Northern Metropolitan', 4019.0), (2, 'Abbotsford', '5 Charles St', 3, 'h', 1465000.0, 'SP', 'Biggin', '4/03/2017', 2.5, 3067.0, 3.0, 2.0, 0.0, 134.0, 150.0, 1900.0, 'Yarra', -37.8093, 144.9944, 'Northern Metropolitan', 4019.0), (3, 'Abbotsford', '40 Federation La', 3, 'h', 850000.0, 'PI', 'Biggin', '4/03/2017', 2.5, 3067.0, 3.0, 2.0, 1.0, 94.0, None, None, 'Yarra', -37.7969, 144.9969, 'Northern Metropolitan', 4019.0), (4, 'Abbotsford', '55a Park St', 4, 'h', 1600000.0, 'VB', 'Nelson', '4/06/2016', 2.5, 3067.0, 3.0, 1.0, 2.0, 120.0, 142.0, 2014.0, 'Yarra', -37.8072, 144.9941, 'Northern Metropolitan', 4019.0), (5, 'Abbotsford', '129 Charles St', 2, 'h', 941000.0, 'S', 'Jellis', '7/05/2016', 2.5, 3067.0, 2.0, 1.0, 0.0, 181.0, None, None, 'Yarra', -37.8041, 144.9953, 'Northern Metropolitan', 4019.0), (6, 'Abbotsford', '124 Yarra St', 3, 'h', 1876000.0, 'S', 'Nelson', '7/05/2016', 2.5, 3067.0, 4.0, 2.0, 0.0, 245.0, 210.0, 1910.0, 'Yarra', -37.8024, 144.9993, 'Northern Metropolitan', 4019.0), (7, 'Abbotsford', '98 Charles St', 2, 'h', 1636000.0, 'S', 'Nelson', '8/10/2016', 2.5, 3067.0, 2.0, 1.0, 2.0, 256.0, 107.0, 1890.0, 'Yarra', -37.806, 144.9954, 'Northern Metropolitan', 4019.0)  ... displaying 10 of 13580 total bound parameter sets ...  (13578, 'Williamstown', '96 Verdon St', 4, 'h', 2500000.0, 'PI', 'Sweeney', '26/08/2017', 6.8, 3016.0, 4.0, 1.0, 5.0, 866.0, 157.0, 1920.0, None, -37.85908, 144.89299, 'Western Metropolitan', 6380.0), (13579, 'Yarraville', '6 Agnes St', 4, 'h', 1285000.0, 'SP', 'Village', '26/08/2017', 6.3, 3013.0, 4.0, 1.0, 1.0, 362.0, 112.0, 1920.0, None, -37.81188, 144.88449, 'Western Metropolitan', 6543.0))\n",
            "2022-06-08 02:22:43,719 INFO sqlalchemy.engine.Engine COMMIT\n"
          ]
        }
      ]
    },
    {
      "cell_type": "code",
      "source": [
        "from google.colab import drive\n",
        "drive.mount('/content/drive')"
      ],
      "metadata": {
        "id": "1euTn05OMWtg",
        "colab": {
          "base_uri": "https://localhost:8080/"
        },
        "outputId": "b4c7eba0-d5e5-492b-cc5b-186576665af6"
      },
      "id": "1euTn05OMWtg",
      "execution_count": 145,
      "outputs": [
        {
          "output_type": "stream",
          "name": "stdout",
          "text": [
            "Drive already mounted at /content/drive; to attempt to forcibly remount, call drive.mount(\"/content/drive\", force_remount=True).\n"
          ]
        }
      ]
    },
    {
      "cell_type": "code",
      "source": [
        "#Aqui antes debemos subir el archivo generado en clase , el cual contiene los precios por codigos postal obtenido de la competencia de Kaggle\n",
        "airbnb_df = pd.read_csv(\n",
        "    '/content/airbnb_price_by_zipcode.csv')"
      ],
      "metadata": {
        "id": "0m1ExnWIOo0V",
        "colab": {
          "base_uri": "https://localhost:8080/",
          "height": 378
        },
        "outputId": "e7593d9e-f5de-4fc2-8019-5e61aa53487e"
      },
      "id": "0m1ExnWIOo0V",
      "execution_count": 147,
      "outputs": [
        {
          "output_type": "error",
          "ename": "FileNotFoundError",
          "evalue": "ignored",
          "traceback": [
            "\u001b[0;31m---------------------------------------------------------------------------\u001b[0m",
            "\u001b[0;31mFileNotFoundError\u001b[0m                         Traceback (most recent call last)",
            "\u001b[0;32m<ipython-input-147-801f200ffc3f>\u001b[0m in \u001b[0;36m<module>\u001b[0;34m()\u001b[0m\n\u001b[1;32m      1\u001b[0m \u001b[0;31m#Aqui antes debemos subir el archivo generado en clase , el cual contiene los precios por codigos postal obtenido de la competencia de Kaggle\u001b[0m\u001b[0;34m\u001b[0m\u001b[0;34m\u001b[0m\u001b[0;34m\u001b[0m\u001b[0m\n\u001b[1;32m      2\u001b[0m airbnb_df = pd.read_csv(\n\u001b[0;32m----> 3\u001b[0;31m     '/content/airbnb_price_by_zipcode.csv')\n\u001b[0m",
            "\u001b[0;32m/usr/local/lib/python3.7/dist-packages/pandas/util/_decorators.py\u001b[0m in \u001b[0;36mwrapper\u001b[0;34m(*args, **kwargs)\u001b[0m\n\u001b[1;32m    309\u001b[0m                     \u001b[0mstacklevel\u001b[0m\u001b[0;34m=\u001b[0m\u001b[0mstacklevel\u001b[0m\u001b[0;34m,\u001b[0m\u001b[0;34m\u001b[0m\u001b[0;34m\u001b[0m\u001b[0m\n\u001b[1;32m    310\u001b[0m                 )\n\u001b[0;32m--> 311\u001b[0;31m             \u001b[0;32mreturn\u001b[0m \u001b[0mfunc\u001b[0m\u001b[0;34m(\u001b[0m\u001b[0;34m*\u001b[0m\u001b[0margs\u001b[0m\u001b[0;34m,\u001b[0m \u001b[0;34m**\u001b[0m\u001b[0mkwargs\u001b[0m\u001b[0;34m)\u001b[0m\u001b[0;34m\u001b[0m\u001b[0;34m\u001b[0m\u001b[0m\n\u001b[0m\u001b[1;32m    312\u001b[0m \u001b[0;34m\u001b[0m\u001b[0m\n\u001b[1;32m    313\u001b[0m         \u001b[0;32mreturn\u001b[0m \u001b[0mwrapper\u001b[0m\u001b[0;34m\u001b[0m\u001b[0;34m\u001b[0m\u001b[0m\n",
            "\u001b[0;32m/usr/local/lib/python3.7/dist-packages/pandas/io/parsers/readers.py\u001b[0m in \u001b[0;36mread_csv\u001b[0;34m(filepath_or_buffer, sep, delimiter, header, names, index_col, usecols, squeeze, prefix, mangle_dupe_cols, dtype, engine, converters, true_values, false_values, skipinitialspace, skiprows, skipfooter, nrows, na_values, keep_default_na, na_filter, verbose, skip_blank_lines, parse_dates, infer_datetime_format, keep_date_col, date_parser, dayfirst, cache_dates, iterator, chunksize, compression, thousands, decimal, lineterminator, quotechar, quoting, doublequote, escapechar, comment, encoding, encoding_errors, dialect, error_bad_lines, warn_bad_lines, on_bad_lines, delim_whitespace, low_memory, memory_map, float_precision, storage_options)\u001b[0m\n\u001b[1;32m    584\u001b[0m     \u001b[0mkwds\u001b[0m\u001b[0;34m.\u001b[0m\u001b[0mupdate\u001b[0m\u001b[0;34m(\u001b[0m\u001b[0mkwds_defaults\u001b[0m\u001b[0;34m)\u001b[0m\u001b[0;34m\u001b[0m\u001b[0;34m\u001b[0m\u001b[0m\n\u001b[1;32m    585\u001b[0m \u001b[0;34m\u001b[0m\u001b[0m\n\u001b[0;32m--> 586\u001b[0;31m     \u001b[0;32mreturn\u001b[0m \u001b[0m_read\u001b[0m\u001b[0;34m(\u001b[0m\u001b[0mfilepath_or_buffer\u001b[0m\u001b[0;34m,\u001b[0m \u001b[0mkwds\u001b[0m\u001b[0;34m)\u001b[0m\u001b[0;34m\u001b[0m\u001b[0;34m\u001b[0m\u001b[0m\n\u001b[0m\u001b[1;32m    587\u001b[0m \u001b[0;34m\u001b[0m\u001b[0m\n\u001b[1;32m    588\u001b[0m \u001b[0;34m\u001b[0m\u001b[0m\n",
            "\u001b[0;32m/usr/local/lib/python3.7/dist-packages/pandas/io/parsers/readers.py\u001b[0m in \u001b[0;36m_read\u001b[0;34m(filepath_or_buffer, kwds)\u001b[0m\n\u001b[1;32m    480\u001b[0m \u001b[0;34m\u001b[0m\u001b[0m\n\u001b[1;32m    481\u001b[0m     \u001b[0;31m# Create the parser.\u001b[0m\u001b[0;34m\u001b[0m\u001b[0;34m\u001b[0m\u001b[0;34m\u001b[0m\u001b[0m\n\u001b[0;32m--> 482\u001b[0;31m     \u001b[0mparser\u001b[0m \u001b[0;34m=\u001b[0m \u001b[0mTextFileReader\u001b[0m\u001b[0;34m(\u001b[0m\u001b[0mfilepath_or_buffer\u001b[0m\u001b[0;34m,\u001b[0m \u001b[0;34m**\u001b[0m\u001b[0mkwds\u001b[0m\u001b[0;34m)\u001b[0m\u001b[0;34m\u001b[0m\u001b[0;34m\u001b[0m\u001b[0m\n\u001b[0m\u001b[1;32m    483\u001b[0m \u001b[0;34m\u001b[0m\u001b[0m\n\u001b[1;32m    484\u001b[0m     \u001b[0;32mif\u001b[0m \u001b[0mchunksize\u001b[0m \u001b[0;32mor\u001b[0m \u001b[0miterator\u001b[0m\u001b[0;34m:\u001b[0m\u001b[0;34m\u001b[0m\u001b[0;34m\u001b[0m\u001b[0m\n",
            "\u001b[0;32m/usr/local/lib/python3.7/dist-packages/pandas/io/parsers/readers.py\u001b[0m in \u001b[0;36m__init__\u001b[0;34m(self, f, engine, **kwds)\u001b[0m\n\u001b[1;32m    809\u001b[0m             \u001b[0mself\u001b[0m\u001b[0;34m.\u001b[0m\u001b[0moptions\u001b[0m\u001b[0;34m[\u001b[0m\u001b[0;34m\"has_index_names\"\u001b[0m\u001b[0;34m]\u001b[0m \u001b[0;34m=\u001b[0m \u001b[0mkwds\u001b[0m\u001b[0;34m[\u001b[0m\u001b[0;34m\"has_index_names\"\u001b[0m\u001b[0;34m]\u001b[0m\u001b[0;34m\u001b[0m\u001b[0;34m\u001b[0m\u001b[0m\n\u001b[1;32m    810\u001b[0m \u001b[0;34m\u001b[0m\u001b[0m\n\u001b[0;32m--> 811\u001b[0;31m         \u001b[0mself\u001b[0m\u001b[0;34m.\u001b[0m\u001b[0m_engine\u001b[0m \u001b[0;34m=\u001b[0m \u001b[0mself\u001b[0m\u001b[0;34m.\u001b[0m\u001b[0m_make_engine\u001b[0m\u001b[0;34m(\u001b[0m\u001b[0mself\u001b[0m\u001b[0;34m.\u001b[0m\u001b[0mengine\u001b[0m\u001b[0;34m)\u001b[0m\u001b[0;34m\u001b[0m\u001b[0;34m\u001b[0m\u001b[0m\n\u001b[0m\u001b[1;32m    812\u001b[0m \u001b[0;34m\u001b[0m\u001b[0m\n\u001b[1;32m    813\u001b[0m     \u001b[0;32mdef\u001b[0m \u001b[0mclose\u001b[0m\u001b[0;34m(\u001b[0m\u001b[0mself\u001b[0m\u001b[0;34m)\u001b[0m\u001b[0;34m:\u001b[0m\u001b[0;34m\u001b[0m\u001b[0;34m\u001b[0m\u001b[0m\n",
            "\u001b[0;32m/usr/local/lib/python3.7/dist-packages/pandas/io/parsers/readers.py\u001b[0m in \u001b[0;36m_make_engine\u001b[0;34m(self, engine)\u001b[0m\n\u001b[1;32m   1038\u001b[0m             )\n\u001b[1;32m   1039\u001b[0m         \u001b[0;31m# error: Too many arguments for \"ParserBase\"\u001b[0m\u001b[0;34m\u001b[0m\u001b[0;34m\u001b[0m\u001b[0;34m\u001b[0m\u001b[0m\n\u001b[0;32m-> 1040\u001b[0;31m         \u001b[0;32mreturn\u001b[0m \u001b[0mmapping\u001b[0m\u001b[0;34m[\u001b[0m\u001b[0mengine\u001b[0m\u001b[0;34m]\u001b[0m\u001b[0;34m(\u001b[0m\u001b[0mself\u001b[0m\u001b[0;34m.\u001b[0m\u001b[0mf\u001b[0m\u001b[0;34m,\u001b[0m \u001b[0;34m**\u001b[0m\u001b[0mself\u001b[0m\u001b[0;34m.\u001b[0m\u001b[0moptions\u001b[0m\u001b[0;34m)\u001b[0m  \u001b[0;31m# type: ignore[call-arg]\u001b[0m\u001b[0;34m\u001b[0m\u001b[0;34m\u001b[0m\u001b[0m\n\u001b[0m\u001b[1;32m   1041\u001b[0m \u001b[0;34m\u001b[0m\u001b[0m\n\u001b[1;32m   1042\u001b[0m     \u001b[0;32mdef\u001b[0m \u001b[0m_failover_to_python\u001b[0m\u001b[0;34m(\u001b[0m\u001b[0mself\u001b[0m\u001b[0;34m)\u001b[0m\u001b[0;34m:\u001b[0m\u001b[0;34m\u001b[0m\u001b[0;34m\u001b[0m\u001b[0m\n",
            "\u001b[0;32m/usr/local/lib/python3.7/dist-packages/pandas/io/parsers/c_parser_wrapper.py\u001b[0m in \u001b[0;36m__init__\u001b[0;34m(self, src, **kwds)\u001b[0m\n\u001b[1;32m     49\u001b[0m \u001b[0;34m\u001b[0m\u001b[0m\n\u001b[1;32m     50\u001b[0m         \u001b[0;31m# open handles\u001b[0m\u001b[0;34m\u001b[0m\u001b[0;34m\u001b[0m\u001b[0;34m\u001b[0m\u001b[0m\n\u001b[0;32m---> 51\u001b[0;31m         \u001b[0mself\u001b[0m\u001b[0;34m.\u001b[0m\u001b[0m_open_handles\u001b[0m\u001b[0;34m(\u001b[0m\u001b[0msrc\u001b[0m\u001b[0;34m,\u001b[0m \u001b[0mkwds\u001b[0m\u001b[0;34m)\u001b[0m\u001b[0;34m\u001b[0m\u001b[0;34m\u001b[0m\u001b[0m\n\u001b[0m\u001b[1;32m     52\u001b[0m         \u001b[0;32massert\u001b[0m \u001b[0mself\u001b[0m\u001b[0;34m.\u001b[0m\u001b[0mhandles\u001b[0m \u001b[0;32mis\u001b[0m \u001b[0;32mnot\u001b[0m \u001b[0;32mNone\u001b[0m\u001b[0;34m\u001b[0m\u001b[0;34m\u001b[0m\u001b[0m\n\u001b[1;32m     53\u001b[0m \u001b[0;34m\u001b[0m\u001b[0m\n",
            "\u001b[0;32m/usr/local/lib/python3.7/dist-packages/pandas/io/parsers/base_parser.py\u001b[0m in \u001b[0;36m_open_handles\u001b[0;34m(self, src, kwds)\u001b[0m\n\u001b[1;32m    227\u001b[0m             \u001b[0mmemory_map\u001b[0m\u001b[0;34m=\u001b[0m\u001b[0mkwds\u001b[0m\u001b[0;34m.\u001b[0m\u001b[0mget\u001b[0m\u001b[0;34m(\u001b[0m\u001b[0;34m\"memory_map\"\u001b[0m\u001b[0;34m,\u001b[0m \u001b[0;32mFalse\u001b[0m\u001b[0;34m)\u001b[0m\u001b[0;34m,\u001b[0m\u001b[0;34m\u001b[0m\u001b[0;34m\u001b[0m\u001b[0m\n\u001b[1;32m    228\u001b[0m             \u001b[0mstorage_options\u001b[0m\u001b[0;34m=\u001b[0m\u001b[0mkwds\u001b[0m\u001b[0;34m.\u001b[0m\u001b[0mget\u001b[0m\u001b[0;34m(\u001b[0m\u001b[0;34m\"storage_options\"\u001b[0m\u001b[0;34m,\u001b[0m \u001b[0;32mNone\u001b[0m\u001b[0;34m)\u001b[0m\u001b[0;34m,\u001b[0m\u001b[0;34m\u001b[0m\u001b[0;34m\u001b[0m\u001b[0m\n\u001b[0;32m--> 229\u001b[0;31m             \u001b[0merrors\u001b[0m\u001b[0;34m=\u001b[0m\u001b[0mkwds\u001b[0m\u001b[0;34m.\u001b[0m\u001b[0mget\u001b[0m\u001b[0;34m(\u001b[0m\u001b[0;34m\"encoding_errors\"\u001b[0m\u001b[0;34m,\u001b[0m \u001b[0;34m\"strict\"\u001b[0m\u001b[0;34m)\u001b[0m\u001b[0;34m,\u001b[0m\u001b[0;34m\u001b[0m\u001b[0;34m\u001b[0m\u001b[0m\n\u001b[0m\u001b[1;32m    230\u001b[0m         )\n\u001b[1;32m    231\u001b[0m \u001b[0;34m\u001b[0m\u001b[0m\n",
            "\u001b[0;32m/usr/local/lib/python3.7/dist-packages/pandas/io/common.py\u001b[0m in \u001b[0;36mget_handle\u001b[0;34m(path_or_buf, mode, encoding, compression, memory_map, is_text, errors, storage_options)\u001b[0m\n\u001b[1;32m    705\u001b[0m                 \u001b[0mencoding\u001b[0m\u001b[0;34m=\u001b[0m\u001b[0mioargs\u001b[0m\u001b[0;34m.\u001b[0m\u001b[0mencoding\u001b[0m\u001b[0;34m,\u001b[0m\u001b[0;34m\u001b[0m\u001b[0;34m\u001b[0m\u001b[0m\n\u001b[1;32m    706\u001b[0m                 \u001b[0merrors\u001b[0m\u001b[0;34m=\u001b[0m\u001b[0merrors\u001b[0m\u001b[0;34m,\u001b[0m\u001b[0;34m\u001b[0m\u001b[0;34m\u001b[0m\u001b[0m\n\u001b[0;32m--> 707\u001b[0;31m                 \u001b[0mnewline\u001b[0m\u001b[0;34m=\u001b[0m\u001b[0;34m\"\"\u001b[0m\u001b[0;34m,\u001b[0m\u001b[0;34m\u001b[0m\u001b[0;34m\u001b[0m\u001b[0m\n\u001b[0m\u001b[1;32m    708\u001b[0m             )\n\u001b[1;32m    709\u001b[0m         \u001b[0;32melse\u001b[0m\u001b[0;34m:\u001b[0m\u001b[0;34m\u001b[0m\u001b[0;34m\u001b[0m\u001b[0m\n",
            "\u001b[0;31mFileNotFoundError\u001b[0m: [Errno 2] No such file or directory: '/content/airbnb_price_by_zipcode.csv'"
          ]
        }
      ]
    },
    {
      "cell_type": "code",
      "source": [
        "airbnb_df.to_sql('airbnb', con=engine, if_exists=\"replace\")"
      ],
      "metadata": {
        "id": "c-5v9kpSPHPc"
      },
      "id": "c-5v9kpSPHPc",
      "execution_count": null,
      "outputs": []
    },
    {
      "cell_type": "markdown",
      "source": [
        "3. *Implementar consultas en SQL que respondan con la siguiente información:\n",
        "Cantidad de registros totales por ciudad. Cantidad de registros totales por barrio y ciudad.*"
      ],
      "metadata": {
        "id": "I5LdrwVtQGBW"
      },
      "id": "I5LdrwVtQGBW"
    },
    {
      "cell_type": "code",
      "source": [
        "query1 = 'SELECT COUNT(1) , CouncilArea FROM melbourn GROUP BY CouncilArea '\n",
        "query2 = 'SELECT COUNT(1) ,  Suburb, CouncilArea FROM melbourn GROUP BY Suburb, CouncilArea '\n",
        "\n",
        "queries = [query1, query2]"
      ],
      "metadata": {
        "id": "xiInjSn6Q49O"
      },
      "id": "xiInjSn6Q49O",
      "execution_count": null,
      "outputs": []
    },
    {
      "cell_type": "code",
      "source": [
        "with engine.connect() as con:\n",
        "    for query in queries:\n",
        "      rs = con.execute(query)\n",
        "      print(query)\n",
        "      for row in rs:\n",
        "          print(row)\n",
        "\n",
        "      print('\\n\\n')"
      ],
      "metadata": {
        "id": "NMSnEWcATbcN"
      },
      "id": "NMSnEWcATbcN",
      "execution_count": null,
      "outputs": []
    },
    {
      "cell_type": "markdown",
      "source": [
        "4. *Combinar los datasets de ambas tablas ingestadas utilizando el comando JOIN de SQL para obtener un resultado similar a lo realizado con Pandas en clase.*"
      ],
      "metadata": {
        "id": "cRkBgUsXilX2"
      },
      "id": "cRkBgUsXilX2"
    },
    {
      "cell_type": "code",
      "source": [
        "query3= 'SELECT Suburb, Address, Rooms, Type, Price, Method, SellerG,Date, Distance, Postcode, Bedroom2, Bathroom, Car,  Landsize, BuildingArea, YearBuilt, CouncilArea, Lattitude,  Longtitude, Regionname, Propertycount, zipcode, airbnb_price_mean, airbnb_record_count, airbnb_weekly_price_mean, airbnb_monthly_price_mean FROM melbourn  LEFT JOIN airbnb on melbourn.Postcode=airbnb.zipcode'\n",
        "\n",
        "with engine.connect() as con:\n",
        "      rs = con.execute(query3)\n",
        "      print(query)\n",
        "      for row in rs:\n",
        "          print(row)\n",
        "\n",
        "      print('\\n\\n')\n"
      ],
      "metadata": {
        "id": "RkMDJsVmitss"
      },
      "id": "RkMDJsVmitss",
      "execution_count": null,
      "outputs": []
    },
    {
      "cell_type": "markdown",
      "source": [
        "# Ejercicio 2 Resolución"
      ],
      "metadata": {
        "id": "HtczWTeqk0Zd"
      },
      "id": "HtczWTeqk0Zd"
    },
    {
      "cell_type": "markdown",
      "source": [
        " 1. Seleccionar un subconjunto de columnas que les parezcan relevantes al problema de predicción del valor de la propiedad. Justificar las columnas seleccionadas y las que no lo fueron.\n",
        " \n"
      ],
      "metadata": {
        "id": "CHSMUUeelCBz"
      },
      "id": "CHSMUUeelCBz"
    },
    {
      "cell_type": "markdown",
      "source": [
        "## Eliminar los valores extremos que no sean relevantes para la predicción de valores de las propiedades."
      ],
      "metadata": {
        "id": "waRr366T_RV_"
      },
      "id": "waRr366T_RV_"
    },
    {
      "cell_type": "code",
      "source": [
        "import matplotlib.pyplot as plt\n",
        "import seaborn as sns\n",
        "sns.set_context('talk')\n",
        "import plotly.express as px\n",
        "import numpy\n",
        "import pandas\n",
        "\n",
        "from plotly.offline import download_plotlyjs, init_notebook_mode, plot, iplot\n",
        "init_notebook_mode(connected=True)\n",
        "\n",
        "%matplotlib inline"
      ],
      "metadata": {
        "colab": {
          "base_uri": "https://localhost:8080/",
          "height": 17
        },
        "id": "tzq2nF2-p63Z",
        "outputId": "81b90068-a362-4236-e90d-dc247ac0bf62"
      },
      "id": "tzq2nF2-p63Z",
      "execution_count": 152,
      "outputs": [
        {
          "output_type": "display_data",
          "data": {
            "text/html": [
              "        <script type=\"text/javascript\">\n",
              "        window.PlotlyConfig = {MathJaxConfig: 'local'};\n",
              "        if (window.MathJax) {MathJax.Hub.Config({SVG: {font: \"STIX-Web\"}});}\n",
              "        if (typeof require !== 'undefined') {\n",
              "        require.undef(\"plotly\");\n",
              "        requirejs.config({\n",
              "            paths: {\n",
              "                'plotly': ['https://cdn.plot.ly/plotly-2.8.3.min']\n",
              "            }\n",
              "        });\n",
              "        require(['plotly'], function(Plotly) {\n",
              "            window._Plotly = Plotly;\n",
              "        });\n",
              "        }\n",
              "        </script>\n",
              "        "
            ]
          },
          "metadata": {}
        }
      ]
    },
    {
      "cell_type": "markdown",
      "source": [
        "Nos debemos centrar en la tarea de estimar el precio de cada propiedad, para ellos debemos conocer las caracteristicas de las mismas y el primer paso a realizar es una exploración de los datos y las distribuciones de sus variables, concocer si estas variables tienen nulos o valor cero, si esto es esperable o no, a los fines de conocer si son validas o no para ser elegidas para mi data set. Se aclara lo siguiente:\n",
        "\n",
        "|melb_df | Contiene los datos de Melbourn melb_data.csv|\n",
        "|--------|---------------------------------|\n",
        "|airbnb_df | Contiene los datos de Airbnb |\n"
      ],
      "metadata": {
        "id": "npa-kCmZvnN_"
      },
      "id": "npa-kCmZvnN_"
    },
    {
      "cell_type": "code",
      "source": [
        "#seteamos visualizacion \n",
        "pd.options.display.float_format = '{:.2f}'.format\n",
        "\n",
        "pd.set_option('display.float_format', lambda x: '%.2f' % x)"
      ],
      "metadata": {
        "id": "56JwIPH4qHlA"
      },
      "id": "56JwIPH4qHlA",
      "execution_count": 150,
      "outputs": []
    },
    {
      "cell_type": "code",
      "source": [
        "#melb_df.describe() solo muestra variables numéricas\n",
        "melb_df.info()"
      ],
      "metadata": {
        "id": "SMj30yvA3T5c",
        "colab": {
          "base_uri": "https://localhost:8080/"
        },
        "outputId": "274cb401-96eb-484f-9c9f-9c22872b1340"
      },
      "id": "SMj30yvA3T5c",
      "execution_count": 149,
      "outputs": [
        {
          "output_type": "stream",
          "name": "stdout",
          "text": [
            "<class 'pandas.core.frame.DataFrame'>\n",
            "RangeIndex: 13580 entries, 0 to 13579\n",
            "Data columns (total 21 columns):\n",
            " #   Column         Non-Null Count  Dtype  \n",
            "---  ------         --------------  -----  \n",
            " 0   Suburb         13580 non-null  object \n",
            " 1   Address        13580 non-null  object \n",
            " 2   Rooms          13580 non-null  int64  \n",
            " 3   Type           13580 non-null  object \n",
            " 4   Price          13580 non-null  float64\n",
            " 5   Method         13580 non-null  object \n",
            " 6   SellerG        13580 non-null  object \n",
            " 7   Date           13580 non-null  object \n",
            " 8   Distance       13580 non-null  float64\n",
            " 9   Postcode       13580 non-null  float64\n",
            " 10  Bedroom2       13580 non-null  float64\n",
            " 11  Bathroom       13580 non-null  float64\n",
            " 12  Car            13518 non-null  float64\n",
            " 13  Landsize       13580 non-null  float64\n",
            " 14  BuildingArea   7130 non-null   float64\n",
            " 15  YearBuilt      8205 non-null   float64\n",
            " 16  CouncilArea    12211 non-null  object \n",
            " 17  Lattitude      13580 non-null  float64\n",
            " 18  Longtitude     13580 non-null  float64\n",
            " 19  Regionname     13580 non-null  object \n",
            " 20  Propertycount  13580 non-null  float64\n",
            "dtypes: float64(12), int64(1), object(8)\n",
            "memory usage: 2.2+ MB\n"
          ]
        }
      ]
    },
    {
      "cell_type": "markdown",
      "source": [
        "### Valores faltantes\n",
        "Las siguientes variables tienen datos faltantes:\n",
        "\n",
        "\n",
        "*   *YearBuilt*\n",
        "*   *BuildingArea*\n",
        "*   *CouncilArea*\n",
        "*   *Car*\n",
        "\n"
      ],
      "metadata": {
        "id": "rDzdQOe0oeS-"
      },
      "id": "rDzdQOe0oeS-"
    },
    {
      "cell_type": "code",
      "source": [
        "plt.figure(figsize=(25,25))\n",
        "seaborn.displot(\n",
        "    data=melb_df.isna().melt(value_name=\"missing\"),\n",
        "    y=\"variable\",\n",
        "    hue=\"missing\",\n",
        "    palette = \"colorblind\",\n",
        "    multiple=\"fill\",\n",
        "    aspect=1.25\n",
        ")"
      ],
      "metadata": {
        "id": "03uwKZvmnFZq"
      },
      "id": "03uwKZvmnFZq",
      "execution_count": null,
      "outputs": []
    },
    {
      "cell_type": "markdown",
      "source": [
        "### Valores cero\n",
        "Vemos  valores 0 en las columnas\n",
        "*  *Bedrooms2* \n",
        "*  *Bathroom* \n",
        "*  *Car* \n",
        "*  *Landsize* \n",
        "*  *BuildingArea*\n"
      ],
      "metadata": {
        "id": "77CD1rp_sdOR"
      },
      "id": "77CD1rp_sdOR"
    },
    {
      "cell_type": "code",
      "source": [
        "min_values = melb_df.describe().loc['min']\n",
        "min_values.sort_values()"
      ],
      "metadata": {
        "colab": {
          "base_uri": "https://localhost:8080/"
        },
        "id": "6_lnqgjIq5bc",
        "outputId": "80dccef1-e9f4-4e9e-fd5c-6cec1fdf84b5"
      },
      "id": "6_lnqgjIq5bc",
      "execution_count": 153,
      "outputs": [
        {
          "output_type": "execute_result",
          "data": {
            "text/plain": [
              "Lattitude         -38.18\n",
              "Distance            0.00\n",
              "Bedroom2            0.00\n",
              "Bathroom            0.00\n",
              "Car                 0.00\n",
              "Landsize            0.00\n",
              "BuildingArea        0.00\n",
              "Rooms               1.00\n",
              "Longtitude        144.43\n",
              "Propertycount     249.00\n",
              "YearBuilt        1196.00\n",
              "Postcode         3000.00\n",
              "Price           85000.00\n",
              "Name: min, dtype: float64"
            ]
          },
          "metadata": {},
          "execution_count": 153
        }
      ]
    },
    {
      "cell_type": "markdown",
      "source": [
        "Estos puede haber sido por causado por una mala recoleccion de datos, o falta de datos.  Recordemos que tenemos 13580 casos, por lo cual hay variables con una cantidad muy chica de ceros, y otras con una cantidad importante. La pregunta a responder es: Son estos ceros valores posibles de la variable o datos faltantes codificados asi?.*\n",
        "\n",
        "*Parece que hay variables con valores faltantes, que han sido reconocidos por pandas como NaN, y valores 0 que podrían ser tambien datos faltantes.*\n",
        "\n",
        "\n",
        "*En esta muestra vemos las variables Landsize, BuildingArea, YearBuilt. con problemas potenciales*\n",
        "\n",
        "*Landsize tiene valores 0.*\n",
        "\n",
        "*BuildingArea y YearBuilt tienen NaN*"
      ],
      "metadata": {
        "id": "kL5lUxwCqgpp"
      },
      "id": "kL5lUxwCqgpp"
    },
    {
      "cell_type": "code",
      "source": [
        "cols = melb_df[melb_df == 0].count(axis=0)\n",
        "ds = cols[cols > 0]\n",
        "ds"
      ],
      "metadata": {
        "colab": {
          "base_uri": "https://localhost:8080/"
        },
        "id": "7FqQ_MlcrlEB",
        "outputId": "87cfccdb-31e1-4c64-c1e2-b19050d1161c"
      },
      "id": "7FqQ_MlcrlEB",
      "execution_count": 154,
      "outputs": [
        {
          "output_type": "execute_result",
          "data": {
            "text/plain": [
              "Distance           6\n",
              "Bedroom2          16\n",
              "Bathroom          34\n",
              "Car             1026\n",
              "Landsize        1939\n",
              "BuildingArea      17\n",
              "dtype: int64"
            ]
          },
          "metadata": {},
          "execution_count": 154
        }
      ]
    },
    {
      "cell_type": "markdown",
      "source": [
        "\n",
        "\n",
        "---\n",
        "### Selección de variables\n"
      ],
      "metadata": {
        "id": "lEnmgh1-u8w3"
      },
      "id": "lEnmgh1-u8w3"
    },
    {
      "cell_type": "markdown",
      "source": [
        "Vamos a trabajar con las variables **Rooms**, **Bathroom**, **Car**, **Type**, **Regionname**, **BuildingArea**, **Method**, **Landsize**, relacionada con la variable a predecir: **Price**. \n",
        "\n",
        "\n",
        "Para comenzar analizamos aquellas variables que describen la propiedad por si misma, de acuerdo a sus caracteristicas y considerando algunos aspectos esperados. Por ejemplo si el tipo de casa es `h` (*house*) se espera que tenga por lo menos 1 baño (*bathroom*), dormitorio (*bedroom2*) o 1 ambiente(*rooms*)."
      ],
      "metadata": {
        "id": "PadnPVHIu4lw"
      },
      "id": "PadnPVHIu4lw"
    },
    {
      "cell_type": "code",
      "source": [
        "interesting_variables = ['Rooms', 'Car', 'Type', 'Regionname', 'BuildingArea', 'Method', 'Landsize']"
      ],
      "metadata": {
        "id": "sSpFPB0ZvGen"
      },
      "id": "sSpFPB0ZvGen",
      "execution_count": 155,
      "outputs": []
    },
    {
      "cell_type": "code",
      "source": [
        "seaborn.pairplot(data=melb_df,\n",
        "                 y_vars=['Bedroom2', 'Rooms'],\n",
        "                 x_vars=['Bathroom', 'Rooms'],\n",
        "                 aspect=2, height=3)"
      ],
      "metadata": {
        "colab": {
          "base_uri": "https://localhost:8080/",
          "height": 462
        },
        "id": "ogQ2FA_4x4R1",
        "outputId": "7dd4c60f-303c-4f5e-878f-78b970ccdc65"
      },
      "id": "ogQ2FA_4x4R1",
      "execution_count": 156,
      "outputs": [
        {
          "output_type": "execute_result",
          "data": {
            "text/plain": [
              "<seaborn.axisgrid.PairGrid at 0x7fd65c4fc390>"
            ]
          },
          "metadata": {},
          "execution_count": 156
        },
        {
          "output_type": "display_data",
          "data": {
            "text/plain": [
              "<Figure size 864x432 with 5 Axes>"
            ],
            "image/png": "[encoded data removed]"
          },
          "metadata": {
            "needs_background": "light"
          }
        }
      ]
    },
    {
      "cell_type": "markdown",
      "source": [
        "Se puede observar un caso con 20 habitaciones (**Bedroom**), 1 baño (**Bathroom**) y 3 habitaciones (**Room**), lo cual es poco probable que sea asi, este caso nos estaria generando ruido."
      ],
      "metadata": {
        "id": "KPokOrZbG5Tm"
      },
      "id": "KPokOrZbG5Tm"
    },
    {
      "cell_type": "markdown",
      "source": [
        "Para la variable **Bedroom2**  vemos que existe una única ocurrencia para los valores **10** y **20**"
      ],
      "metadata": {
        "id": "stsQ9HL5IwPu"
      },
      "id": "stsQ9HL5IwPu"
    },
    {
      "cell_type": "code",
      "source": [
        "melb_df.Bedroom2.value_counts()"
      ],
      "metadata": {
        "colab": {
          "base_uri": "https://localhost:8080/"
        },
        "id": "u01bhVwsIljF",
        "outputId": "37b7d540-609d-489f-e3e9-3f5cc67376e1"
      },
      "id": "u01bhVwsIljF",
      "execution_count": 157,
      "outputs": [
        {
          "output_type": "execute_result",
          "data": {
            "text/plain": [
              "3.00     5896\n",
              "2.00     3737\n",
              "4.00     2601\n",
              "1.00      691\n",
              "5.00      556\n",
              "6.00       63\n",
              "0.00       16\n",
              "7.00       10\n",
              "8.00        5\n",
              "9.00        3\n",
              "20.00       1\n",
              "10.00       1\n",
              "Name: Bedroom2, dtype: int64"
            ]
          },
          "metadata": {},
          "execution_count": 157
        }
      ]
    },
    {
      "cell_type": "code",
      "source": [
        "fig, axes = plt.subplots(nrows=2, figsize=(16, 10))\n",
        "seaborn.countplot(data = melb_df[melb_df['Bedroom2'] <= 5.0], x = 'Bedroom2', ax = axes[0])\n",
        "\n",
        "seaborn.countplot(data = melb_df[melb_df['Bedroom2'] > 5.0], x = 'Bedroom2', ax = axes[1])"
      ],
      "metadata": {
        "colab": {
          "base_uri": "https://localhost:8080/",
          "height": 645
        },
        "id": "9FVFHK5xHluS",
        "outputId": "c170ef9e-80bf-4002-a90d-43a7bc93fbba"
      },
      "id": "9FVFHK5xHluS",
      "execution_count": 159,
      "outputs": [
        {
          "output_type": "execute_result",
          "data": {
            "text/plain": [
              "<matplotlib.axes._subplots.AxesSubplot at 0x7fd65c351d90>"
            ]
          },
          "metadata": {},
          "execution_count": 159
        },
        {
          "output_type": "display_data",
          "data": {
            "text/plain": [
              "<Figure size 1152x720 with 2 Axes>"
            ],
            "image/png": "[encoded data removed]"
          },
          "metadata": {
            "needs_background": "light"
          }
        }
      ]
    },
    {
      "cell_type": "markdown",
      "source": [
        "Considerando que la mediana de la variable **Bathroom** para aquellas propiedades que cumplen con `Bedroom2 == 2` tiene un valor de `1`, y que la media de `1.15`, podemos suponer que el valor de `20` es un error de carga, siendo que en realidad el valor es `2`"
      ],
      "metadata": {
        "id": "sRWBmQf8Ksv8"
      },
      "id": "sRWBmQf8Ksv8"
    },
    {
      "cell_type": "code",
      "source": [
        "melb_df[melb_df.Bedroom2 == 20]"
      ],
      "metadata": {
        "colab": {
          "base_uri": "https://localhost:8080/",
          "height": 191
        },
        "id": "yCE0hTuuLe8c",
        "outputId": "b357a0f9-0140-4563-a967-4e93b594c47e"
      },
      "id": "yCE0hTuuLe8c",
      "execution_count": 160,
      "outputs": [
        {
          "output_type": "execute_result",
          "data": {
            "text/plain": [
              "              Suburb      Address  Rooms Type      Price Method   SellerG  \\\n",
              "7404  Caulfield East  5 Grange Rd      3    h 1650000.00     PI  Woodards   \n",
              "\n",
              "           Date  Distance  Postcode  ...  Bathroom  Car  Landsize  \\\n",
              "7404  6/08/2016      9.30   3145.00  ...      1.00 2.00    875.00   \n",
              "\n",
              "      BuildingArea  YearBuilt  CouncilArea Lattitude  Longtitude  \\\n",
              "7404           NaN        NaN    Glen Eira    -37.88      145.05   \n",
              "\n",
              "                 Regionname Propertycount  \n",
              "7404  Southern Metropolitan        608.00  \n",
              "\n",
              "[1 rows x 21 columns]"
            ],
            "text/html": [
              "\n",
              "  <div id=\"df-c8c30004-079d-4f67-b59b-25aec6b12438\">\n",
              "    <div class=\"colab-df-container\">\n",
              "      <div>\n",
              "<style scoped>\n",
              "    .dataframe tbody tr th:only-of-type {\n",
              "        vertical-align: middle;\n",
              "    }\n",
              "\n",
              "    .dataframe tbody tr th {\n",
              "        vertical-align: top;\n",
              "    }\n",
              "\n",
              "    .dataframe thead th {\n",
              "        text-align: right;\n",
              "    }\n",
              "</style>\n",
              "<table border=\"1\" class=\"dataframe\">\n",
              "  <thead>\n",
              "    <tr style=\"text-align: right;\">\n",
              "      <th></th>\n",
              "      <th>Suburb</th>\n",
              "      <th>Address</th>\n",
              "      <th>Rooms</th>\n",
              "      <th>Type</th>\n",
              "      <th>Price</th>\n",
              "      <th>Method</th>\n",
              "      <th>SellerG</th>\n",
              "      <th>Date</th>\n",
              "      <th>Distance</th>\n",
              "      <th>Postcode</th>\n",
              "      <th>...</th>\n",
              "      <th>Bathroom</th>\n",
              "      <th>Car</th>\n",
              "      <th>Landsize</th>\n",
              "      <th>BuildingArea</th>\n",
              "      <th>YearBuilt</th>\n",
              "      <th>CouncilArea</th>\n",
              "      <th>Lattitude</th>\n",
              "      <th>Longtitude</th>\n",
              "      <th>Regionname</th>\n",
              "      <th>Propertycount</th>\n",
              "    </tr>\n",
              "  </thead>\n",
              "  <tbody>\n",
              "    <tr>\n",
              "      <th>7404</th>\n",
              "      <td>Caulfield East</td>\n",
              "      <td>5 Grange Rd</td>\n",
              "      <td>3</td>\n",
              "      <td>h</td>\n",
              "      <td>1650000.00</td>\n",
              "      <td>PI</td>\n",
              "      <td>Woodards</td>\n",
              "      <td>6/08/2016</td>\n",
              "      <td>9.30</td>\n",
              "      <td>3145.00</td>\n",
              "      <td>...</td>\n",
              "      <td>1.00</td>\n",
              "      <td>2.00</td>\n",
              "      <td>875.00</td>\n",
              "      <td>NaN</td>\n",
              "      <td>NaN</td>\n",
              "      <td>Glen Eira</td>\n",
              "      <td>-37.88</td>\n",
              "      <td>145.05</td>\n",
              "      <td>Southern Metropolitan</td>\n",
              "      <td>608.00</td>\n",
              "    </tr>\n",
              "  </tbody>\n",
              "</table>\n",
              "<p>1 rows × 21 columns</p>\n",
              "</div>\n",
              "      <button class=\"colab-df-convert\" onclick=\"convertToInteractive('df-c8c30004-079d-4f67-b59b-25aec6b12438')\"\n",
              "              title=\"Convert this dataframe to an interactive table.\"\n",
              "              style=\"display:none;\">\n",
              "        \n",
              "  <svg xmlns=\"http://www.w3.org/2000/svg\" height=\"24px\"viewBox=\"0 0 24 24\"\n",
              "       width=\"24px\">\n",
              "    <path d=\"M0 0h24v24H0V0z\" fill=\"none\"/>\n",
              "    <path d=\"M18.56 5.44l.94 2.06.94-2.06 2.06-.94-2.06-.94-.94-2.06-.94 2.06-2.06.94zm-11 1L8.5 8.5l.94-2.06 2.06-.94-2.06-.94L8.5 2.5l-.94 2.06-2.06.94zm10 10l.94 2.06.94-2.06 2.06-.94-2.06-.94-.94-2.06-.94 2.06-2.06.94z\"/><path d=\"M17.41 7.96l-1.37-1.37c-.4-.4-.92-.59-1.43-.59-.52 0-1.04.2-1.43.59L10.3 9.45l-7.72 7.72c-.78.78-.78 2.05 0 2.83L4 21.41c.39.39.9.59 1.41.59.51 0 1.02-.2 1.41-.59l7.78-7.78 2.81-2.81c.8-.78.8-2.07 0-2.86zM5.41 20L4 18.59l7.72-7.72 1.47 1.35L5.41 20z\"/>\n",
              "  </svg>\n",
              "      </button>\n",
              "      \n",
              "  <style>\n",
              "    .colab-df-container {\n",
              "      display:flex;\n",
              "      flex-wrap:wrap;\n",
              "      gap: 12px;\n",
              "    }\n",
              "\n",
              "    .colab-df-convert {\n",
              "      background-color: #E8F0FE;\n",
              "      border: none;\n",
              "      border-radius: 50%;\n",
              "      cursor: pointer;\n",
              "      display: none;\n",
              "      fill: #1967D2;\n",
              "      height: 32px;\n",
              "      padding: 0 0 0 0;\n",
              "      width: 32px;\n",
              "    }\n",
              "\n",
              "    .colab-df-convert:hover {\n",
              "      background-color: #E2EBFA;\n",
              "      box-shadow: 0px 1px 2px rgba(60, 64, 67, 0.3), 0px 1px 3px 1px rgba(60, 64, 67, 0.15);\n",
              "      fill: #174EA6;\n",
              "    }\n",
              "\n",
              "    [theme=dark] .colab-df-convert {\n",
              "      background-color: #3B4455;\n",
              "      fill: #D2E3FC;\n",
              "    }\n",
              "\n",
              "    [theme=dark] .colab-df-convert:hover {\n",
              "      background-color: #434B5C;\n",
              "      box-shadow: 0px 1px 3px 1px rgba(0, 0, 0, 0.15);\n",
              "      filter: drop-shadow(0px 1px 2px rgba(0, 0, 0, 0.3));\n",
              "      fill: #FFFFFF;\n",
              "    }\n",
              "  </style>\n",
              "\n",
              "      <script>\n",
              "        const buttonEl =\n",
              "          document.querySelector('#df-c8c30004-079d-4f67-b59b-25aec6b12438 button.colab-df-convert');\n",
              "        buttonEl.style.display =\n",
              "          google.colab.kernel.accessAllowed ? 'block' : 'none';\n",
              "\n",
              "        async function convertToInteractive(key) {\n",
              "          const element = document.querySelector('#df-c8c30004-079d-4f67-b59b-25aec6b12438');\n",
              "          const dataTable =\n",
              "            await google.colab.kernel.invokeFunction('convertToInteractive',\n",
              "                                                     [key], {});\n",
              "          if (!dataTable) return;\n",
              "\n",
              "          const docLinkHtml = 'Like what you see? Visit the ' +\n",
              "            '<a target=\"_blank\" href=https://colab.research.google.com/notebooks/data_table.ipynb>data table notebook</a>'\n",
              "            + ' to learn more about interactive tables.';\n",
              "          element.innerHTML = '';\n",
              "          dataTable['output_type'] = 'display_data';\n",
              "          await google.colab.output.renderOutput(dataTable, element);\n",
              "          const docLink = document.createElement('div');\n",
              "          docLink.innerHTML = docLinkHtml;\n",
              "          element.appendChild(docLink);\n",
              "        }\n",
              "      </script>\n",
              "    </div>\n",
              "  </div>\n",
              "  "
            ]
          },
          "metadata": {},
          "execution_count": 160
        }
      ]
    },
    {
      "cell_type": "code",
      "source": [
        "melb_df[melb_df.Bedroom2 == 2].Bathroom.describe()"
      ],
      "metadata": {
        "colab": {
          "base_uri": "https://localhost:8080/"
        },
        "id": "URsG_0g6LpFX",
        "outputId": "7a014013-f6a5-4096-b148-25a9d7f739f4"
      },
      "id": "URsG_0g6LpFX",
      "execution_count": 161,
      "outputs": [
        {
          "output_type": "execute_result",
          "data": {
            "text/plain": [
              "count   3737.00\n",
              "mean       1.15\n",
              "std        0.38\n",
              "min        0.00\n",
              "25%        1.00\n",
              "50%        1.00\n",
              "75%        1.00\n",
              "max        3.00\n",
              "Name: Bathroom, dtype: float64"
            ]
          },
          "metadata": {},
          "execution_count": 161
        }
      ]
    },
    {
      "cell_type": "markdown",
      "source": [
        "Por otro lado, la variable **Landsize** se encuentra alejada de la media y la mediana de aquellas propiedades que cumplen con `Bedroom2 == 2`. Particularmente también se encuentra por encima del 75% de los datos."
      ],
      "metadata": {
        "id": "cghhjBiyM-7E"
      },
      "id": "cghhjBiyM-7E"
    },
    {
      "cell_type": "code",
      "source": [
        "melb_df[melb_df.Bedroom2 == 2].Landsize.describe()"
      ],
      "metadata": {
        "colab": {
          "base_uri": "https://localhost:8080/"
        },
        "id": "gHAo1UAhMeLv",
        "outputId": "5fb670fa-8b3d-4896-c03d-76ea6e331196"
      },
      "id": "gHAo1UAhMeLv",
      "execution_count": 162,
      "outputs": [
        {
          "output_type": "execute_result",
          "data": {
            "text/plain": [
              "count    3737.00\n",
              "mean      419.87\n",
              "std      1450.74\n",
              "min         0.00\n",
              "25%         0.00\n",
              "50%       158.00\n",
              "75%       373.00\n",
              "max     37000.00\n",
              "Name: Landsize, dtype: float64"
            ]
          },
          "metadata": {},
          "execution_count": 162
        }
      ]
    },
    {
      "cell_type": "code",
      "source": [
        "#airbnb_df --> contien informacion del archivo airbnb_price_by_zipcode  \n",
        "#df_melbourn --> contiene informacion de melbourn\n",
        "seaborn.pairplot(data=melb_df,\n",
        "                 y_vars=['Car', 'Rooms'],\n",
        "                 x_vars=['Bedroom2', 'Rooms'],\n",
        "                 aspect=2, height=3)\n"
      ],
      "metadata": {
        "colab": {
          "base_uri": "https://localhost:8080/",
          "height": 462
        },
        "id": "KqJLjeR14Ek7",
        "outputId": "d394b3cd-f329-4f63-b089-97d75ef8c043"
      },
      "id": "KqJLjeR14Ek7",
      "execution_count": 163,
      "outputs": [
        {
          "output_type": "execute_result",
          "data": {
            "text/plain": [
              "<seaborn.axisgrid.PairGrid at 0x7fd65c2a2990>"
            ]
          },
          "metadata": {},
          "execution_count": 163
        },
        {
          "output_type": "display_data",
          "data": {
            "text/plain": [
              "<Figure size 864x432 with 5 Axes>"
            ],
            "image/png": "[encoded data removed]"
          },
          "metadata": {
            "needs_background": "light"
          }
        }
      ]
    },
    {
      "cell_type": "markdown",
      "source": [
        "Se puede observar que para **Bedroom2** tiene un caso con valor 20 con 2 cocheras y 3 rooms lo cual no es algo razonable, considerando que dicho dato fue obtenido a traves de otra fuente de datos, lo cual puede tener algun tipo de sesgo, por este motivo se dejara de lado esta variable del estudio de prediccion del precio.\n",
        "\n",
        "\n",
        "\n"
      ],
      "metadata": {
        "id": "UL_8fJ9nH5wW"
      },
      "id": "UL_8fJ9nH5wW"
    },
    {
      "cell_type": "code",
      "source": [
        "\n",
        "seaborn.pairplot(data=melb_df,\n",
        "                 y_vars=['BuildingArea', 'Price'],\n",
        "                 x_vars=['YearBuilt', 'Price'],\n",
        "                 aspect=2, height=3)"
      ],
      "metadata": {
        "colab": {
          "base_uri": "https://localhost:8080/",
          "height": 462
        },
        "id": "ZNTZgesp1SX1",
        "outputId": "3b06c41a-0485-4134-ee6e-4a97cbf36c4a"
      },
      "id": "ZNTZgesp1SX1",
      "execution_count": 164,
      "outputs": [
        {
          "output_type": "execute_result",
          "data": {
            "text/plain": [
              "<seaborn.axisgrid.PairGrid at 0x7fd65bdff6d0>"
            ]
          },
          "metadata": {},
          "execution_count": 164
        },
        {
          "output_type": "display_data",
          "data": {
            "text/plain": [
              "<Figure size 864x432 with 5 Axes>"
            ],
            "image/png": "[encoded data removed]"
          },
          "metadata": {
            "needs_background": "light"
          }
        }
      ]
    },
    {
      "cell_type": "code",
      "source": [
        "plt.figure(figsize=(15,10))\n",
        "plt.title('Price vs type')\n",
        "seaborn.boxplot(x=\"Type\", y=\"Price\",  data=melb_df)"
      ],
      "metadata": {
        "colab": {
          "base_uri": "https://localhost:8080/",
          "height": 665
        },
        "id": "3QHjZbm4BbyX",
        "outputId": "98458038-2940-4947-f30d-537431d1850e"
      },
      "id": "3QHjZbm4BbyX",
      "execution_count": 165,
      "outputs": [
        {
          "output_type": "execute_result",
          "data": {
            "text/plain": [
              "<matplotlib.axes._subplots.AxesSubplot at 0x7fd65bd71690>"
            ]
          },
          "metadata": {},
          "execution_count": 165
        },
        {
          "output_type": "display_data",
          "data": {
            "text/plain": [
              "<Figure size 1080x720 with 1 Axes>"
            ],
            "image/png": "[encoded data removed]"
          },
          "metadata": {
            "needs_background": "light"
          }
        }
      ]
    },
    {
      "cell_type": "code",
      "source": [
        "seaborn.pairplot(data=melb_df, y_vars=['Price'],\n",
        "                 x_vars=['Type'],\n",
        "                 aspect=2, height=4)\n",
        "plt.xticks(rotation=45);"
      ],
      "metadata": {
        "colab": {
          "base_uri": "https://localhost:8080/",
          "height": 305
        },
        "id": "iQ6nPGemumke",
        "outputId": "ddc57d52-7c7d-4553-d2fa-dc66e750f348"
      },
      "id": "iQ6nPGemumke",
      "execution_count": 166,
      "outputs": [
        {
          "output_type": "display_data",
          "data": {
            "text/plain": [
              "<Figure size 576x288 with 1 Axes>"
            ],
            "image/png": "[encoded data removed]"
          },
          "metadata": {
            "needs_background": "light"
          }
        }
      ]
    },
    {
      "cell_type": "code",
      "source": [
        "seaborn.pairplot(data=melb_df, y_vars=['Price'],\n",
        "                 x_vars=['Regionname'],\n",
        "                 aspect=2, height=4)\n",
        "plt.xticks(rotation=45);"
      ],
      "metadata": {
        "id": "oQ0b-Qt4v19D",
        "colab": {
          "base_uri": "https://localhost:8080/",
          "height": 458
        },
        "outputId": "ee1d784d-fca4-457c-fe46-3146233b82aa"
      },
      "id": "oQ0b-Qt4v19D",
      "execution_count": 167,
      "outputs": [
        {
          "output_type": "display_data",
          "data": {
            "text/plain": [
              "<Figure size 576x288 with 1 Axes>"
            ],
            "image/png": "[encoded data removed]"
          },
          "metadata": {
            "needs_background": "light"
          }
        }
      ]
    },
    {
      "cell_type": "code",
      "source": [
        "seaborn.pairplot(data=melb_df, y_vars=['Price'],\n",
        "                 x_vars=['Method'],\n",
        "                 aspect=2, height=4)\n"
      ],
      "metadata": {
        "colab": {
          "base_uri": "https://localhost:8080/",
          "height": 321
        },
        "id": "2Q0Kdlsz1M-Z",
        "outputId": "5b323fb5-cdd7-4ce5-dc04-98b305b02d28"
      },
      "id": "2Q0Kdlsz1M-Z",
      "execution_count": 168,
      "outputs": [
        {
          "output_type": "execute_result",
          "data": {
            "text/plain": [
              "<seaborn.axisgrid.PairGrid at 0x7fd65b80c750>"
            ]
          },
          "metadata": {},
          "execution_count": 168
        },
        {
          "output_type": "display_data",
          "data": {
            "text/plain": [
              "<Figure size 576x288 with 1 Axes>"
            ],
            "image/png": "[encoded data removed]"
          },
          "metadata": {
            "needs_background": "light"
          }
        }
      ]
    },
    {
      "cell_type": "markdown",
      "source": [
        "De las columnas analizadas podemos concluir lo siguiente:\n",
        "* Se considera que aquellas variables que informan sobre las caracteristicas \n",
        "del inmueble: **Bedroom2**, **car**, **Rooms**, **Bathrooms** son relevantes para el analisis de prediccion del Precio, dado que segun las graficas observadas puede apreciarse su distribucion es bastante razonable.\n",
        "* Con respecto a las variables: **Method** , **Type**, **Regionname**,también según las gráficas realizadas, se observa que son relevantes para el analisis de predicción por lo que se las incluirá en el dataset.\n",
        "\n",
        "* Por otro lado se observan valores no razonables de la variable **Bedroom2** la cual será eliminada del set de datos.\n"
      ],
      "metadata": {
        "id": "l0lZs5GbYkPd"
      },
      "id": "l0lZs5GbYkPd"
    },
    {
      "cell_type": "code",
      "source": [
        "melb_df.columns"
      ],
      "metadata": {
        "colab": {
          "base_uri": "https://localhost:8080/"
        },
        "id": "0dSbY5NZ8BMK",
        "outputId": "883d2beb-aa13-4e48-9507-fc835e6ab30b"
      },
      "id": "0dSbY5NZ8BMK",
      "execution_count": 169,
      "outputs": [
        {
          "output_type": "execute_result",
          "data": {
            "text/plain": [
              "Index(['Suburb', 'Address', 'Rooms', 'Type', 'Price', 'Method', 'SellerG',\n",
              "       'Date', 'Distance', 'Postcode', 'Bedroom2', 'Bathroom', 'Car',\n",
              "       'Landsize', 'BuildingArea', 'YearBuilt', 'CouncilArea', 'Lattitude',\n",
              "       'Longtitude', 'Regionname', 'Propertycount'],\n",
              "      dtype='object')"
            ]
          },
          "metadata": {},
          "execution_count": 169
        }
      ]
    },
    {
      "cell_type": "code",
      "source": [
        "# se eliminara la columna Bedroom2 , previamente se efectuara una copia del dataframe.\n",
        "\n",
        "melb_df_bkp = melb_df.copy(deep=True)\n",
        "\n",
        "melb_df=melb_df.drop('Bedroom2',axis=1)\n",
        "\n",
        "melb_df.columns"
      ],
      "metadata": {
        "colab": {
          "base_uri": "https://localhost:8080/"
        },
        "id": "U-5tUv-D7QvN",
        "outputId": "e7274249-173e-43fc-f08e-67fc40477642"
      },
      "id": "U-5tUv-D7QvN",
      "execution_count": 170,
      "outputs": [
        {
          "output_type": "execute_result",
          "data": {
            "text/plain": [
              "Index(['Suburb', 'Address', 'Rooms', 'Type', 'Price', 'Method', 'SellerG',\n",
              "       'Date', 'Distance', 'Postcode', 'Bathroom', 'Car', 'Landsize',\n",
              "       'BuildingArea', 'YearBuilt', 'CouncilArea', 'Lattitude', 'Longtitude',\n",
              "       'Regionname', 'Propertycount'],\n",
              "      dtype='object')"
            ]
          },
          "metadata": {},
          "execution_count": 170
        }
      ]
    },
    {
      "cell_type": "markdown",
      "source": [
        "---\n",
        "## Ejercicio 2, parte 2 \n"
      ],
      "metadata": {
        "id": "aMSsoHQnhWtA"
      },
      "id": "aMSsoHQnhWtA"
    },
    {
      "cell_type": "markdown",
      "source": [
        "2. Agregar información adicional respectiva al entorno de una propiedad a partir del [conjunto de datos de AirBnB](https://www.kaggle.com/tylerx/melbourne-airbnb-open-data?select=cleansed_listings_dec18.csv) utilizado en el práctico. \n",
        "  1. Seleccionar qué variables agregar y qué combinaciones aplicar a cada una. Por ejemplo, pueden utilizar solo la columna `price`, o aplicar múltiples transformaciones como la mediana o el mínimo.\n",
        "  1. Utilizar la variable zipcode para unir los conjuntos de datos. Sólo incluir los zipcodes que tengan una cantidad mínima de registros (a elección) como para que la información agregada sea relevante.\n",
        "  2. Investigar al menos otras 2 variables que puedan servir para combinar los datos, y justificar si serían adecuadas o no. Pueden asumir que cuentan con la ayuda de anotadores expertos para encontrar equivalencias entre barrios o direcciones, o que cuentan con algoritmos para encontrar las n ubicaciones más cercanas a una propiedad a partir de sus coordenadas geográficas. **NO** es necesario que realicen la implementación."
      ],
      "metadata": {
        "id": "kisCq2mU3pUD"
      },
      "id": "kisCq2mU3pUD"
    },
    {
      "cell_type": "markdown",
      "source": [
        "1. *Analizamos las variables dadas en el archivo de AirBnB consideramos las mas relavantes:*"
      ],
      "metadata": {
        "id": "pp8jlSqpIDCl"
      },
      "id": "pp8jlSqpIDCl"
    },
    {
      "cell_type": "code",
      "source": [
        "interesting_cols = [\n",
        "  'description', 'neighborhood_overview',\n",
        "  'street', 'neighborhood', 'city', 'suburb', 'state', 'zipcode',\n",
        "  'price', 'weekly_price', 'monthly_price',\n",
        "  'latitude', 'longitude','property_type', 'bathrooms', 'bedrooms'\n",
        "]\n",
        "\n"
      ],
      "metadata": {
        "id": "Fe00kbGCnf00"
      },
      "id": "Fe00kbGCnf00",
      "execution_count": 171,
      "outputs": []
    },
    {
      "cell_type": "code",
      "source": [
        "df_airbnb_adic = pandas.read_csv(\n",
        "    'https://cs.famaf.unc.edu.ar/~mteruel/datasets/diplodatos/cleansed_listings_dec18.csv',\n",
        "    usecols=interesting_cols)"
      ],
      "metadata": {
        "colab": {
          "base_uri": "https://localhost:8080/"
        },
        "id": "YEMQGO2JH0NQ",
        "outputId": "6dd68ff3-8c59-4edf-a6b4-67300a119bb1"
      },
      "id": "YEMQGO2JH0NQ",
      "execution_count": 172,
      "outputs": [
        {
          "output_type": "stream",
          "name": "stderr",
          "text": [
            "/usr/local/lib/python3.7/dist-packages/IPython/core/interactiveshell.py:2882: DtypeWarning:\n",
            "\n",
            "Columns (35) have mixed types.Specify dtype option on import or set low_memory=False.\n",
            "\n"
          ]
        }
      ]
    },
    {
      "cell_type": "code",
      "source": [
        "len(df_airbnb_adic)"
      ],
      "metadata": {
        "colab": {
          "base_uri": "https://localhost:8080/"
        },
        "id": "-yEjwnehFXny",
        "outputId": "6a523dfb-2cd2-4d15-b8dc-0a8c4536e127"
      },
      "id": "-yEjwnehFXny",
      "execution_count": 173,
      "outputs": [
        {
          "output_type": "execute_result",
          "data": {
            "text/plain": [
              "22895"
            ]
          },
          "metadata": {},
          "execution_count": 173
        }
      ]
    },
    {
      "cell_type": "code",
      "source": [
        "df_airbnb_adic.zipcode.value_counts()[:5]"
      ],
      "metadata": {
        "colab": {
          "base_uri": "https://localhost:8080/"
        },
        "id": "0aM01v__FlDg",
        "outputId": "fc9fba78-8ff2-4058-ec5a-86c11dfacbe6"
      },
      "id": "0aM01v__FlDg",
      "execution_count": 174,
      "outputs": [
        {
          "output_type": "execute_result",
          "data": {
            "text/plain": [
              "3000.0    2491\n",
              "3000       876\n",
              "3006.0     860\n",
              "3182.0     579\n",
              "3182       556\n",
              "Name: zipcode, dtype: int64"
            ]
          },
          "metadata": {},
          "execution_count": 174
        }
      ]
    },
    {
      "cell_type": "markdown",
      "source": [
        " Sin embargo, la columna **zipcode** tiene tipos diferentes. Debemos estandarizarlo antes de continuar con la combinación de los dato"
      ],
      "metadata": {
        "id": "pmVBdjbvQObp"
      },
      "id": "pmVBdjbvQObp"
    },
    {
      "cell_type": "code",
      "source": [
        "df_airbnb_adic['zipcode'] = pandas.to_numeric(df_airbnb_adic.zipcode, errors='coerce')"
      ],
      "metadata": {
        "id": "RFlXwxJaQkmI"
      },
      "id": "RFlXwxJaQkmI",
      "execution_count": 175,
      "outputs": []
    },
    {
      "cell_type": "code",
      "source": [
        "df_airbnb_adic.zipcode.value_counts()"
      ],
      "metadata": {
        "id": "p2ZYxtL6QtGG",
        "colab": {
          "base_uri": "https://localhost:8080/"
        },
        "outputId": "3d36eb40-a70a-4384-cb8e-16aff42ecb0b"
      },
      "id": "p2ZYxtL6QtGG",
      "execution_count": 176,
      "outputs": [
        {
          "output_type": "execute_result",
          "data": {
            "text/plain": [
              "3000.00     3367\n",
              "3006.00     1268\n",
              "3182.00     1135\n",
              "3141.00      881\n",
              "3004.00      728\n",
              "            ... \n",
              "3785.00        1\n",
              "3096.00        1\n",
              "30122.00       1\n",
              "3912.00        1\n",
              "4068.00        1\n",
              "Name: zipcode, Length: 247, dtype: int64"
            ]
          },
          "metadata": {},
          "execution_count": 176
        }
      ]
    },
    {
      "cell_type": "markdown",
      "source": [
        "de esta forma unificamos el formato del campo zipcode. Y\n",
        "Necesitamos establecer una relación entre conjuntos de datos `df_melbourne` y `df_airbnb_adic` a través de este campo, pero primero debemos verificar que los codigos postales correspondan a la misma zona. Para ello primero realizaremos la intersección y realizamos un análisis al respecto:"
      ],
      "metadata": {
        "id": "tKkdnUpRRA1j"
      },
      "id": "tKkdnUpRRA1j"
    },
    {
      "cell_type": "code",
      "source": [
        "# buscamos la intersecion de los 248 valores de AIRBNB 191 tambien estan en melb \n",
        "intersection = numpy.intersect1d(\n",
        "    df_airbnb_adic.zipcode.values, melb_df.Postcode.values, assume_unique=False)\n",
        "print(\"Airbnb unique zipcodes\", len(df_airbnb_adic.zipcode.unique()))\n",
        "print(\"Sales unique zipcodes\", len(melb_df.Postcode.unique()))\n",
        "print(\"Common zipcodes\", len(intersection))"
      ],
      "metadata": {
        "colab": {
          "base_uri": "https://localhost:8080/"
        },
        "id": "R6QOVf0jSF6c",
        "outputId": "0da85251-ea8e-4ed7-8dfd-a36897cf18d2"
      },
      "id": "R6QOVf0jSF6c",
      "execution_count": 177,
      "outputs": [
        {
          "output_type": "stream",
          "name": "stdout",
          "text": [
            "Airbnb unique zipcodes 248\n",
            "Sales unique zipcodes 198\n",
            "Common zipcodes 191\n"
          ]
        }
      ]
    },
    {
      "cell_type": "markdown",
      "source": [
        "Como se puede apreciar hay **248** valores de **zipcode** distintos en el conjunto de datos de *Airbnb* y **198** en el de **Melbourne**. A su vez hay **191** valores en común en ambos conjuntos de datos."
      ],
      "metadata": {
        "id": "HWXCdOUISTM7"
      },
      "id": "HWXCdOUISTM7"
    },
    {
      "cell_type": "code",
      "source": [
        "print('Records in Sales df with corresponding zipcode form Airbnb df',\n",
        "      melb_df.Postcode.isin(intersection).sum() / len(melb_df))\n",
        "print('Records in Airbnb df with corresponding zipcode form Sales df',\n",
        "      df_airbnb_adic.zipcode.isin(intersection).sum() / len(df_airbnb_adic))"
      ],
      "metadata": {
        "colab": {
          "base_uri": "https://localhost:8080/"
        },
        "id": "uMKiuP8HTbXr",
        "outputId": "e420af5d-7810-42fa-8a7a-922270dde626"
      },
      "id": "uMKiuP8HTbXr",
      "execution_count": 178,
      "outputs": [
        {
          "output_type": "stream",
          "name": "stdout",
          "text": [
            "Records in Sales df with corresponding zipcode form Airbnb df 0.9985272459499264\n",
            "Records in Airbnb df with corresponding zipcode form Sales df 0.9302904564315353\n"
          ]
        }
      ]
    },
    {
      "cell_type": "markdown",
      "source": [
        "Se puede observar que hay un 99%  estan en la interseccion , no asi de los que estan en el dataframe de Airbnb. "
      ],
      "metadata": {
        "id": "g9fXrpelTi6j"
      },
      "id": "g9fXrpelTi6j"
    },
    {
      "cell_type": "markdown",
      "source": [
        "### Filtrado de zipcodes\n",
        "\n",
        "Eliminamos los valores de zipcode con tres o menos ocurrencias"
      ],
      "metadata": {
        "id": "HuW9NoxyIg-Y"
      },
      "id": "HuW9NoxyIg-Y"
    },
    {
      "cell_type": "code",
      "source": [
        "threshold = 3\n",
        "zipcode_counts = df_airbnb_adic.zipcode.value_counts()\n",
        "size_filter = zipcode_counts > threshold\n",
        "print(len(zipcode_counts[size_filter]))\n",
        "print(len(zipcode_counts[~size_filter]))\n",
        "\n",
        "selected_zipcodes = zipcode_counts[size_filter]"
      ],
      "metadata": {
        "colab": {
          "base_uri": "https://localhost:8080/"
        },
        "id": "8V2N1hKB3A-h",
        "outputId": "72be71e1-5bbf-4f41-ab92-05f0fa0d2988"
      },
      "id": "8V2N1hKB3A-h",
      "execution_count": 179,
      "outputs": [
        {
          "output_type": "stream",
          "name": "stdout",
          "text": [
            "218\n",
            "29\n"
          ]
        }
      ]
    },
    {
      "cell_type": "code",
      "source": [
        "selected_zipcodes = zipcode_counts[size_filter].index.array\n",
        "df_airbnb_adic = df_airbnb_adic[df_airbnb_adic.zipcode.isin(selected_zipcodes)]\n",
        "df_airbnb_adic.sample(5)"
      ],
      "metadata": {
        "colab": {
          "base_uri": "https://localhost:8080/",
          "height": 548
        },
        "id": "J1EPKyXHG8cT",
        "outputId": "684c7308-c23b-4e42-cb2a-ed6455f9dda7"
      },
      "id": "J1EPKyXHG8cT",
      "execution_count": 183,
      "outputs": [
        {
          "output_type": "execute_result",
          "data": {
            "text/plain": [
              "                                             description  \\\n",
              "19159  An ENTIRE apartment ALL TO YOURSELF (and frien...   \n",
              "212    I have a sofabed in my house in Yarraville.  F...   \n",
              "16062  The “Empire Melbourne,” a boutique tower risin...   \n",
              "11949  My little studio is close to the city and righ...   \n",
              "18626  A new apartment at the centre of Bentleigh eas...   \n",
              "\n",
              "                                   neighborhood_overview  \\\n",
              "19159  Melbourne City - voted one of the most liveabl...   \n",
              "212                                                  NaN   \n",
              "16062  Restaurants available nearby - Nene Chicken El...   \n",
              "11949  Listed below are my picks of the area! Great c...   \n",
              "18626                                                NaN   \n",
              "\n",
              "                               street               neighborhood         city  \\\n",
              "19159       Melbourne, VIC, Australia  Central Business District    Melbourne   \n",
              "212        Yarraville, VIC, Australia          Yarraville/Seddon  Maribyrnong   \n",
              "16062       Melbourne, VIC, Australia  Central Business District    Melbourne   \n",
              "11949         Carlton, VIC, Australia                    Carlton    Melbourne   \n",
              "18626  Bentleigh East, VIC, Australia                  Bentleigh    Glen Eira   \n",
              "\n",
              "               suburb state  zipcode  latitude  longitude property_type  \\\n",
              "19159       Melbourne   VIC  3000.00    -37.82     144.95     Apartment   \n",
              "212        Yarraville   VIC  3013.00    -37.82     144.89         House   \n",
              "16062       Melbourne   VIC  3004.00    -37.81     144.96     Apartment   \n",
              "11949         Carlton   VIC  3053.00    -37.81     144.97     Apartment   \n",
              "18626  Bentleigh East   VIC  3165.00    -37.92     145.06     Apartment   \n",
              "\n",
              "       bathrooms  bedrooms  price  weekly_price  monthly_price  \n",
              "19159       1.00      2.00    119           NaN            NaN  \n",
              "212         1.00      1.00    100           NaN            NaN  \n",
              "16062       1.00      1.00    145           NaN            NaN  \n",
              "11949       1.00      1.00    100           NaN            NaN  \n",
              "18626       1.00      1.00     69           NaN            NaN  "
            ],
            "text/html": [
              "\n",
              "  <div id=\"df-8e73b813-9a4c-4a1b-be73-d1e646e07590\">\n",
              "    <div class=\"colab-df-container\">\n",
              "      <div>\n",
              "<style scoped>\n",
              "    .dataframe tbody tr th:only-of-type {\n",
              "        vertical-align: middle;\n",
              "    }\n",
              "\n",
              "    .dataframe tbody tr th {\n",
              "        vertical-align: top;\n",
              "    }\n",
              "\n",
              "    .dataframe thead th {\n",
              "        text-align: right;\n",
              "    }\n",
              "</style>\n",
              "<table border=\"1\" class=\"dataframe\">\n",
              "  <thead>\n",
              "    <tr style=\"text-align: right;\">\n",
              "      <th></th>\n",
              "      <th>description</th>\n",
              "      <th>neighborhood_overview</th>\n",
              "      <th>street</th>\n",
              "      <th>neighborhood</th>\n",
              "      <th>city</th>\n",
              "      <th>suburb</th>\n",
              "      <th>state</th>\n",
              "      <th>zipcode</th>\n",
              "      <th>latitude</th>\n",
              "      <th>longitude</th>\n",
              "      <th>property_type</th>\n",
              "      <th>bathrooms</th>\n",
              "      <th>bedrooms</th>\n",
              "      <th>price</th>\n",
              "      <th>weekly_price</th>\n",
              "      <th>monthly_price</th>\n",
              "    </tr>\n",
              "  </thead>\n",
              "  <tbody>\n",
              "    <tr>\n",
              "      <th>19159</th>\n",
              "      <td>An ENTIRE apartment ALL TO YOURSELF (and frien...</td>\n",
              "      <td>Melbourne City - voted one of the most liveabl...</td>\n",
              "      <td>Melbourne, VIC, Australia</td>\n",
              "      <td>Central Business District</td>\n",
              "      <td>Melbourne</td>\n",
              "      <td>Melbourne</td>\n",
              "      <td>VIC</td>\n",
              "      <td>3000.00</td>\n",
              "      <td>-37.82</td>\n",
              "      <td>144.95</td>\n",
              "      <td>Apartment</td>\n",
              "      <td>1.00</td>\n",
              "      <td>2.00</td>\n",
              "      <td>119</td>\n",
              "      <td>NaN</td>\n",
              "      <td>NaN</td>\n",
              "    </tr>\n",
              "    <tr>\n",
              "      <th>212</th>\n",
              "      <td>I have a sofabed in my house in Yarraville.  F...</td>\n",
              "      <td>NaN</td>\n",
              "      <td>Yarraville, VIC, Australia</td>\n",
              "      <td>Yarraville/Seddon</td>\n",
              "      <td>Maribyrnong</td>\n",
              "      <td>Yarraville</td>\n",
              "      <td>VIC</td>\n",
              "      <td>3013.00</td>\n",
              "      <td>-37.82</td>\n",
              "      <td>144.89</td>\n",
              "      <td>House</td>\n",
              "      <td>1.00</td>\n",
              "      <td>1.00</td>\n",
              "      <td>100</td>\n",
              "      <td>NaN</td>\n",
              "      <td>NaN</td>\n",
              "    </tr>\n",
              "    <tr>\n",
              "      <th>16062</th>\n",
              "      <td>The “Empire Melbourne,” a boutique tower risin...</td>\n",
              "      <td>Restaurants available nearby - Nene Chicken El...</td>\n",
              "      <td>Melbourne, VIC, Australia</td>\n",
              "      <td>Central Business District</td>\n",
              "      <td>Melbourne</td>\n",
              "      <td>Melbourne</td>\n",
              "      <td>VIC</td>\n",
              "      <td>3004.00</td>\n",
              "      <td>-37.81</td>\n",
              "      <td>144.96</td>\n",
              "      <td>Apartment</td>\n",
              "      <td>1.00</td>\n",
              "      <td>1.00</td>\n",
              "      <td>145</td>\n",
              "      <td>NaN</td>\n",
              "      <td>NaN</td>\n",
              "    </tr>\n",
              "    <tr>\n",
              "      <th>11949</th>\n",
              "      <td>My little studio is close to the city and righ...</td>\n",
              "      <td>Listed below are my picks of the area! Great c...</td>\n",
              "      <td>Carlton, VIC, Australia</td>\n",
              "      <td>Carlton</td>\n",
              "      <td>Melbourne</td>\n",
              "      <td>Carlton</td>\n",
              "      <td>VIC</td>\n",
              "      <td>3053.00</td>\n",
              "      <td>-37.81</td>\n",
              "      <td>144.97</td>\n",
              "      <td>Apartment</td>\n",
              "      <td>1.00</td>\n",
              "      <td>1.00</td>\n",
              "      <td>100</td>\n",
              "      <td>NaN</td>\n",
              "      <td>NaN</td>\n",
              "    </tr>\n",
              "    <tr>\n",
              "      <th>18626</th>\n",
              "      <td>A new apartment at the centre of Bentleigh eas...</td>\n",
              "      <td>NaN</td>\n",
              "      <td>Bentleigh East, VIC, Australia</td>\n",
              "      <td>Bentleigh</td>\n",
              "      <td>Glen Eira</td>\n",
              "      <td>Bentleigh East</td>\n",
              "      <td>VIC</td>\n",
              "      <td>3165.00</td>\n",
              "      <td>-37.92</td>\n",
              "      <td>145.06</td>\n",
              "      <td>Apartment</td>\n",
              "      <td>1.00</td>\n",
              "      <td>1.00</td>\n",
              "      <td>69</td>\n",
              "      <td>NaN</td>\n",
              "      <td>NaN</td>\n",
              "    </tr>\n",
              "  </tbody>\n",
              "</table>\n",
              "</div>\n",
              "      <button class=\"colab-df-convert\" onclick=\"convertToInteractive('df-8e73b813-9a4c-4a1b-be73-d1e646e07590')\"\n",
              "              title=\"Convert this dataframe to an interactive table.\"\n",
              "              style=\"display:none;\">\n",
              "        \n",
              "  <svg xmlns=\"http://www.w3.org/2000/svg\" height=\"24px\"viewBox=\"0 0 24 24\"\n",
              "       width=\"24px\">\n",
              "    <path d=\"M0 0h24v24H0V0z\" fill=\"none\"/>\n",
              "    <path d=\"M18.56 5.44l.94 2.06.94-2.06 2.06-.94-2.06-.94-.94-2.06-.94 2.06-2.06.94zm-11 1L8.5 8.5l.94-2.06 2.06-.94-2.06-.94L8.5 2.5l-.94 2.06-2.06.94zm10 10l.94 2.06.94-2.06 2.06-.94-2.06-.94-.94-2.06-.94 2.06-2.06.94z\"/><path d=\"M17.41 7.96l-1.37-1.37c-.4-.4-.92-.59-1.43-.59-.52 0-1.04.2-1.43.59L10.3 9.45l-7.72 7.72c-.78.78-.78 2.05 0 2.83L4 21.41c.39.39.9.59 1.41.59.51 0 1.02-.2 1.41-.59l7.78-7.78 2.81-2.81c.8-.78.8-2.07 0-2.86zM5.41 20L4 18.59l7.72-7.72 1.47 1.35L5.41 20z\"/>\n",
              "  </svg>\n",
              "      </button>\n",
              "      \n",
              "  <style>\n",
              "    .colab-df-container {\n",
              "      display:flex;\n",
              "      flex-wrap:wrap;\n",
              "      gap: 12px;\n",
              "    }\n",
              "\n",
              "    .colab-df-convert {\n",
              "      background-color: #E8F0FE;\n",
              "      border: none;\n",
              "      border-radius: 50%;\n",
              "      cursor: pointer;\n",
              "      display: none;\n",
              "      fill: #1967D2;\n",
              "      height: 32px;\n",
              "      padding: 0 0 0 0;\n",
              "      width: 32px;\n",
              "    }\n",
              "\n",
              "    .colab-df-convert:hover {\n",
              "      background-color: #E2EBFA;\n",
              "      box-shadow: 0px 1px 2px rgba(60, 64, 67, 0.3), 0px 1px 3px 1px rgba(60, 64, 67, 0.15);\n",
              "      fill: #174EA6;\n",
              "    }\n",
              "\n",
              "    [theme=dark] .colab-df-convert {\n",
              "      background-color: #3B4455;\n",
              "      fill: #D2E3FC;\n",
              "    }\n",
              "\n",
              "    [theme=dark] .colab-df-convert:hover {\n",
              "      background-color: #434B5C;\n",
              "      box-shadow: 0px 1px 3px 1px rgba(0, 0, 0, 0.15);\n",
              "      filter: drop-shadow(0px 1px 2px rgba(0, 0, 0, 0.3));\n",
              "      fill: #FFFFFF;\n",
              "    }\n",
              "  </style>\n",
              "\n",
              "      <script>\n",
              "        const buttonEl =\n",
              "          document.querySelector('#df-8e73b813-9a4c-4a1b-be73-d1e646e07590 button.colab-df-convert');\n",
              "        buttonEl.style.display =\n",
              "          google.colab.kernel.accessAllowed ? 'block' : 'none';\n",
              "\n",
              "        async function convertToInteractive(key) {\n",
              "          const element = document.querySelector('#df-8e73b813-9a4c-4a1b-be73-d1e646e07590');\n",
              "          const dataTable =\n",
              "            await google.colab.kernel.invokeFunction('convertToInteractive',\n",
              "                                                     [key], {});\n",
              "          if (!dataTable) return;\n",
              "\n",
              "          const docLinkHtml = 'Like what you see? Visit the ' +\n",
              "            '<a target=\"_blank\" href=https://colab.research.google.com/notebooks/data_table.ipynb>data table notebook</a>'\n",
              "            + ' to learn more about interactive tables.';\n",
              "          element.innerHTML = '';\n",
              "          dataTable['output_type'] = 'display_data';\n",
              "          await google.colab.output.renderOutput(dataTable, element);\n",
              "          const docLink = document.createElement('div');\n",
              "          docLink.innerHTML = docLinkHtml;\n",
              "          element.appendChild(docLink);\n",
              "        }\n",
              "      </script>\n",
              "    </div>\n",
              "  </div>\n",
              "  "
            ]
          },
          "metadata": {},
          "execution_count": 183
        }
      ]
    },
    {
      "cell_type": "markdown",
      "source": [
        "Observamos que podemos agregar como datos: el promedio de precio semanal (*weekly_price*), promedio de precio mensual (*monthly_price*)."
      ],
      "metadata": {
        "id": "DWepuIBiXVqR"
      },
      "id": "DWepuIBiXVqR"
    },
    {
      "cell_type": "code",
      "source": [
        "relevant_cols = ['price', 'weekly_price', 'monthly_price']"
      ],
      "metadata": {
        "id": "6UKk9HkQXPmB"
      },
      "id": "6UKk9HkQXPmB",
      "execution_count": 184,
      "outputs": []
    },
    {
      "cell_type": "code",
      "source": [
        "\n",
        "df_airbnb_adic[relevant_cols + ['zipcode']].groupby('zipcode').mean().reset_index()[:5]"
      ],
      "metadata": {
        "colab": {
          "base_uri": "https://localhost:8080/",
          "height": 206
        },
        "id": "OVVHWbLcXnmI",
        "outputId": "d264fbb3-c029-4a03-fb8d-ad2c16c9336a"
      },
      "id": "OVVHWbLcXnmI",
      "execution_count": 185,
      "outputs": [
        {
          "output_type": "execute_result",
          "data": {
            "text/plain": [
              "   zipcode  price  weekly_price  monthly_price\n",
              "0  3000.00 150.50        918.74        3407.20\n",
              "1  3002.00 200.98        956.38        3712.71\n",
              "2  3003.00 130.21        760.20        2629.50\n",
              "3  3004.00 158.27       1061.17        3759.93\n",
              "4  3006.00 188.85       1239.83        4358.56"
            ],
            "text/html": [
              "\n",
              "  <div id=\"df-55ec1ab0-c810-4ea1-9d3d-544708a092b0\">\n",
              "    <div class=\"colab-df-container\">\n",
              "      <div>\n",
              "<style scoped>\n",
              "    .dataframe tbody tr th:only-of-type {\n",
              "        vertical-align: middle;\n",
              "    }\n",
              "\n",
              "    .dataframe tbody tr th {\n",
              "        vertical-align: top;\n",
              "    }\n",
              "\n",
              "    .dataframe thead th {\n",
              "        text-align: right;\n",
              "    }\n",
              "</style>\n",
              "<table border=\"1\" class=\"dataframe\">\n",
              "  <thead>\n",
              "    <tr style=\"text-align: right;\">\n",
              "      <th></th>\n",
              "      <th>zipcode</th>\n",
              "      <th>price</th>\n",
              "      <th>weekly_price</th>\n",
              "      <th>monthly_price</th>\n",
              "    </tr>\n",
              "  </thead>\n",
              "  <tbody>\n",
              "    <tr>\n",
              "      <th>0</th>\n",
              "      <td>3000.00</td>\n",
              "      <td>150.50</td>\n",
              "      <td>918.74</td>\n",
              "      <td>3407.20</td>\n",
              "    </tr>\n",
              "    <tr>\n",
              "      <th>1</th>\n",
              "      <td>3002.00</td>\n",
              "      <td>200.98</td>\n",
              "      <td>956.38</td>\n",
              "      <td>3712.71</td>\n",
              "    </tr>\n",
              "    <tr>\n",
              "      <th>2</th>\n",
              "      <td>3003.00</td>\n",
              "      <td>130.21</td>\n",
              "      <td>760.20</td>\n",
              "      <td>2629.50</td>\n",
              "    </tr>\n",
              "    <tr>\n",
              "      <th>3</th>\n",
              "      <td>3004.00</td>\n",
              "      <td>158.27</td>\n",
              "      <td>1061.17</td>\n",
              "      <td>3759.93</td>\n",
              "    </tr>\n",
              "    <tr>\n",
              "      <th>4</th>\n",
              "      <td>3006.00</td>\n",
              "      <td>188.85</td>\n",
              "      <td>1239.83</td>\n",
              "      <td>4358.56</td>\n",
              "    </tr>\n",
              "  </tbody>\n",
              "</table>\n",
              "</div>\n",
              "      <button class=\"colab-df-convert\" onclick=\"convertToInteractive('df-55ec1ab0-c810-4ea1-9d3d-544708a092b0')\"\n",
              "              title=\"Convert this dataframe to an interactive table.\"\n",
              "              style=\"display:none;\">\n",
              "        \n",
              "  <svg xmlns=\"http://www.w3.org/2000/svg\" height=\"24px\"viewBox=\"0 0 24 24\"\n",
              "       width=\"24px\">\n",
              "    <path d=\"M0 0h24v24H0V0z\" fill=\"none\"/>\n",
              "    <path d=\"M18.56 5.44l.94 2.06.94-2.06 2.06-.94-2.06-.94-.94-2.06-.94 2.06-2.06.94zm-11 1L8.5 8.5l.94-2.06 2.06-.94-2.06-.94L8.5 2.5l-.94 2.06-2.06.94zm10 10l.94 2.06.94-2.06 2.06-.94-2.06-.94-.94-2.06-.94 2.06-2.06.94z\"/><path d=\"M17.41 7.96l-1.37-1.37c-.4-.4-.92-.59-1.43-.59-.52 0-1.04.2-1.43.59L10.3 9.45l-7.72 7.72c-.78.78-.78 2.05 0 2.83L4 21.41c.39.39.9.59 1.41.59.51 0 1.02-.2 1.41-.59l7.78-7.78 2.81-2.81c.8-.78.8-2.07 0-2.86zM5.41 20L4 18.59l7.72-7.72 1.47 1.35L5.41 20z\"/>\n",
              "  </svg>\n",
              "      </button>\n",
              "      \n",
              "  <style>\n",
              "    .colab-df-container {\n",
              "      display:flex;\n",
              "      flex-wrap:wrap;\n",
              "      gap: 12px;\n",
              "    }\n",
              "\n",
              "    .colab-df-convert {\n",
              "      background-color: #E8F0FE;\n",
              "      border: none;\n",
              "      border-radius: 50%;\n",
              "      cursor: pointer;\n",
              "      display: none;\n",
              "      fill: #1967D2;\n",
              "      height: 32px;\n",
              "      padding: 0 0 0 0;\n",
              "      width: 32px;\n",
              "    }\n",
              "\n",
              "    .colab-df-convert:hover {\n",
              "      background-color: #E2EBFA;\n",
              "      box-shadow: 0px 1px 2px rgba(60, 64, 67, 0.3), 0px 1px 3px 1px rgba(60, 64, 67, 0.15);\n",
              "      fill: #174EA6;\n",
              "    }\n",
              "\n",
              "    [theme=dark] .colab-df-convert {\n",
              "      background-color: #3B4455;\n",
              "      fill: #D2E3FC;\n",
              "    }\n",
              "\n",
              "    [theme=dark] .colab-df-convert:hover {\n",
              "      background-color: #434B5C;\n",
              "      box-shadow: 0px 1px 3px 1px rgba(0, 0, 0, 0.15);\n",
              "      filter: drop-shadow(0px 1px 2px rgba(0, 0, 0, 0.3));\n",
              "      fill: #FFFFFF;\n",
              "    }\n",
              "  </style>\n",
              "\n",
              "      <script>\n",
              "        const buttonEl =\n",
              "          document.querySelector('#df-55ec1ab0-c810-4ea1-9d3d-544708a092b0 button.colab-df-convert');\n",
              "        buttonEl.style.display =\n",
              "          google.colab.kernel.accessAllowed ? 'block' : 'none';\n",
              "\n",
              "        async function convertToInteractive(key) {\n",
              "          const element = document.querySelector('#df-55ec1ab0-c810-4ea1-9d3d-544708a092b0');\n",
              "          const dataTable =\n",
              "            await google.colab.kernel.invokeFunction('convertToInteractive',\n",
              "                                                     [key], {});\n",
              "          if (!dataTable) return;\n",
              "\n",
              "          const docLinkHtml = 'Like what you see? Visit the ' +\n",
              "            '<a target=\"_blank\" href=https://colab.research.google.com/notebooks/data_table.ipynb>data table notebook</a>'\n",
              "            + ' to learn more about interactive tables.';\n",
              "          element.innerHTML = '';\n",
              "          dataTable['output_type'] = 'display_data';\n",
              "          await google.colab.output.renderOutput(dataTable, element);\n",
              "          const docLink = document.createElement('div');\n",
              "          docLink.innerHTML = docLinkHtml;\n",
              "          element.appendChild(docLink);\n",
              "        }\n",
              "      </script>\n",
              "    </div>\n",
              "  </div>\n",
              "  "
            ]
          },
          "metadata": {},
          "execution_count": 185
        }
      ]
    },
    {
      "cell_type": "code",
      "source": [
        "# Agregamos algunas columnas relevantes \n",
        "relevant_cols = ['price', 'weekly_price', 'monthly_price', 'zipcode', 'street', 'neighborhood', 'city','suburb']#, 'state', 'latitute', 'longitude']\n",
        "\n",
        "airbnb_price_by_zipcode = df_airbnb_adic[relevant_cols].groupby('zipcode')\\\n",
        "  .agg({'price': ['mean', 'count'], 'weekly_price': 'mean',\n",
        "        'monthly_price': 'mean', 'street': 'count', 'neighborhood': 'count', 'city': 'count','suburb': 'count'})\\\n",
        "  .reset_index()"
      ],
      "metadata": {
        "id": "i-Wk9w4QZpYA"
      },
      "id": "i-Wk9w4QZpYA",
      "execution_count": 189,
      "outputs": []
    },
    {
      "cell_type": "code",
      "source": [
        "airbnb_price_by_zipcode"
      ],
      "metadata": {
        "colab": {
          "base_uri": "https://localhost:8080/",
          "height": 455
        },
        "id": "2RLPeho0aDMf",
        "outputId": "15ac8669-3b3b-4410-821a-95367fa9481d"
      },
      "id": "2RLPeho0aDMf",
      "execution_count": 190,
      "outputs": [
        {
          "output_type": "execute_result",
          "data": {
            "text/plain": [
              "    zipcode  price       weekly_price monthly_price street neighborhood  city  \\\n",
              "              mean count         mean          mean  count        count count   \n",
              "0   3000.00 150.50  3367       918.74       3407.20   3367         3259  3367   \n",
              "1   3002.00 200.98   197       956.38       3712.71    197          188   197   \n",
              "2   3003.00 130.21   267       760.20       2629.50    267          260   267   \n",
              "3   3004.00 158.27   728      1061.17       3759.93    728          705   728   \n",
              "4   3006.00 188.85  1268      1239.83       4358.56   1268         1241  1268   \n",
              "..      ...    ...   ...          ...           ...    ...          ...   ...   \n",
              "213 3911.00 334.60    10      1340.00       6350.00     10            0    10   \n",
              "214 3975.00  99.50     6       850.00       3000.00      6            0     6   \n",
              "215 3977.00  92.96    45       422.00       1025.00     45            0    45   \n",
              "216 3978.00 177.00     7       950.67       7770.00      7            0     7   \n",
              "217 3980.00  86.40     5          NaN           NaN      5            0     5   \n",
              "\n",
              "    suburb  \n",
              "     count  \n",
              "0     3366  \n",
              "1      197  \n",
              "2      267  \n",
              "3      728  \n",
              "4     1268  \n",
              "..     ...  \n",
              "213     10  \n",
              "214      6  \n",
              "215     45  \n",
              "216      7  \n",
              "217      5  \n",
              "\n",
              "[218 rows x 9 columns]"
            ],
            "text/html": [
              "\n",
              "  <div id=\"df-76d2b304-b283-4ceb-a092-b90e160c397e\">\n",
              "    <div class=\"colab-df-container\">\n",
              "      <div>\n",
              "<style scoped>\n",
              "    .dataframe tbody tr th:only-of-type {\n",
              "        vertical-align: middle;\n",
              "    }\n",
              "\n",
              "    .dataframe tbody tr th {\n",
              "        vertical-align: top;\n",
              "    }\n",
              "\n",
              "    .dataframe thead tr th {\n",
              "        text-align: left;\n",
              "    }\n",
              "</style>\n",
              "<table border=\"1\" class=\"dataframe\">\n",
              "  <thead>\n",
              "    <tr>\n",
              "      <th></th>\n",
              "      <th>zipcode</th>\n",
              "      <th colspan=\"2\" halign=\"left\">price</th>\n",
              "      <th>weekly_price</th>\n",
              "      <th>monthly_price</th>\n",
              "      <th>street</th>\n",
              "      <th>neighborhood</th>\n",
              "      <th>city</th>\n",
              "      <th>suburb</th>\n",
              "    </tr>\n",
              "    <tr>\n",
              "      <th></th>\n",
              "      <th></th>\n",
              "      <th>mean</th>\n",
              "      <th>count</th>\n",
              "      <th>mean</th>\n",
              "      <th>mean</th>\n",
              "      <th>count</th>\n",
              "      <th>count</th>\n",
              "      <th>count</th>\n",
              "      <th>count</th>\n",
              "    </tr>\n",
              "  </thead>\n",
              "  <tbody>\n",
              "    <tr>\n",
              "      <th>0</th>\n",
              "      <td>3000.00</td>\n",
              "      <td>150.50</td>\n",
              "      <td>3367</td>\n",
              "      <td>918.74</td>\n",
              "      <td>3407.20</td>\n",
              "      <td>3367</td>\n",
              "      <td>3259</td>\n",
              "      <td>3367</td>\n",
              "      <td>3366</td>\n",
              "    </tr>\n",
              "    <tr>\n",
              "      <th>1</th>\n",
              "      <td>3002.00</td>\n",
              "      <td>200.98</td>\n",
              "      <td>197</td>\n",
              "      <td>956.38</td>\n",
              "      <td>3712.71</td>\n",
              "      <td>197</td>\n",
              "      <td>188</td>\n",
              "      <td>197</td>\n",
              "      <td>197</td>\n",
              "    </tr>\n",
              "    <tr>\n",
              "      <th>2</th>\n",
              "      <td>3003.00</td>\n",
              "      <td>130.21</td>\n",
              "      <td>267</td>\n",
              "      <td>760.20</td>\n",
              "      <td>2629.50</td>\n",
              "      <td>267</td>\n",
              "      <td>260</td>\n",
              "      <td>267</td>\n",
              "      <td>267</td>\n",
              "    </tr>\n",
              "    <tr>\n",
              "      <th>3</th>\n",
              "      <td>3004.00</td>\n",
              "      <td>158.27</td>\n",
              "      <td>728</td>\n",
              "      <td>1061.17</td>\n",
              "      <td>3759.93</td>\n",
              "      <td>728</td>\n",
              "      <td>705</td>\n",
              "      <td>728</td>\n",
              "      <td>728</td>\n",
              "    </tr>\n",
              "    <tr>\n",
              "      <th>4</th>\n",
              "      <td>3006.00</td>\n",
              "      <td>188.85</td>\n",
              "      <td>1268</td>\n",
              "      <td>1239.83</td>\n",
              "      <td>4358.56</td>\n",
              "      <td>1268</td>\n",
              "      <td>1241</td>\n",
              "      <td>1268</td>\n",
              "      <td>1268</td>\n",
              "    </tr>\n",
              "    <tr>\n",
              "      <th>...</th>\n",
              "      <td>...</td>\n",
              "      <td>...</td>\n",
              "      <td>...</td>\n",
              "      <td>...</td>\n",
              "      <td>...</td>\n",
              "      <td>...</td>\n",
              "      <td>...</td>\n",
              "      <td>...</td>\n",
              "      <td>...</td>\n",
              "    </tr>\n",
              "    <tr>\n",
              "      <th>213</th>\n",
              "      <td>3911.00</td>\n",
              "      <td>334.60</td>\n",
              "      <td>10</td>\n",
              "      <td>1340.00</td>\n",
              "      <td>6350.00</td>\n",
              "      <td>10</td>\n",
              "      <td>0</td>\n",
              "      <td>10</td>\n",
              "      <td>10</td>\n",
              "    </tr>\n",
              "    <tr>\n",
              "      <th>214</th>\n",
              "      <td>3975.00</td>\n",
              "      <td>99.50</td>\n",
              "      <td>6</td>\n",
              "      <td>850.00</td>\n",
              "      <td>3000.00</td>\n",
              "      <td>6</td>\n",
              "      <td>0</td>\n",
              "      <td>6</td>\n",
              "      <td>6</td>\n",
              "    </tr>\n",
              "    <tr>\n",
              "      <th>215</th>\n",
              "      <td>3977.00</td>\n",
              "      <td>92.96</td>\n",
              "      <td>45</td>\n",
              "      <td>422.00</td>\n",
              "      <td>1025.00</td>\n",
              "      <td>45</td>\n",
              "      <td>0</td>\n",
              "      <td>45</td>\n",
              "      <td>45</td>\n",
              "    </tr>\n",
              "    <tr>\n",
              "      <th>216</th>\n",
              "      <td>3978.00</td>\n",
              "      <td>177.00</td>\n",
              "      <td>7</td>\n",
              "      <td>950.67</td>\n",
              "      <td>7770.00</td>\n",
              "      <td>7</td>\n",
              "      <td>0</td>\n",
              "      <td>7</td>\n",
              "      <td>7</td>\n",
              "    </tr>\n",
              "    <tr>\n",
              "      <th>217</th>\n",
              "      <td>3980.00</td>\n",
              "      <td>86.40</td>\n",
              "      <td>5</td>\n",
              "      <td>NaN</td>\n",
              "      <td>NaN</td>\n",
              "      <td>5</td>\n",
              "      <td>0</td>\n",
              "      <td>5</td>\n",
              "      <td>5</td>\n",
              "    </tr>\n",
              "  </tbody>\n",
              "</table>\n",
              "<p>218 rows × 9 columns</p>\n",
              "</div>\n",
              "      <button class=\"colab-df-convert\" onclick=\"convertToInteractive('df-76d2b304-b283-4ceb-a092-b90e160c397e')\"\n",
              "              title=\"Convert this dataframe to an interactive table.\"\n",
              "              style=\"display:none;\">\n",
              "        \n",
              "  <svg xmlns=\"http://www.w3.org/2000/svg\" height=\"24px\"viewBox=\"0 0 24 24\"\n",
              "       width=\"24px\">\n",
              "    <path d=\"M0 0h24v24H0V0z\" fill=\"none\"/>\n",
              "    <path d=\"M18.56 5.44l.94 2.06.94-2.06 2.06-.94-2.06-.94-.94-2.06-.94 2.06-2.06.94zm-11 1L8.5 8.5l.94-2.06 2.06-.94-2.06-.94L8.5 2.5l-.94 2.06-2.06.94zm10 10l.94 2.06.94-2.06 2.06-.94-2.06-.94-.94-2.06-.94 2.06-2.06.94z\"/><path d=\"M17.41 7.96l-1.37-1.37c-.4-.4-.92-.59-1.43-.59-.52 0-1.04.2-1.43.59L10.3 9.45l-7.72 7.72c-.78.78-.78 2.05 0 2.83L4 21.41c.39.39.9.59 1.41.59.51 0 1.02-.2 1.41-.59l7.78-7.78 2.81-2.81c.8-.78.8-2.07 0-2.86zM5.41 20L4 18.59l7.72-7.72 1.47 1.35L5.41 20z\"/>\n",
              "  </svg>\n",
              "      </button>\n",
              "      \n",
              "  <style>\n",
              "    .colab-df-container {\n",
              "      display:flex;\n",
              "      flex-wrap:wrap;\n",
              "      gap: 12px;\n",
              "    }\n",
              "\n",
              "    .colab-df-convert {\n",
              "      background-color: #E8F0FE;\n",
              "      border: none;\n",
              "      border-radius: 50%;\n",
              "      cursor: pointer;\n",
              "      display: none;\n",
              "      fill: #1967D2;\n",
              "      height: 32px;\n",
              "      padding: 0 0 0 0;\n",
              "      width: 32px;\n",
              "    }\n",
              "\n",
              "    .colab-df-convert:hover {\n",
              "      background-color: #E2EBFA;\n",
              "      box-shadow: 0px 1px 2px rgba(60, 64, 67, 0.3), 0px 1px 3px 1px rgba(60, 64, 67, 0.15);\n",
              "      fill: #174EA6;\n",
              "    }\n",
              "\n",
              "    [theme=dark] .colab-df-convert {\n",
              "      background-color: #3B4455;\n",
              "      fill: #D2E3FC;\n",
              "    }\n",
              "\n",
              "    [theme=dark] .colab-df-convert:hover {\n",
              "      background-color: #434B5C;\n",
              "      box-shadow: 0px 1px 3px 1px rgba(0, 0, 0, 0.15);\n",
              "      filter: drop-shadow(0px 1px 2px rgba(0, 0, 0, 0.3));\n",
              "      fill: #FFFFFF;\n",
              "    }\n",
              "  </style>\n",
              "\n",
              "      <script>\n",
              "        const buttonEl =\n",
              "          document.querySelector('#df-76d2b304-b283-4ceb-a092-b90e160c397e button.colab-df-convert');\n",
              "        buttonEl.style.display =\n",
              "          google.colab.kernel.accessAllowed ? 'block' : 'none';\n",
              "\n",
              "        async function convertToInteractive(key) {\n",
              "          const element = document.querySelector('#df-76d2b304-b283-4ceb-a092-b90e160c397e');\n",
              "          const dataTable =\n",
              "            await google.colab.kernel.invokeFunction('convertToInteractive',\n",
              "                                                     [key], {});\n",
              "          if (!dataTable) return;\n",
              "\n",
              "          const docLinkHtml = 'Like what you see? Visit the ' +\n",
              "            '<a target=\"_blank\" href=https://colab.research.google.com/notebooks/data_table.ipynb>data table notebook</a>'\n",
              "            + ' to learn more about interactive tables.';\n",
              "          element.innerHTML = '';\n",
              "          dataTable['output_type'] = 'display_data';\n",
              "          await google.colab.output.renderOutput(dataTable, element);\n",
              "          const docLink = document.createElement('div');\n",
              "          docLink.innerHTML = docLinkHtml;\n",
              "          element.appendChild(docLink);\n",
              "        }\n",
              "      </script>\n",
              "    </div>\n",
              "  </div>\n",
              "  "
            ]
          },
          "metadata": {},
          "execution_count": 190
        }
      ]
    },
    {
      "cell_type": "code",
      "source": [
        "# Flatten the two level columns\n",
        "airbnb_price_by_zipcode.columns = [\n",
        "  ' '.join(col).strip()\n",
        "  for col in airbnb_price_by_zipcode.columns.values]\n",
        "# Rename columns\n",
        "airbnb_price_by_zipcode = airbnb_price_by_zipcode.rename(\n",
        "    columns={'price mean': 'airbnb_price_mean',\n",
        "             'price count': 'airbnb_record_count',\n",
        "             'weekly_price mean': 'airbnb_weekly_price_mean',\n",
        "             'monthly_price mean': 'airbnb_monthly_price_mean'}\n",
        ")\n",
        "airbnb_price_by_zipcode[:3]"
      ],
      "metadata": {
        "colab": {
          "base_uri": "https://localhost:8080/",
          "height": 205
        },
        "id": "IK3Au9CyaG6o",
        "outputId": "c57f710f-d6b5-433e-f1e3-f070b69c381c"
      },
      "id": "IK3Au9CyaG6o",
      "execution_count": 191,
      "outputs": [
        {
          "output_type": "execute_result",
          "data": {
            "text/plain": [
              "   zipcode  airbnb_price_mean  airbnb_record_count  airbnb_weekly_price_mean  \\\n",
              "0  3000.00             150.50                 3367                    918.74   \n",
              "1  3002.00             200.98                  197                    956.38   \n",
              "2  3003.00             130.21                  267                    760.20   \n",
              "\n",
              "   airbnb_monthly_price_mean  street count  neighborhood count  city count  \\\n",
              "0                    3407.20          3367                3259        3367   \n",
              "1                    3712.71           197                 188         197   \n",
              "2                    2629.50           267                 260         267   \n",
              "\n",
              "   suburb count  \n",
              "0          3366  \n",
              "1           197  \n",
              "2           267  "
            ],
            "text/html": [
              "\n",
              "  <div id=\"df-d933bafe-4885-42cd-b04f-164b1b7f7d8c\">\n",
              "    <div class=\"colab-df-container\">\n",
              "      <div>\n",
              "<style scoped>\n",
              "    .dataframe tbody tr th:only-of-type {\n",
              "        vertical-align: middle;\n",
              "    }\n",
              "\n",
              "    .dataframe tbody tr th {\n",
              "        vertical-align: top;\n",
              "    }\n",
              "\n",
              "    .dataframe thead th {\n",
              "        text-align: right;\n",
              "    }\n",
              "</style>\n",
              "<table border=\"1\" class=\"dataframe\">\n",
              "  <thead>\n",
              "    <tr style=\"text-align: right;\">\n",
              "      <th></th>\n",
              "      <th>zipcode</th>\n",
              "      <th>airbnb_price_mean</th>\n",
              "      <th>airbnb_record_count</th>\n",
              "      <th>airbnb_weekly_price_mean</th>\n",
              "      <th>airbnb_monthly_price_mean</th>\n",
              "      <th>street count</th>\n",
              "      <th>neighborhood count</th>\n",
              "      <th>city count</th>\n",
              "      <th>suburb count</th>\n",
              "    </tr>\n",
              "  </thead>\n",
              "  <tbody>\n",
              "    <tr>\n",
              "      <th>0</th>\n",
              "      <td>3000.00</td>\n",
              "      <td>150.50</td>\n",
              "      <td>3367</td>\n",
              "      <td>918.74</td>\n",
              "      <td>3407.20</td>\n",
              "      <td>3367</td>\n",
              "      <td>3259</td>\n",
              "      <td>3367</td>\n",
              "      <td>3366</td>\n",
              "    </tr>\n",
              "    <tr>\n",
              "      <th>1</th>\n",
              "      <td>3002.00</td>\n",
              "      <td>200.98</td>\n",
              "      <td>197</td>\n",
              "      <td>956.38</td>\n",
              "      <td>3712.71</td>\n",
              "      <td>197</td>\n",
              "      <td>188</td>\n",
              "      <td>197</td>\n",
              "      <td>197</td>\n",
              "    </tr>\n",
              "    <tr>\n",
              "      <th>2</th>\n",
              "      <td>3003.00</td>\n",
              "      <td>130.21</td>\n",
              "      <td>267</td>\n",
              "      <td>760.20</td>\n",
              "      <td>2629.50</td>\n",
              "      <td>267</td>\n",
              "      <td>260</td>\n",
              "      <td>267</td>\n",
              "      <td>267</td>\n",
              "    </tr>\n",
              "  </tbody>\n",
              "</table>\n",
              "</div>\n",
              "      <button class=\"colab-df-convert\" onclick=\"convertToInteractive('df-d933bafe-4885-42cd-b04f-164b1b7f7d8c')\"\n",
              "              title=\"Convert this dataframe to an interactive table.\"\n",
              "              style=\"display:none;\">\n",
              "        \n",
              "  <svg xmlns=\"http://www.w3.org/2000/svg\" height=\"24px\"viewBox=\"0 0 24 24\"\n",
              "       width=\"24px\">\n",
              "    <path d=\"M0 0h24v24H0V0z\" fill=\"none\"/>\n",
              "    <path d=\"M18.56 5.44l.94 2.06.94-2.06 2.06-.94-2.06-.94-.94-2.06-.94 2.06-2.06.94zm-11 1L8.5 8.5l.94-2.06 2.06-.94-2.06-.94L8.5 2.5l-.94 2.06-2.06.94zm10 10l.94 2.06.94-2.06 2.06-.94-2.06-.94-.94-2.06-.94 2.06-2.06.94z\"/><path d=\"M17.41 7.96l-1.37-1.37c-.4-.4-.92-.59-1.43-.59-.52 0-1.04.2-1.43.59L10.3 9.45l-7.72 7.72c-.78.78-.78 2.05 0 2.83L4 21.41c.39.39.9.59 1.41.59.51 0 1.02-.2 1.41-.59l7.78-7.78 2.81-2.81c.8-.78.8-2.07 0-2.86zM5.41 20L4 18.59l7.72-7.72 1.47 1.35L5.41 20z\"/>\n",
              "  </svg>\n",
              "      </button>\n",
              "      \n",
              "  <style>\n",
              "    .colab-df-container {\n",
              "      display:flex;\n",
              "      flex-wrap:wrap;\n",
              "      gap: 12px;\n",
              "    }\n",
              "\n",
              "    .colab-df-convert {\n",
              "      background-color: #E8F0FE;\n",
              "      border: none;\n",
              "      border-radius: 50%;\n",
              "      cursor: pointer;\n",
              "      display: none;\n",
              "      fill: #1967D2;\n",
              "      height: 32px;\n",
              "      padding: 0 0 0 0;\n",
              "      width: 32px;\n",
              "    }\n",
              "\n",
              "    .colab-df-convert:hover {\n",
              "      background-color: #E2EBFA;\n",
              "      box-shadow: 0px 1px 2px rgba(60, 64, 67, 0.3), 0px 1px 3px 1px rgba(60, 64, 67, 0.15);\n",
              "      fill: #174EA6;\n",
              "    }\n",
              "\n",
              "    [theme=dark] .colab-df-convert {\n",
              "      background-color: #3B4455;\n",
              "      fill: #D2E3FC;\n",
              "    }\n",
              "\n",
              "    [theme=dark] .colab-df-convert:hover {\n",
              "      background-color: #434B5C;\n",
              "      box-shadow: 0px 1px 3px 1px rgba(0, 0, 0, 0.15);\n",
              "      filter: drop-shadow(0px 1px 2px rgba(0, 0, 0, 0.3));\n",
              "      fill: #FFFFFF;\n",
              "    }\n",
              "  </style>\n",
              "\n",
              "      <script>\n",
              "        const buttonEl =\n",
              "          document.querySelector('#df-d933bafe-4885-42cd-b04f-164b1b7f7d8c button.colab-df-convert');\n",
              "        buttonEl.style.display =\n",
              "          google.colab.kernel.accessAllowed ? 'block' : 'none';\n",
              "\n",
              "        async function convertToInteractive(key) {\n",
              "          const element = document.querySelector('#df-d933bafe-4885-42cd-b04f-164b1b7f7d8c');\n",
              "          const dataTable =\n",
              "            await google.colab.kernel.invokeFunction('convertToInteractive',\n",
              "                                                     [key], {});\n",
              "          if (!dataTable) return;\n",
              "\n",
              "          const docLinkHtml = 'Like what you see? Visit the ' +\n",
              "            '<a target=\"_blank\" href=https://colab.research.google.com/notebooks/data_table.ipynb>data table notebook</a>'\n",
              "            + ' to learn more about interactive tables.';\n",
              "          element.innerHTML = '';\n",
              "          dataTable['output_type'] = 'display_data';\n",
              "          await google.colab.output.renderOutput(dataTable, element);\n",
              "          const docLink = document.createElement('div');\n",
              "          docLink.innerHTML = docLinkHtml;\n",
              "          element.appendChild(docLink);\n",
              "        }\n",
              "      </script>\n",
              "    </div>\n",
              "  </div>\n",
              "  "
            ]
          },
          "metadata": {},
          "execution_count": 191
        }
      ]
    },
    {
      "cell_type": "code",
      "source": [
        "# ahora hacemos la interseccion en pandas\n",
        "\n",
        "merged_sales_df = melb_df.merge(\n",
        "    airbnb_price_by_zipcode, how='left',\n",
        "    left_on='Postcode', right_on='zipcode')\n"
      ],
      "metadata": {
        "id": "TJ_um6B0cTdw"
      },
      "id": "TJ_um6B0cTdw",
      "execution_count": 192,
      "outputs": []
    },
    {
      "cell_type": "code",
      "source": [
        "merged_sales_df[:3]"
      ],
      "metadata": {
        "colab": {
          "base_uri": "https://localhost:8080/",
          "height": 324
        },
        "id": "_NmHmPuac2ao",
        "outputId": "4dbe69b4-acdf-4a76-9ba2-3c50d38b609c"
      },
      "id": "_NmHmPuac2ao",
      "execution_count": 193,
      "outputs": [
        {
          "output_type": "execute_result",
          "data": {
            "text/plain": [
              "       Suburb          Address  Rooms Type      Price Method SellerG  \\\n",
              "0  Abbotsford     85 Turner St      2    h 1480000.00      S  Biggin   \n",
              "1  Abbotsford  25 Bloomburg St      2    h 1035000.00      S  Biggin   \n",
              "2  Abbotsford     5 Charles St      3    h 1465000.00     SP  Biggin   \n",
              "\n",
              "        Date  Distance  Postcode  ...  Propertycount  zipcode  \\\n",
              "0  3/12/2016      2.50   3067.00  ...        4019.00  3067.00   \n",
              "1  4/02/2016      2.50   3067.00  ...        4019.00  3067.00   \n",
              "2  4/03/2017      2.50   3067.00  ...        4019.00  3067.00   \n",
              "\n",
              "   airbnb_price_mean  airbnb_record_count  airbnb_weekly_price_mean  \\\n",
              "0             130.62               258.00                    605.15   \n",
              "1             130.62               258.00                    605.15   \n",
              "2             130.62               258.00                    605.15   \n",
              "\n",
              "  airbnb_monthly_price_mean  street count  neighborhood count city count  \\\n",
              "0                   2187.03        258.00              246.00     258.00   \n",
              "1                   2187.03        258.00              246.00     258.00   \n",
              "2                   2187.03        258.00              246.00     258.00   \n",
              "\n",
              "   suburb count  \n",
              "0        258.00  \n",
              "1        258.00  \n",
              "2        258.00  \n",
              "\n",
              "[3 rows x 29 columns]"
            ],
            "text/html": [
              "\n",
              "  <div id=\"df-bfed88a1-ff7d-430d-a45f-0a7b83bf5e0e\">\n",
              "    <div class=\"colab-df-container\">\n",
              "      <div>\n",
              "<style scoped>\n",
              "    .dataframe tbody tr th:only-of-type {\n",
              "        vertical-align: middle;\n",
              "    }\n",
              "\n",
              "    .dataframe tbody tr th {\n",
              "        vertical-align: top;\n",
              "    }\n",
              "\n",
              "    .dataframe thead th {\n",
              "        text-align: right;\n",
              "    }\n",
              "</style>\n",
              "<table border=\"1\" class=\"dataframe\">\n",
              "  <thead>\n",
              "    <tr style=\"text-align: right;\">\n",
              "      <th></th>\n",
              "      <th>Suburb</th>\n",
              "      <th>Address</th>\n",
              "      <th>Rooms</th>\n",
              "      <th>Type</th>\n",
              "      <th>Price</th>\n",
              "      <th>Method</th>\n",
              "      <th>SellerG</th>\n",
              "      <th>Date</th>\n",
              "      <th>Distance</th>\n",
              "      <th>Postcode</th>\n",
              "      <th>...</th>\n",
              "      <th>Propertycount</th>\n",
              "      <th>zipcode</th>\n",
              "      <th>airbnb_price_mean</th>\n",
              "      <th>airbnb_record_count</th>\n",
              "      <th>airbnb_weekly_price_mean</th>\n",
              "      <th>airbnb_monthly_price_mean</th>\n",
              "      <th>street count</th>\n",
              "      <th>neighborhood count</th>\n",
              "      <th>city count</th>\n",
              "      <th>suburb count</th>\n",
              "    </tr>\n",
              "  </thead>\n",
              "  <tbody>\n",
              "    <tr>\n",
              "      <th>0</th>\n",
              "      <td>Abbotsford</td>\n",
              "      <td>85 Turner St</td>\n",
              "      <td>2</td>\n",
              "      <td>h</td>\n",
              "      <td>1480000.00</td>\n",
              "      <td>S</td>\n",
              "      <td>Biggin</td>\n",
              "      <td>3/12/2016</td>\n",
              "      <td>2.50</td>\n",
              "      <td>3067.00</td>\n",
              "      <td>...</td>\n",
              "      <td>4019.00</td>\n",
              "      <td>3067.00</td>\n",
              "      <td>130.62</td>\n",
              "      <td>258.00</td>\n",
              "      <td>605.15</td>\n",
              "      <td>2187.03</td>\n",
              "      <td>258.00</td>\n",
              "      <td>246.00</td>\n",
              "      <td>258.00</td>\n",
              "      <td>258.00</td>\n",
              "    </tr>\n",
              "    <tr>\n",
              "      <th>1</th>\n",
              "      <td>Abbotsford</td>\n",
              "      <td>25 Bloomburg St</td>\n",
              "      <td>2</td>\n",
              "      <td>h</td>\n",
              "      <td>1035000.00</td>\n",
              "      <td>S</td>\n",
              "      <td>Biggin</td>\n",
              "      <td>4/02/2016</td>\n",
              "      <td>2.50</td>\n",
              "      <td>3067.00</td>\n",
              "      <td>...</td>\n",
              "      <td>4019.00</td>\n",
              "      <td>3067.00</td>\n",
              "      <td>130.62</td>\n",
              "      <td>258.00</td>\n",
              "      <td>605.15</td>\n",
              "      <td>2187.03</td>\n",
              "      <td>258.00</td>\n",
              "      <td>246.00</td>\n",
              "      <td>258.00</td>\n",
              "      <td>258.00</td>\n",
              "    </tr>\n",
              "    <tr>\n",
              "      <th>2</th>\n",
              "      <td>Abbotsford</td>\n",
              "      <td>5 Charles St</td>\n",
              "      <td>3</td>\n",
              "      <td>h</td>\n",
              "      <td>1465000.00</td>\n",
              "      <td>SP</td>\n",
              "      <td>Biggin</td>\n",
              "      <td>4/03/2017</td>\n",
              "      <td>2.50</td>\n",
              "      <td>3067.00</td>\n",
              "      <td>...</td>\n",
              "      <td>4019.00</td>\n",
              "      <td>3067.00</td>\n",
              "      <td>130.62</td>\n",
              "      <td>258.00</td>\n",
              "      <td>605.15</td>\n",
              "      <td>2187.03</td>\n",
              "      <td>258.00</td>\n",
              "      <td>246.00</td>\n",
              "      <td>258.00</td>\n",
              "      <td>258.00</td>\n",
              "    </tr>\n",
              "  </tbody>\n",
              "</table>\n",
              "<p>3 rows × 29 columns</p>\n",
              "</div>\n",
              "      <button class=\"colab-df-convert\" onclick=\"convertToInteractive('df-bfed88a1-ff7d-430d-a45f-0a7b83bf5e0e')\"\n",
              "              title=\"Convert this dataframe to an interactive table.\"\n",
              "              style=\"display:none;\">\n",
              "        \n",
              "  <svg xmlns=\"http://www.w3.org/2000/svg\" height=\"24px\"viewBox=\"0 0 24 24\"\n",
              "       width=\"24px\">\n",
              "    <path d=\"M0 0h24v24H0V0z\" fill=\"none\"/>\n",
              "    <path d=\"M18.56 5.44l.94 2.06.94-2.06 2.06-.94-2.06-.94-.94-2.06-.94 2.06-2.06.94zm-11 1L8.5 8.5l.94-2.06 2.06-.94-2.06-.94L8.5 2.5l-.94 2.06-2.06.94zm10 10l.94 2.06.94-2.06 2.06-.94-2.06-.94-.94-2.06-.94 2.06-2.06.94z\"/><path d=\"M17.41 7.96l-1.37-1.37c-.4-.4-.92-.59-1.43-.59-.52 0-1.04.2-1.43.59L10.3 9.45l-7.72 7.72c-.78.78-.78 2.05 0 2.83L4 21.41c.39.39.9.59 1.41.59.51 0 1.02-.2 1.41-.59l7.78-7.78 2.81-2.81c.8-.78.8-2.07 0-2.86zM5.41 20L4 18.59l7.72-7.72 1.47 1.35L5.41 20z\"/>\n",
              "  </svg>\n",
              "      </button>\n",
              "      \n",
              "  <style>\n",
              "    .colab-df-container {\n",
              "      display:flex;\n",
              "      flex-wrap:wrap;\n",
              "      gap: 12px;\n",
              "    }\n",
              "\n",
              "    .colab-df-convert {\n",
              "      background-color: #E8F0FE;\n",
              "      border: none;\n",
              "      border-radius: 50%;\n",
              "      cursor: pointer;\n",
              "      display: none;\n",
              "      fill: #1967D2;\n",
              "      height: 32px;\n",
              "      padding: 0 0 0 0;\n",
              "      width: 32px;\n",
              "    }\n",
              "\n",
              "    .colab-df-convert:hover {\n",
              "      background-color: #E2EBFA;\n",
              "      box-shadow: 0px 1px 2px rgba(60, 64, 67, 0.3), 0px 1px 3px 1px rgba(60, 64, 67, 0.15);\n",
              "      fill: #174EA6;\n",
              "    }\n",
              "\n",
              "    [theme=dark] .colab-df-convert {\n",
              "      background-color: #3B4455;\n",
              "      fill: #D2E3FC;\n",
              "    }\n",
              "\n",
              "    [theme=dark] .colab-df-convert:hover {\n",
              "      background-color: #434B5C;\n",
              "      box-shadow: 0px 1px 3px 1px rgba(0, 0, 0, 0.15);\n",
              "      filter: drop-shadow(0px 1px 2px rgba(0, 0, 0, 0.3));\n",
              "      fill: #FFFFFF;\n",
              "    }\n",
              "  </style>\n",
              "\n",
              "      <script>\n",
              "        const buttonEl =\n",
              "          document.querySelector('#df-bfed88a1-ff7d-430d-a45f-0a7b83bf5e0e button.colab-df-convert');\n",
              "        buttonEl.style.display =\n",
              "          google.colab.kernel.accessAllowed ? 'block' : 'none';\n",
              "\n",
              "        async function convertToInteractive(key) {\n",
              "          const element = document.querySelector('#df-bfed88a1-ff7d-430d-a45f-0a7b83bf5e0e');\n",
              "          const dataTable =\n",
              "            await google.colab.kernel.invokeFunction('convertToInteractive',\n",
              "                                                     [key], {});\n",
              "          if (!dataTable) return;\n",
              "\n",
              "          const docLinkHtml = 'Like what you see? Visit the ' +\n",
              "            '<a target=\"_blank\" href=https://colab.research.google.com/notebooks/data_table.ipynb>data table notebook</a>'\n",
              "            + ' to learn more about interactive tables.';\n",
              "          element.innerHTML = '';\n",
              "          dataTable['output_type'] = 'display_data';\n",
              "          await google.colab.output.renderOutput(dataTable, element);\n",
              "          const docLink = document.createElement('div');\n",
              "          docLink.innerHTML = docLinkHtml;\n",
              "          element.appendChild(docLink);\n",
              "        }\n",
              "      </script>\n",
              "    </div>\n",
              "  </div>\n",
              "  "
            ]
          },
          "metadata": {},
          "execution_count": 193
        }
      ]
    },
    {
      "cell_type": "markdown",
      "source": [
        "### Punto 3 Otras columnas"
      ],
      "metadata": {
        "id": "Dz-Yctt2L9yj"
      },
      "id": "Dz-Yctt2L9yj"
    },
    {
      "cell_type": "markdown",
      "source": [
        "Para seleccionar columnas candidatas que sirvan para combinar ambos conjuntos de datos podemos plantear los siguientes criterios\n",
        "\n",
        "* Agrupar por variables estructurales. Por ejemplo, cantidad de habitaciones o baños\n",
        "* Agrupar por ubicación dentro del área urbana, como ser suburbio o barrio\n",
        "\n",
        "* Agregar por espacio para estacionar. Si bien no existe explícitamente en el conjunto de datos de airbnb, si se puede derivar a partir de la columna `amenities`\n",
        "* Por areas poligonales definidas en un catálogo. A partir de los valores de latitud y longitud (disponibles en ambos conjuntos de datos) se puede evaluar la pertenencia de la propiedad dentro de un area arbitraria.\n",
        "\n",
        "\n",
        "\n"
      ],
      "metadata": {
        "id": "d03Mykl6NyOD"
      },
      "id": "d03Mykl6NyOD"
    },
    {
      "cell_type": "markdown",
      "source": [
        "Finalmente tomamos las columas que indican\n",
        "* Cantidad de baños (`Bathroom` / `bathrooms`)\n",
        "* Ubicación de la propiedad (`Suburb` / `street`)\n",
        "\n",
        "La justificación se basa en que se analizan dimensiones distintas de cada propiedad, y que existe una correlación entre la cantidad de baños y otros parametros de una casa o departamento."
      ],
      "metadata": {
        "id": "adK5cOLDdyAq"
      },
      "id": "adK5cOLDdyAq"
    },
    {
      "cell_type": "markdown",
      "source": [
        "\n",
        "\n",
        "---\n",
        "\n"
      ],
      "metadata": {
        "id": "OxaF_gcKbLNl"
      },
      "id": "OxaF_gcKbLNl"
    },
    {
      "cell_type": "code",
      "source": [
        "melb_df.columns"
      ],
      "metadata": {
        "colab": {
          "base_uri": "https://localhost:8080/"
        },
        "id": "hA-C8KXyL9g9",
        "outputId": "477bea49-022d-4d16-b5d1-e8c4669050ee"
      },
      "id": "hA-C8KXyL9g9",
      "execution_count": 194,
      "outputs": [
        {
          "output_type": "execute_result",
          "data": {
            "text/plain": [
              "Index(['Suburb', 'Address', 'Rooms', 'Type', 'Price', 'Method', 'SellerG',\n",
              "       'Date', 'Distance', 'Postcode', 'Bathroom', 'Car', 'Landsize',\n",
              "       'BuildingArea', 'YearBuilt', 'CouncilArea', 'Lattitude', 'Longtitude',\n",
              "       'Regionname', 'Propertycount'],\n",
              "      dtype='object')"
            ]
          },
          "metadata": {},
          "execution_count": 194
        }
      ]
    },
    {
      "cell_type": "code",
      "source": [
        "airbnb_df = pandas.read_csv(\n",
        "    'https://cs.famaf.unc.edu.ar/~mteruel/datasets/diplodatos/cleansed_listings_dec18.csv')\n",
        "\n",
        "airbnb_df.columns"
      ],
      "metadata": {
        "id": "SxLIDlJjMKXm"
      },
      "execution_count": null,
      "outputs": [],
      "id": "SxLIDlJjMKXm"
    },
    {
      "cell_type": "markdown",
      "source": [
        "#### Por ubicación\n",
        "\n",
        "Se puede hacer una correspondencia entre los valores la columna `Suburb` del conjunto de datos `melb_df` y un subconjunto de los presentes en la columna `street` del conjunto de datos `airbnb_df`"
      ],
      "metadata": {
        "id": "XgFGW5zdZvuy"
      },
      "id": "XgFGW5zdZvuy"
    },
    {
      "cell_type": "code",
      "source": [
        "melb_df.Suburb.value_counts()"
      ],
      "metadata": {
        "id": "Awo3xdrzYRCz"
      },
      "id": "Awo3xdrzYRCz",
      "execution_count": null,
      "outputs": []
    },
    {
      "cell_type": "code",
      "source": [
        "airbnb_df[airbnb_df.street.str.contains('Melbourne')].street.value_counts()"
      ],
      "metadata": {
        "id": "T11kKKhHYHJ1"
      },
      "id": "T11kKKhHYHJ1",
      "execution_count": null,
      "outputs": []
    },
    {
      "cell_type": "markdown",
      "source": [
        "#### Columna candidata: Tipo de propiedad\n",
        "\n",
        "Ambos conjuntos de datos tienen una columna que indica el tipo de propiedad. Esta columna ces "
      ],
      "metadata": {
        "id": "wxTYpO5QPgUt"
      },
      "id": "wxTYpO5QPgUt"
    },
    {
      "cell_type": "code",
      "source": [
        "airbnb_df.property_type.value_counts()"
      ],
      "metadata": {
        "colab": {
          "base_uri": "https://localhost:8080/"
        },
        "id": "XJ24lxflOO6o",
        "outputId": "11276e1e-0be1-4545-bb76-5cc6e8ed5f58"
      },
      "id": "XJ24lxflOO6o",
      "execution_count": 239,
      "outputs": [
        {
          "output_type": "execute_result",
          "data": {
            "text/plain": [
              "Apartment                 12469\n",
              "House                      5967\n",
              "Townhouse                  1434\n",
              "Condominium                 544\n",
              "Serviced apartment          500\n",
              "Villa                       326\n",
              "Guesthouse                  276\n",
              "Bed and breakfast           263\n",
              "Guest suite                 260\n",
              "Loft                        191\n",
              "Cottage                     157\n",
              "Bungalow                    157\n",
              "Other                        49\n",
              "Cabin                        46\n",
              "Boutique hotel               44\n",
              "Farm stay                    43\n",
              "Hostel                       32\n",
              "Tiny house                   25\n",
              "Camper/RV                    16\n",
              "Aparthotel                   12\n",
              "Hotel                        11\n",
              "Campsite                     10\n",
              "Earth house                  10\n",
              "Tent                          9\n",
              "Nature lodge                  8\n",
              "Boat                          8\n",
              "Resort                        6\n",
              "Barn                          5\n",
              "Chalet                        4\n",
              "Castle                        4\n",
              "Hut                           3\n",
              "Treehouse                     3\n",
              "Train                         1\n",
              "Minsu (Taiwan)                1\n",
              "Casa particular (Cuba)        1\n",
              "Name: property_type, dtype: int64"
            ]
          },
          "metadata": {},
          "execution_count": 239
        }
      ]
    },
    {
      "cell_type": "code",
      "source": [
        "melb_df.Type.value_counts()"
      ],
      "metadata": {
        "colab": {
          "base_uri": "https://localhost:8080/"
        },
        "id": "eHY5FHsyObAG",
        "outputId": "720a81f2-2b80-4f2a-af28-eb30daaf31b3"
      },
      "id": "eHY5FHsyObAG",
      "execution_count": 238,
      "outputs": [
        {
          "output_type": "execute_result",
          "data": {
            "text/plain": [
              "h    9449\n",
              "u    3017\n",
              "t    1114\n",
              "Name: Type, dtype: int64"
            ]
          },
          "metadata": {},
          "execution_count": 238
        }
      ]
    },
    {
      "cell_type": "markdown",
      "source": [
        "#### Columna candidata : Baños"
      ],
      "metadata": {
        "id": "f7aWpxNrUp31"
      },
      "id": "f7aWpxNrUp31"
    },
    {
      "cell_type": "code",
      "source": [
        "airbnb_df.bathrooms.value_counts()"
      ],
      "metadata": {
        "colab": {
          "base_uri": "https://localhost:8080/"
        },
        "id": "xRH9DYzIOwaz",
        "outputId": "1f6862e6-bbee-4c72-9ceb-5ebb342caf72"
      },
      "id": "xRH9DYzIOwaz",
      "execution_count": 240,
      "outputs": [
        {
          "output_type": "execute_result",
          "data": {
            "text/plain": [
              "1.00     16568\n",
              "2.00      3681\n",
              "1.50      1290\n",
              "2.50       657\n",
              "3.00       324\n",
              "3.50       110\n",
              "0.50        81\n",
              "4.00        70\n",
              "5.00        34\n",
              "0.00        31\n",
              "4.50        11\n",
              "6.00         6\n",
              "5.50         6\n",
              "7.00         2\n",
              "6.50         2\n",
              "8.00         1\n",
              "14.00        1\n",
              "9.00         1\n",
              "7.50         1\n",
              "10.00        1\n",
              "Name: bathrooms, dtype: int64"
            ]
          },
          "metadata": {},
          "execution_count": 240
        }
      ]
    },
    {
      "cell_type": "code",
      "source": [
        "melb_df.Bathroom.value_counts()"
      ],
      "metadata": {
        "colab": {
          "base_uri": "https://localhost:8080/"
        },
        "id": "IN-7PXHQOzX4",
        "outputId": "3f69b012-83ad-4723-c235-e06af70def71"
      },
      "id": "IN-7PXHQOzX4",
      "execution_count": 241,
      "outputs": [
        {
          "output_type": "execute_result",
          "data": {
            "text/plain": [
              "1.00    7512\n",
              "2.00    4974\n",
              "3.00     917\n",
              "4.00     106\n",
              "0.00      34\n",
              "5.00      28\n",
              "6.00       5\n",
              "7.00       2\n",
              "8.00       2\n",
              "Name: Bathroom, dtype: int64"
            ]
          },
          "metadata": {},
          "execution_count": 241
        }
      ]
    },
    {
      "cell_type": "markdown",
      "source": [
        "Si bien las distribuciones no son exactamente iguales (y deben curarse los casos donde figuran fracciones de baños), esta columna es una buena candidata ya que ambas variables presentan una distribución similar"
      ],
      "metadata": {
        "id": "FfzsXsVvc61d"
      },
      "id": "FfzsXsVvc61d"
    },
    {
      "cell_type": "code",
      "source": [
        "melb_df.Bathroom.describe()"
      ],
      "metadata": {
        "colab": {
          "base_uri": "https://localhost:8080/"
        },
        "id": "fIgdQJNuddID",
        "outputId": "ed4edc9c-67f3-4bcc-96a0-dca59690de69"
      },
      "id": "fIgdQJNuddID",
      "execution_count": 284,
      "outputs": [
        {
          "output_type": "execute_result",
          "data": {
            "text/plain": [
              "count   13580.00\n",
              "mean        1.53\n",
              "std         0.69\n",
              "min         0.00\n",
              "25%         1.00\n",
              "50%         1.00\n",
              "75%         2.00\n",
              "max         8.00\n",
              "Name: Bathroom, dtype: float64"
            ]
          },
          "metadata": {},
          "execution_count": 284
        }
      ]
    },
    {
      "cell_type": "code",
      "source": [
        "airbnb_df.bathrooms.describe()"
      ],
      "metadata": {
        "colab": {
          "base_uri": "https://localhost:8080/"
        },
        "id": "Q9BkYPZadgcr",
        "outputId": "820c458b-0445-405b-ec58-06ba023b2d85"
      },
      "id": "Q9BkYPZadgcr",
      "execution_count": 285,
      "outputs": [
        {
          "output_type": "execute_result",
          "data": {
            "text/plain": [
              "count   22878.00\n",
              "mean        1.29\n",
              "std         0.58\n",
              "min         0.00\n",
              "25%         1.00\n",
              "50%         1.00\n",
              "75%         1.50\n",
              "max        14.00\n",
              "Name: bathrooms, dtype: float64"
            ]
          },
          "metadata": {},
          "execution_count": 285
        }
      ]
    },
    {
      "cell_type": "code",
      "source": [
        "fig, (ax1, ax2) = plt.subplots(1, 2, figsize = (20, 20))\n",
        "plt.title('Cantidad de baños (airbnb vs melb)')\n",
        "\n",
        "seaborn.histplot(data = airbnb_df, x='bathrooms', ax=ax1)\n",
        "seaborn.histplot(data = melb_df, x='Bathroom', ax=ax2)"
      ],
      "metadata": {
        "colab": {
          "base_uri": "https://localhost:8080/",
          "height": 1000
        },
        "id": "PpNLxCWDbVh6",
        "outputId": "f8041806-17dc-4a80-ef1b-674331defe69"
      },
      "id": "PpNLxCWDbVh6",
      "execution_count": 283,
      "outputs": [
        {
          "output_type": "execute_result",
          "data": {
            "text/plain": [
              "<matplotlib.axes._subplots.AxesSubplot at 0x7fd6469b8650>"
            ]
          },
          "metadata": {},
          "execution_count": 283
        },
        {
          "output_type": "display_data",
          "data": {
            "text/plain": [
              "<Figure size 1440x1440 with 2 Axes>"
            ],
            "image/png": "[encoded data removed]"
          },
          "metadata": {
            "needs_background": "light"
          }
        }
      ]
    },
    {
      "cell_type": "code",
      "source": [
        ""
      ],
      "metadata": {
        "id": "KO5F6BtndbDc"
      },
      "id": "KO5F6BtndbDc",
      "execution_count": null,
      "outputs": []
    },
    {
      "cell_type": "markdown",
      "source": [
        "#### Columna candidata: Espacio para estacionar"
      ],
      "metadata": {
        "id": "BqIIK3KXUuWe"
      },
      "id": "BqIIK3KXUuWe"
    },
    {
      "cell_type": "markdown",
      "source": [
        "Mas de `2/3` de las propiedades en el conjunto de datos de airbnb contienen espacio para estacionar"
      ],
      "metadata": {
        "id": "9Cj5xlmYVBLM"
      },
      "id": "9Cj5xlmYVBLM"
    },
    {
      "cell_type": "code",
      "source": [
        "def naive_parking_detector(s):\n",
        "  \"\"\"\n",
        "  Naive check to validate if an airbnb property includes parking space.\n",
        "  It assumes that the word 'parking' is not preceded or followed by a negative\n",
        "  modifier, such as 'no parking' or 'parking forbidden'. \n",
        "  Also, performance is not considered as a factor.\n",
        "  \"\"\"\n",
        "  r = s.replace(\"{\", \"\").replace(\"}\", \"\")\\\n",
        "  .replace('\"','').lower()\n",
        "\n",
        "  return 'parking' in r.lower()\n",
        "\n",
        "airbnb_df['car'] = airbnb_df.amenities.apply(naive_parking_detector)\n",
        "airbnb_df.car.value_counts()"
      ],
      "metadata": {
        "colab": {
          "base_uri": "https://localhost:8080/"
        },
        "id": "DlziP26lVVt8",
        "outputId": "11290236-c8d6-4ced-bea2-ba4f5edef624"
      },
      "id": "DlziP26lVVt8",
      "execution_count": 286,
      "outputs": [
        {
          "output_type": "execute_result",
          "data": {
            "text/plain": [
              "True     16815\n",
              "False     6080\n",
              "Name: car, dtype: int64"
            ]
          },
          "metadata": {},
          "execution_count": 286
        }
      ]
    },
    {
      "cell_type": "markdown",
      "source": [
        "En el conjunto de datos de Melbourne, la proporción es aún mas alta."
      ],
      "metadata": {
        "id": "W8WZdmxeVWPH"
      },
      "id": "W8WZdmxeVWPH"
    },
    {
      "cell_type": "code",
      "source": [
        "print(len(melb_df))\n",
        "len(melb_df[melb_df.Car > 0])"
      ],
      "metadata": {
        "colab": {
          "base_uri": "https://localhost:8080/"
        },
        "id": "xjCuXDlUVH6d",
        "outputId": "bfaa0b00-d14d-4095-a1b6-a72b567b8312"
      },
      "id": "xjCuXDlUVH6d",
      "execution_count": 287,
      "outputs": [
        {
          "output_type": "stream",
          "name": "stdout",
          "text": [
            "13580\n"
          ]
        },
        {
          "output_type": "execute_result",
          "data": {
            "text/plain": [
              "12492"
            ]
          },
          "metadata": {},
          "execution_count": 287
        }
      ]
    }
  ],
  "metadata": {
    "kernelspec": {
      "display_name": "Python 3",
      "language": "python",
      "name": "python3"
    },
    "language_info": {
      "codemirror_mode": {
        "name": "ipython",
        "version": 3
      },
      "file_extension": ".py",
      "mimetype": "text/x-python",
      "name": "python",
      "nbconvert_exporter": "python",
      "pygments_lexer": "ipython3",
      "version": "3.8.8"
    },
    "colab": {
      "name": "CuraciondeDatos_entregable_parte_1y2_reversionado.ipynb",
      "provenance": [],
      "collapsed_sections": [
        "6cffe5bf-2498-498c-aa06-3e61422d91e6",
        "c5468c4f-5cdf-4df4-a317-60e1fb0c00db",
        "c5303f27-3b15-441b-b291-8caf1c734139",
        "abfd3eeb-d466-424b-b58e-d1364ac39206",
        "rDzdQOe0oeS-",
        "lEnmgh1-u8w3",
        "XgFGW5zdZvuy",
        "wxTYpO5QPgUt",
        "f7aWpxNrUp31"
      ],
      "include_colab_link": true
    }
  },
  "nbformat": 4,
  "nbformat_minor": 5
}