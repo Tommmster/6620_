{
  "cells": [
    {
      "cell_type": "markdown",
      "metadata": {
        "id": "view-in-github",
        "colab_type": "text"
      },
      "source": [
        "<a href=\"https://colab.research.google.com/github/Tommmster/6620_/blob/master/Copy_of_AS_g20.ipynb\" target=\"_parent\"><img src=\"https://colab.research.google.com/assets/colab-badge.svg\" alt=\"Open In Colab\"/></a>"
      ]
    },
    {
      "cell_type": "markdown",
      "metadata": {
        "id": "b7YKwkwuBISY"
      },
      "source": [
        "# DiploDatos Kaggle Competition"
      ]
    },
    {
      "cell_type": "markdown",
      "metadata": {
        "id": "ciNuqkmEBISZ"
      },
      "source": [
        "Presentamos un código creado como ejemplo de base para la competición.\n",
        "\n",
        "Deben:\n",
        "\n",
        "- Explorar los datos y aprender de ellos.\n",
        "- Probar diferentes modelos y ver cuáles ajustan mejor dado los datos.\n",
        "- **Obtener una accuracy mejor que la que se presenta en este ejemplo.**\n",
        "- Tratar de obtener la accuracy más alta posible!\n",
        "- Discutir la elección de modelo.\n",
        "\n",
        "El análisis exploratorio y el preprocesamiento de los datos queda a libertad de cada grupo y no deben quedarse con este simple ejemplo."
      ]
    },
    {
      "cell_type": "markdown",
      "metadata": {
        "id": "dLb4nvXkm_6p"
      },
      "source": [
        "### <font color=blue>Descripciones de archivos y campos de datos\n",
        "<font color=blue>***train.csv*** : registros personales de aproximadamente dos tercios (~ 8700) de los pasajeros, que se utilizarán como datos de capacitación.\n",
        "\n",
        "<font color=blue>**PassengerId**- Un Id único para cada pasajero.<br>\n",
        "**HomePlanet**- El planeta del que partió el pasajero, normalmente su planeta de residencia permanente.<br>\n",
        "**CryoSleep**- Indica si el pasajero eligió ser puesto en animación suspendida durante la duración del viaje. Los pasajeros en criosueño están confinados en sus cabinas.<br>\n",
        "**Cabin**- El número de cabina donde se hospeda el pasajero. Toma la forma deck/num/side, donde side puede ser Ppor Babor o Spor Estribor . Babor y estribor son, respectivamente, los lados izquierdo y derecho de una embarcación, mirando hacia proa (la parte delantera del barco), independientemente del sentido de la marcha.<br>\n",
        "**Destination**- El planeta al que desembarcará el pasajero.<br>\n",
        "**Age**- La edad del pasajero.<br>\n",
        "**VIP**- Si el pasajero ha pagado por servicio VIP especial durante el viaje.<br>\n",
        "**RoomService, FoodCourt, ShoppingMall, Spa, VRDeck**- Monto que el pasajero ha facturado en cada uno de los muchos servicios de lujo del Spaceship Titanic .<br>\n",
        "**Name**- El nombre y apellido del pasajero.<br>\n",
        "**Transported**- Si el pasajero fue transportado a otra dimensión. Este es el objetivo, la columna que está tratando de predecir.<br>\n",
        "***test.csv*** : registros personales del tercio restante (~4300) de los pasajeros, que se utilizarán como datos de prueba. Su tarea es predecir el valor de Transported para los pasajeros en este conjunto.<br>**PassengerId**- Id para cada pasajero en el conjunto de prueba.<br>**Transported**- El objetivo. Para cada pasajero, prediga True o False.\n"
      ]
    },
    {
      "cell_type": "code",
      "execution_count": 6,
      "metadata": {
        "id": "ysiBqkqHBISa"
      },
      "outputs": [],
      "source": [
        "import pandas as pd\n",
        "import numpy as np\n",
        "import matplotlib.pyplot as plt\n",
        "\n",
        "from sklearn.preprocessing import StandardScaler, LabelEncoder\n",
        "from sklearn.impute import SimpleImputer\n",
        "from sklearn.model_selection import train_test_split, GridSearchCV, StratifiedKFold\n",
        "from sklearn.metrics import accuracy_score, ConfusionMatrixDisplay, classification_report\n",
        "\n",
        "from sklearn.tree import DecisionTreeClassifier"
      ]
    },
    {
      "cell_type": "code",
      "execution_count": 7,
      "metadata": {
        "id": "dscBelz3SSOY"
      },
      "outputs": [],
      "source": [
        "import seaborn as sns\n",
        "import matplotlib.pyplot as plt"
      ]
    },
    {
      "cell_type": "code",
      "execution_count": 8,
      "metadata": {
        "colab": {
          "base_uri": "https://localhost:8080/"
        },
        "id": "4sBGQ1rXLjDP",
        "outputId": "3e40a613-8405-465c-e1cd-e1ef8daf025c"
      },
      "outputs": [
        {
          "output_type": "stream",
          "name": "stdout",
          "text": [
            "Mounted at /content/drive\n"
          ]
        }
      ],
      "source": [
        "from google.colab import drive\n",
        "\n",
        "drive.mount('/content/drive')\n",
        "df = pd.read_csv('/content/drive/MyDrive/AS/train.csv')\n",
        "df_test = pd.read_csv('/content/drive/MyDrive/AS/test.csv')\n",
        "passengerId = df.PassengerId"
      ]
    },
    {
      "cell_type": "markdown",
      "metadata": {
        "id": "RUuVusnLBISc"
      },
      "source": [
        "## Algún análisis exploratorio que permita tomar decisiones sobre las variabes a usar, transformaciones de variables, tratamiento de los datos faltantes, etc. etc."
      ]
    },
    {
      "cell_type": "markdown",
      "metadata": {
        "id": "X39bkrszn8M1"
      },
      "source": [
        "###<font color=blue> Analisis Exploratorio y Transformacion de variables"
      ]
    },
    {
      "cell_type": "code",
      "execution_count": 9,
      "metadata": {
        "colab": {
          "base_uri": "https://localhost:8080/"
        },
        "id": "UUA-rQYj-KHw",
        "outputId": "e0bfc16c-5da4-43e1-dd96-d4c01d3ffca0"
      },
      "outputs": [
        {
          "output_type": "stream",
          "name": "stdout",
          "text": [
            "<class 'pandas.core.frame.DataFrame'>\n",
            "RangeIndex: 8693 entries, 0 to 8692\n",
            "Data columns (total 14 columns):\n",
            " #   Column        Non-Null Count  Dtype  \n",
            "---  ------        --------------  -----  \n",
            " 0   PassengerId   8693 non-null   object \n",
            " 1   HomePlanet    8492 non-null   object \n",
            " 2   CryoSleep     8476 non-null   object \n",
            " 3   Cabin         8494 non-null   object \n",
            " 4   Destination   8511 non-null   object \n",
            " 5   Age           8514 non-null   float64\n",
            " 6   VIP           8490 non-null   object \n",
            " 7   RoomService   8512 non-null   float64\n",
            " 8   FoodCourt     8510 non-null   float64\n",
            " 9   ShoppingMall  8485 non-null   float64\n",
            " 10  Spa           8510 non-null   float64\n",
            " 11  VRDeck        8505 non-null   float64\n",
            " 12  Name          8493 non-null   object \n",
            " 13  Transported   8693 non-null   bool   \n",
            "dtypes: bool(1), float64(6), object(7)\n",
            "memory usage: 891.5+ KB\n"
          ]
        }
      ],
      "source": [
        "df.info()"
      ]
    },
    {
      "cell_type": "code",
      "execution_count": 10,
      "metadata": {
        "colab": {
          "base_uri": "https://localhost:8080/",
          "height": 313
        },
        "id": "vM6NHJmOpS6M",
        "outputId": "cb29f506-a0c6-4be1-8005-85d43a75644f"
      },
      "outputs": [
        {
          "output_type": "execute_result",
          "data": {
            "text/plain": [
              "[Text(0.5, 1.0, 'Gráfico de barras de Transported')]"
            ]
          },
          "metadata": {},
          "execution_count": 10
        },
        {
          "output_type": "display_data",
          "data": {
            "text/plain": [
              "<Figure size 432x288 with 1 Axes>"
            ],
            "image/png": "[encoded data removed]"
          },
          "metadata": {
            "needs_background": "light"
          }
        }
      ],
      "source": [
        "plt.figure(figsize = (6,4))\n",
        "g = sns.countplot(x='Transported', data=df, color='blue')\n",
        "g.set(title='Gráfico de barras de Transported')\n"
      ]
    },
    {
      "cell_type": "markdown",
      "metadata": {
        "id": "dnSzwfh9NrF_"
      },
      "source": [
        "<font color=blue> Como se puede apreciar las clases estan balanceadas."
      ]
    },
    {
      "cell_type": "markdown",
      "metadata": {
        "id": "eBj4rb5-UhGa"
      },
      "source": [
        "<font color=blue> Para la visualizacion de los datos primero vamos a realizar una serie de separacion de columnas acorde a lo indicado, estas corresponderan a las columnas:Cabin, Name a los fines de realizar luego determinadas imputaciones que nos permitiran predecir el valor de la variable objetivo."
      ]
    },
    {
      "cell_type": "code",
      "execution_count": 11,
      "metadata": {
        "id": "PyisFHcVWUvB"
      },
      "outputs": [],
      "source": [
        "#Parseamos el campo Cabin,seatamos los campos nuevos, luego recorremos mediante un for el df y para todos aquellos caso que no sean nulos realizado el parseo del campo Cabin\n",
        "\n",
        "for Dataset in (df, df_test):\n",
        " Dataset['Cabin_deck'] = np.NaN\n",
        " Dataset['Cabin_num'] = np.NaN\n",
        " Dataset['Cabin_side'] = np.NaN\n",
        " for i in range(len(Dataset)):\n",
        "    if pd.isna(Dataset.iloc[i]['Cabin']):\n",
        "        continue\n",
        "    deck, num, side = Dataset.iloc[i]['Cabin'].split('/')\n",
        "    Dataset.loc[i, 'Cabin_deck'] = deck\n",
        "    Dataset.loc[i, 'Cabin_num'] = int(num)\n",
        "    Dataset.loc[i, 'Cabin_side'] = side\n",
        "\n"
      ]
    },
    {
      "cell_type": "code",
      "execution_count": 12,
      "metadata": {
        "id": "OkNmDufypAp_"
      },
      "outputs": [],
      "source": [
        "#identificamos tipos de variables para el analisis exploratorio del conjunto train\n",
        "variables_categoricas = []\n",
        "variables_numericas = []\n",
        "for columna in df.columns:\n",
        "  if columna in ['PassengerId', 'Transported']:\n",
        "    continue\n",
        "  if df[columna].dtype == 'object':\n",
        "     variables_categoricas += [columna]\n",
        "  else:\n",
        "     variables_numericas += [columna]\n",
        "        "
      ]
    },
    {
      "cell_type": "code",
      "execution_count": 13,
      "metadata": {
        "colab": {
          "base_uri": "https://localhost:8080/",
          "height": 550
        },
        "id": "8zDlHWpNgz51",
        "outputId": "18dfb56c-02b4-4225-c7a2-33d0f6b07b02"
      },
      "outputs": [
        {
          "output_type": "display_data",
          "data": {
            "text/plain": [
              "<Figure size 1152x1440 with 6 Axes>"
            ],
            "image/png": "[encoded data removed]"
          },
          "metadata": {
            "needs_background": "light"
          }
        }
      ],
      "source": [
        "# veamos como es la distribucion de las clases para las variables mas interesantes\n",
        "categoricas_columns=['Destination','HomePlanet','Cabin_deck','Cabin_side', 'CryoSleep', 'VIP']\n",
        "\n",
        "plt.rcParams['figure.figsize'] = (16,20)\n",
        "for i in range(len(categoricas_columns)):\n",
        " plt.subplot(5,3,i+1) \n",
        " plt.tight_layout()\n",
        " df_column=df[['PassengerId', categoricas_columns[i],'Transported']].drop_duplicates(subset =['PassengerId', categoricas_columns[i]], keep = 'first')\n",
        " g = sns.countplot(x=categoricas_columns[i], data=df_column, hue='Transported')\n",
        " g.set(title='Analisis - '+ categoricas_columns[i] + ' por PassengerId')\n",
        " h, l = g.get_legend_handles_labels()\n",
        " plt.legend(title='Transported', handles=h, labels=['No', 'Yes'])"
      ]
    },
    {
      "cell_type": "markdown",
      "metadata": {
        "id": "ofFVlV0gm-uw"
      },
      "source": [
        "<font color=blue>Como se puede apreciar para algunas variables categoricas no se logra identificar algun comportamiento diferente que nos de indicios de que fue o No Transportado.<br> Por otro lado, para la variable CryoSleep cuando es False, es mayor la cantidad de personas no transportadas. Mientras que si es True es menor la cantidad de personas transportadas. Esto puede deberse a que las personas no CryoSleep no se encontraban en sus cabinas al momento del impacto.<br>Veamos algunas variables numericas."
      ]
    },
    {
      "cell_type": "code",
      "execution_count": 14,
      "metadata": {
        "colab": {
          "base_uri": "https://localhost:8080/",
          "height": 300
        },
        "id": "RvYx0FzkdkhH",
        "outputId": "ee1b3267-68b9-4835-8ade-67461185071e"
      },
      "outputs": [
        {
          "output_type": "execute_result",
          "data": {
            "text/plain": [
              "               Age   RoomService     FoodCourt  ShoppingMall           Spa  \\\n",
              "count  8514.000000   8512.000000   8510.000000   8485.000000   8510.000000   \n",
              "mean     28.827930    224.687617    458.077203    173.729169    311.138778   \n",
              "std      14.489021    666.717663   1611.489240    604.696458   1136.705535   \n",
              "min       0.000000      0.000000      0.000000      0.000000      0.000000   \n",
              "25%      19.000000      0.000000      0.000000      0.000000      0.000000   \n",
              "50%      27.000000      0.000000      0.000000      0.000000      0.000000   \n",
              "75%      38.000000     47.000000     76.000000     27.000000     59.000000   \n",
              "max      79.000000  14327.000000  29813.000000  23492.000000  22408.000000   \n",
              "\n",
              "             VRDeck    Cabin_num  \n",
              "count   8505.000000  8494.000000  \n",
              "mean     304.854791   600.367671  \n",
              "std     1145.717189   511.867226  \n",
              "min        0.000000     0.000000  \n",
              "25%        0.000000   167.250000  \n",
              "50%        0.000000   427.000000  \n",
              "75%       46.000000   999.000000  \n",
              "max    24133.000000  1894.000000  "
            ],
            "text/html": [
              "\n",
              "  <div id=\"df-6dd90e67-20c2-4466-a4e8-8d085b2fde5f\">\n",
              "    <div class=\"colab-df-container\">\n",
              "      <div>\n",
              "<style scoped>\n",
              "    .dataframe tbody tr th:only-of-type {\n",
              "        vertical-align: middle;\n",
              "    }\n",
              "\n",
              "    .dataframe tbody tr th {\n",
              "        vertical-align: top;\n",
              "    }\n",
              "\n",
              "    .dataframe thead th {\n",
              "        text-align: right;\n",
              "    }\n",
              "</style>\n",
              "<table border=\"1\" class=\"dataframe\">\n",
              "  <thead>\n",
              "    <tr style=\"text-align: right;\">\n",
              "      <th></th>\n",
              "      <th>Age</th>\n",
              "      <th>RoomService</th>\n",
              "      <th>FoodCourt</th>\n",
              "      <th>ShoppingMall</th>\n",
              "      <th>Spa</th>\n",
              "      <th>VRDeck</th>\n",
              "      <th>Cabin_num</th>\n",
              "    </tr>\n",
              "  </thead>\n",
              "  <tbody>\n",
              "    <tr>\n",
              "      <th>count</th>\n",
              "      <td>8514.000000</td>\n",
              "      <td>8512.000000</td>\n",
              "      <td>8510.000000</td>\n",
              "      <td>8485.000000</td>\n",
              "      <td>8510.000000</td>\n",
              "      <td>8505.000000</td>\n",
              "      <td>8494.000000</td>\n",
              "    </tr>\n",
              "    <tr>\n",
              "      <th>mean</th>\n",
              "      <td>28.827930</td>\n",
              "      <td>224.687617</td>\n",
              "      <td>458.077203</td>\n",
              "      <td>173.729169</td>\n",
              "      <td>311.138778</td>\n",
              "      <td>304.854791</td>\n",
              "      <td>600.367671</td>\n",
              "    </tr>\n",
              "    <tr>\n",
              "      <th>std</th>\n",
              "      <td>14.489021</td>\n",
              "      <td>666.717663</td>\n",
              "      <td>1611.489240</td>\n",
              "      <td>604.696458</td>\n",
              "      <td>1136.705535</td>\n",
              "      <td>1145.717189</td>\n",
              "      <td>511.867226</td>\n",
              "    </tr>\n",
              "    <tr>\n",
              "      <th>min</th>\n",
              "      <td>0.000000</td>\n",
              "      <td>0.000000</td>\n",
              "      <td>0.000000</td>\n",
              "      <td>0.000000</td>\n",
              "      <td>0.000000</td>\n",
              "      <td>0.000000</td>\n",
              "      <td>0.000000</td>\n",
              "    </tr>\n",
              "    <tr>\n",
              "      <th>25%</th>\n",
              "      <td>19.000000</td>\n",
              "      <td>0.000000</td>\n",
              "      <td>0.000000</td>\n",
              "      <td>0.000000</td>\n",
              "      <td>0.000000</td>\n",
              "      <td>0.000000</td>\n",
              "      <td>167.250000</td>\n",
              "    </tr>\n",
              "    <tr>\n",
              "      <th>50%</th>\n",
              "      <td>27.000000</td>\n",
              "      <td>0.000000</td>\n",
              "      <td>0.000000</td>\n",
              "      <td>0.000000</td>\n",
              "      <td>0.000000</td>\n",
              "      <td>0.000000</td>\n",
              "      <td>427.000000</td>\n",
              "    </tr>\n",
              "    <tr>\n",
              "      <th>75%</th>\n",
              "      <td>38.000000</td>\n",
              "      <td>47.000000</td>\n",
              "      <td>76.000000</td>\n",
              "      <td>27.000000</td>\n",
              "      <td>59.000000</td>\n",
              "      <td>46.000000</td>\n",
              "      <td>999.000000</td>\n",
              "    </tr>\n",
              "    <tr>\n",
              "      <th>max</th>\n",
              "      <td>79.000000</td>\n",
              "      <td>14327.000000</td>\n",
              "      <td>29813.000000</td>\n",
              "      <td>23492.000000</td>\n",
              "      <td>22408.000000</td>\n",
              "      <td>24133.000000</td>\n",
              "      <td>1894.000000</td>\n",
              "    </tr>\n",
              "  </tbody>\n",
              "</table>\n",
              "</div>\n",
              "      <button class=\"colab-df-convert\" onclick=\"convertToInteractive('df-6dd90e67-20c2-4466-a4e8-8d085b2fde5f')\"\n",
              "              title=\"Convert this dataframe to an interactive table.\"\n",
              "              style=\"display:none;\">\n",
              "        \n",
              "  <svg xmlns=\"http://www.w3.org/2000/svg\" height=\"24px\"viewBox=\"0 0 24 24\"\n",
              "       width=\"24px\">\n",
              "    <path d=\"M0 0h24v24H0V0z\" fill=\"none\"/>\n",
              "    <path d=\"M18.56 5.44l.94 2.06.94-2.06 2.06-.94-2.06-.94-.94-2.06-.94 2.06-2.06.94zm-11 1L8.5 8.5l.94-2.06 2.06-.94-2.06-.94L8.5 2.5l-.94 2.06-2.06.94zm10 10l.94 2.06.94-2.06 2.06-.94-2.06-.94-.94-2.06-.94 2.06-2.06.94z\"/><path d=\"M17.41 7.96l-1.37-1.37c-.4-.4-.92-.59-1.43-.59-.52 0-1.04.2-1.43.59L10.3 9.45l-7.72 7.72c-.78.78-.78 2.05 0 2.83L4 21.41c.39.39.9.59 1.41.59.51 0 1.02-.2 1.41-.59l7.78-7.78 2.81-2.81c.8-.78.8-2.07 0-2.86zM5.41 20L4 18.59l7.72-7.72 1.47 1.35L5.41 20z\"/>\n",
              "  </svg>\n",
              "      </button>\n",
              "      \n",
              "  <style>\n",
              "    .colab-df-container {\n",
              "      display:flex;\n",
              "      flex-wrap:wrap;\n",
              "      gap: 12px;\n",
              "    }\n",
              "\n",
              "    .colab-df-convert {\n",
              "      background-color: #E8F0FE;\n",
              "      border: none;\n",
              "      border-radius: 50%;\n",
              "      cursor: pointer;\n",
              "      display: none;\n",
              "      fill: #1967D2;\n",
              "      height: 32px;\n",
              "      padding: 0 0 0 0;\n",
              "      width: 32px;\n",
              "    }\n",
              "\n",
              "    .colab-df-convert:hover {\n",
              "      background-color: #E2EBFA;\n",
              "      box-shadow: 0px 1px 2px rgba(60, 64, 67, 0.3), 0px 1px 3px 1px rgba(60, 64, 67, 0.15);\n",
              "      fill: #174EA6;\n",
              "    }\n",
              "\n",
              "    [theme=dark] .colab-df-convert {\n",
              "      background-color: #3B4455;\n",
              "      fill: #D2E3FC;\n",
              "    }\n",
              "\n",
              "    [theme=dark] .colab-df-convert:hover {\n",
              "      background-color: #434B5C;\n",
              "      box-shadow: 0px 1px 3px 1px rgba(0, 0, 0, 0.15);\n",
              "      filter: drop-shadow(0px 1px 2px rgba(0, 0, 0, 0.3));\n",
              "      fill: #FFFFFF;\n",
              "    }\n",
              "  </style>\n",
              "\n",
              "      <script>\n",
              "        const buttonEl =\n",
              "          document.querySelector('#df-6dd90e67-20c2-4466-a4e8-8d085b2fde5f button.colab-df-convert');\n",
              "        buttonEl.style.display =\n",
              "          google.colab.kernel.accessAllowed ? 'block' : 'none';\n",
              "\n",
              "        async function convertToInteractive(key) {\n",
              "          const element = document.querySelector('#df-6dd90e67-20c2-4466-a4e8-8d085b2fde5f');\n",
              "          const dataTable =\n",
              "            await google.colab.kernel.invokeFunction('convertToInteractive',\n",
              "                                                     [key], {});\n",
              "          if (!dataTable) return;\n",
              "\n",
              "          const docLinkHtml = 'Like what you see? Visit the ' +\n",
              "            '<a target=\"_blank\" href=https://colab.research.google.com/notebooks/data_table.ipynb>data table notebook</a>'\n",
              "            + ' to learn more about interactive tables.';\n",
              "          element.innerHTML = '';\n",
              "          dataTable['output_type'] = 'display_data';\n",
              "          await google.colab.output.renderOutput(dataTable, element);\n",
              "          const docLink = document.createElement('div');\n",
              "          docLink.innerHTML = docLinkHtml;\n",
              "          element.appendChild(docLink);\n",
              "        }\n",
              "      </script>\n",
              "    </div>\n",
              "  </div>\n",
              "  "
            ]
          },
          "metadata": {},
          "execution_count": 14
        }
      ],
      "source": [
        "df.describe()\n"
      ]
    },
    {
      "cell_type": "markdown",
      "metadata": {
        "id": "kZ4sIuGEeCkk"
      },
      "source": [
        "<font color=blue> Se puede apreciar para la variable Age su media y mediana son similares, mientras que los servicios de lujo RoomService, FoodCourt, ShoppingMall, Spa, VRDeck poseen una mediana de 0 dado que mas de la mitad de las personas no hicieron consumos de lujo."
      ]
    },
    {
      "cell_type": "code",
      "execution_count": 15,
      "metadata": {
        "colab": {
          "base_uri": "https://localhost:8080/",
          "height": 554
        },
        "id": "z-S66cNZtdKV",
        "outputId": "af6b36e2-9dd5-4b47-d3b1-b34aaafe13e2"
      },
      "outputs": [
        {
          "output_type": "display_data",
          "data": {
            "text/plain": [
              "<Figure size 1440x2520 with 2 Axes>"
            ],
            "image/png": "[encoded data removed]"
          },
          "metadata": {
            "needs_background": "light"
          }
        }
      ],
      "source": [
        "# veamos sus graficas, pero solo las mas interesantes\n",
        "n_cols = len(variables_numericas)\n",
        "cols_interest=['Age','Cabin_num' ] #, \"FoodCourt\", \"ShoppingMall\", \"Spa\", \"VRDeck\" ,\"RoomService\"\n",
        "fig = plt.figure(figsize=(20, 35))\n",
        "rows = int(n_cols / 3) + (n_cols % 3 > 0)\n",
        "\n",
        "for i, coln in enumerate(cols_interest):\n",
        "    ax = fig.add_subplot(rows,3,i+1)\n",
        "    ax.set_title(cols_interest[i])\n",
        "    sns.kdeplot(data=df, x=coln, hue='Transported', legend=True)\n",
        "    ax.axvline(df[(df.Transported == 1)][cols_interest[i]].mean(), color='#e1812c', linestyle='--')\n",
        "    ax.axvline(df[(df.Transported == 0)][cols_interest[i]].mean(), color='#3274a1', linestyle='--')\n",
        "    ax.legend(['Transported = Yes','Transported = No','mean Transported = Yes','mean Transported = No'], fontsize=10)\n",
        " \n",
        "fig.subplots_adjust(hspace=.5,wspace=0.4)    \n",
        "\n",
        "plt.show()   \n",
        "plt.close()"
      ]
    },
    {
      "cell_type": "markdown",
      "metadata": {
        "id": "95BiLg5XzT_D"
      },
      "source": [
        "<font color=blue> Tal como se indico antes la media en Age son bastante similares para ambas clases.<br> Por otro lado para el dato Cabin_num se observa tambien una media similar entre ambas clases, aqui la clase Transported tiene una mayor superficie para aquellos casos cuyo valor es menor a la media."
      ]
    },
    {
      "cell_type": "markdown",
      "metadata": {
        "id": "lH_hMNwMoLdz"
      },
      "source": [
        "###<font color=blue> Datos Faltantes, deteccion de correlacion e imputacion de datos"
      ]
    },
    {
      "cell_type": "code",
      "execution_count": 16,
      "metadata": {
        "colab": {
          "base_uri": "https://localhost:8080/",
          "height": 583
        },
        "id": "WsVQ-7rRd-9W",
        "outputId": "a74999ea-90ae-494d-e5ee-d98fe77c8188"
      },
      "outputs": [
        {
          "output_type": "execute_result",
          "data": {
            "text/plain": [
              "        variable  q_nan     p_nan  q_zeros   p_zeros  unique     type\n",
              "0    PassengerId      0  0.000000        0  0.000000    8693   object\n",
              "1     HomePlanet    201  0.023122        0  0.000000       3   object\n",
              "2      CryoSleep    217  0.024963     5439  0.625676       2   object\n",
              "3          Cabin    199  0.022892        0  0.000000    6560   object\n",
              "4    Destination    182  0.020936        0  0.000000       3   object\n",
              "5            Age    179  0.020591      178  0.020476      80  float64\n",
              "6            VIP    203  0.023352     8291  0.953756       2   object\n",
              "7    RoomService    181  0.020821     5577  0.641551    1273  float64\n",
              "8      FoodCourt    183  0.021051     5456  0.627631    1507  float64\n",
              "9   ShoppingMall    208  0.023927     5587  0.642701    1115  float64\n",
              "10           Spa    183  0.021051     5324  0.612447    1327  float64\n",
              "11        VRDeck    188  0.021627     5495  0.632118    1306  float64\n",
              "12          Name    200  0.023007        0  0.000000    8473   object\n",
              "13   Transported      0  0.000000     4315  0.496376       2     bool\n",
              "14    Cabin_deck    199  0.022892        0  0.000000       8   object\n",
              "15     Cabin_num    199  0.022892       18  0.002071    1817  float64\n",
              "16    Cabin_side    199  0.022892        0  0.000000       2   object"
            ],
            "text/html": [
              "\n",
              "  <div id=\"df-93e0352a-b1e7-4730-89fa-ba55934ef719\">\n",
              "    <div class=\"colab-df-container\">\n",
              "      <div>\n",
              "<style scoped>\n",
              "    .dataframe tbody tr th:only-of-type {\n",
              "        vertical-align: middle;\n",
              "    }\n",
              "\n",
              "    .dataframe tbody tr th {\n",
              "        vertical-align: top;\n",
              "    }\n",
              "\n",
              "    .dataframe thead th {\n",
              "        text-align: right;\n",
              "    }\n",
              "</style>\n",
              "<table border=\"1\" class=\"dataframe\">\n",
              "  <thead>\n",
              "    <tr style=\"text-align: right;\">\n",
              "      <th></th>\n",
              "      <th>variable</th>\n",
              "      <th>q_nan</th>\n",
              "      <th>p_nan</th>\n",
              "      <th>q_zeros</th>\n",
              "      <th>p_zeros</th>\n",
              "      <th>unique</th>\n",
              "      <th>type</th>\n",
              "    </tr>\n",
              "  </thead>\n",
              "  <tbody>\n",
              "    <tr>\n",
              "      <th>0</th>\n",
              "      <td>PassengerId</td>\n",
              "      <td>0</td>\n",
              "      <td>0.000000</td>\n",
              "      <td>0</td>\n",
              "      <td>0.000000</td>\n",
              "      <td>8693</td>\n",
              "      <td>object</td>\n",
              "    </tr>\n",
              "    <tr>\n",
              "      <th>1</th>\n",
              "      <td>HomePlanet</td>\n",
              "      <td>201</td>\n",
              "      <td>0.023122</td>\n",
              "      <td>0</td>\n",
              "      <td>0.000000</td>\n",
              "      <td>3</td>\n",
              "      <td>object</td>\n",
              "    </tr>\n",
              "    <tr>\n",
              "      <th>2</th>\n",
              "      <td>CryoSleep</td>\n",
              "      <td>217</td>\n",
              "      <td>0.024963</td>\n",
              "      <td>5439</td>\n",
              "      <td>0.625676</td>\n",
              "      <td>2</td>\n",
              "      <td>object</td>\n",
              "    </tr>\n",
              "    <tr>\n",
              "      <th>3</th>\n",
              "      <td>Cabin</td>\n",
              "      <td>199</td>\n",
              "      <td>0.022892</td>\n",
              "      <td>0</td>\n",
              "      <td>0.000000</td>\n",
              "      <td>6560</td>\n",
              "      <td>object</td>\n",
              "    </tr>\n",
              "    <tr>\n",
              "      <th>4</th>\n",
              "      <td>Destination</td>\n",
              "      <td>182</td>\n",
              "      <td>0.020936</td>\n",
              "      <td>0</td>\n",
              "      <td>0.000000</td>\n",
              "      <td>3</td>\n",
              "      <td>object</td>\n",
              "    </tr>\n",
              "    <tr>\n",
              "      <th>5</th>\n",
              "      <td>Age</td>\n",
              "      <td>179</td>\n",
              "      <td>0.020591</td>\n",
              "      <td>178</td>\n",
              "      <td>0.020476</td>\n",
              "      <td>80</td>\n",
              "      <td>float64</td>\n",
              "    </tr>\n",
              "    <tr>\n",
              "      <th>6</th>\n",
              "      <td>VIP</td>\n",
              "      <td>203</td>\n",
              "      <td>0.023352</td>\n",
              "      <td>8291</td>\n",
              "      <td>0.953756</td>\n",
              "      <td>2</td>\n",
              "      <td>object</td>\n",
              "    </tr>\n",
              "    <tr>\n",
              "      <th>7</th>\n",
              "      <td>RoomService</td>\n",
              "      <td>181</td>\n",
              "      <td>0.020821</td>\n",
              "      <td>5577</td>\n",
              "      <td>0.641551</td>\n",
              "      <td>1273</td>\n",
              "      <td>float64</td>\n",
              "    </tr>\n",
              "    <tr>\n",
              "      <th>8</th>\n",
              "      <td>FoodCourt</td>\n",
              "      <td>183</td>\n",
              "      <td>0.021051</td>\n",
              "      <td>5456</td>\n",
              "      <td>0.627631</td>\n",
              "      <td>1507</td>\n",
              "      <td>float64</td>\n",
              "    </tr>\n",
              "    <tr>\n",
              "      <th>9</th>\n",
              "      <td>ShoppingMall</td>\n",
              "      <td>208</td>\n",
              "      <td>0.023927</td>\n",
              "      <td>5587</td>\n",
              "      <td>0.642701</td>\n",
              "      <td>1115</td>\n",
              "      <td>float64</td>\n",
              "    </tr>\n",
              "    <tr>\n",
              "      <th>10</th>\n",
              "      <td>Spa</td>\n",
              "      <td>183</td>\n",
              "      <td>0.021051</td>\n",
              "      <td>5324</td>\n",
              "      <td>0.612447</td>\n",
              "      <td>1327</td>\n",
              "      <td>float64</td>\n",
              "    </tr>\n",
              "    <tr>\n",
              "      <th>11</th>\n",
              "      <td>VRDeck</td>\n",
              "      <td>188</td>\n",
              "      <td>0.021627</td>\n",
              "      <td>5495</td>\n",
              "      <td>0.632118</td>\n",
              "      <td>1306</td>\n",
              "      <td>float64</td>\n",
              "    </tr>\n",
              "    <tr>\n",
              "      <th>12</th>\n",
              "      <td>Name</td>\n",
              "      <td>200</td>\n",
              "      <td>0.023007</td>\n",
              "      <td>0</td>\n",
              "      <td>0.000000</td>\n",
              "      <td>8473</td>\n",
              "      <td>object</td>\n",
              "    </tr>\n",
              "    <tr>\n",
              "      <th>13</th>\n",
              "      <td>Transported</td>\n",
              "      <td>0</td>\n",
              "      <td>0.000000</td>\n",
              "      <td>4315</td>\n",
              "      <td>0.496376</td>\n",
              "      <td>2</td>\n",
              "      <td>bool</td>\n",
              "    </tr>\n",
              "    <tr>\n",
              "      <th>14</th>\n",
              "      <td>Cabin_deck</td>\n",
              "      <td>199</td>\n",
              "      <td>0.022892</td>\n",
              "      <td>0</td>\n",
              "      <td>0.000000</td>\n",
              "      <td>8</td>\n",
              "      <td>object</td>\n",
              "    </tr>\n",
              "    <tr>\n",
              "      <th>15</th>\n",
              "      <td>Cabin_num</td>\n",
              "      <td>199</td>\n",
              "      <td>0.022892</td>\n",
              "      <td>18</td>\n",
              "      <td>0.002071</td>\n",
              "      <td>1817</td>\n",
              "      <td>float64</td>\n",
              "    </tr>\n",
              "    <tr>\n",
              "      <th>16</th>\n",
              "      <td>Cabin_side</td>\n",
              "      <td>199</td>\n",
              "      <td>0.022892</td>\n",
              "      <td>0</td>\n",
              "      <td>0.000000</td>\n",
              "      <td>2</td>\n",
              "      <td>object</td>\n",
              "    </tr>\n",
              "  </tbody>\n",
              "</table>\n",
              "</div>\n",
              "      <button class=\"colab-df-convert\" onclick=\"convertToInteractive('df-93e0352a-b1e7-4730-89fa-ba55934ef719')\"\n",
              "              title=\"Convert this dataframe to an interactive table.\"\n",
              "              style=\"display:none;\">\n",
              "        \n",
              "  <svg xmlns=\"http://www.w3.org/2000/svg\" height=\"24px\"viewBox=\"0 0 24 24\"\n",
              "       width=\"24px\">\n",
              "    <path d=\"M0 0h24v24H0V0z\" fill=\"none\"/>\n",
              "    <path d=\"M18.56 5.44l.94 2.06.94-2.06 2.06-.94-2.06-.94-.94-2.06-.94 2.06-2.06.94zm-11 1L8.5 8.5l.94-2.06 2.06-.94-2.06-.94L8.5 2.5l-.94 2.06-2.06.94zm10 10l.94 2.06.94-2.06 2.06-.94-2.06-.94-.94-2.06-.94 2.06-2.06.94z\"/><path d=\"M17.41 7.96l-1.37-1.37c-.4-.4-.92-.59-1.43-.59-.52 0-1.04.2-1.43.59L10.3 9.45l-7.72 7.72c-.78.78-.78 2.05 0 2.83L4 21.41c.39.39.9.59 1.41.59.51 0 1.02-.2 1.41-.59l7.78-7.78 2.81-2.81c.8-.78.8-2.07 0-2.86zM5.41 20L4 18.59l7.72-7.72 1.47 1.35L5.41 20z\"/>\n",
              "  </svg>\n",
              "      </button>\n",
              "      \n",
              "  <style>\n",
              "    .colab-df-container {\n",
              "      display:flex;\n",
              "      flex-wrap:wrap;\n",
              "      gap: 12px;\n",
              "    }\n",
              "\n",
              "    .colab-df-convert {\n",
              "      background-color: #E8F0FE;\n",
              "      border: none;\n",
              "      border-radius: 50%;\n",
              "      cursor: pointer;\n",
              "      display: none;\n",
              "      fill: #1967D2;\n",
              "      height: 32px;\n",
              "      padding: 0 0 0 0;\n",
              "      width: 32px;\n",
              "    }\n",
              "\n",
              "    .colab-df-convert:hover {\n",
              "      background-color: #E2EBFA;\n",
              "      box-shadow: 0px 1px 2px rgba(60, 64, 67, 0.3), 0px 1px 3px 1px rgba(60, 64, 67, 0.15);\n",
              "      fill: #174EA6;\n",
              "    }\n",
              "\n",
              "    [theme=dark] .colab-df-convert {\n",
              "      background-color: #3B4455;\n",
              "      fill: #D2E3FC;\n",
              "    }\n",
              "\n",
              "    [theme=dark] .colab-df-convert:hover {\n",
              "      background-color: #434B5C;\n",
              "      box-shadow: 0px 1px 3px 1px rgba(0, 0, 0, 0.15);\n",
              "      filter: drop-shadow(0px 1px 2px rgba(0, 0, 0, 0.3));\n",
              "      fill: #FFFFFF;\n",
              "    }\n",
              "  </style>\n",
              "\n",
              "      <script>\n",
              "        const buttonEl =\n",
              "          document.querySelector('#df-93e0352a-b1e7-4730-89fa-ba55934ef719 button.colab-df-convert');\n",
              "        buttonEl.style.display =\n",
              "          google.colab.kernel.accessAllowed ? 'block' : 'none';\n",
              "\n",
              "        async function convertToInteractive(key) {\n",
              "          const element = document.querySelector('#df-93e0352a-b1e7-4730-89fa-ba55934ef719');\n",
              "          const dataTable =\n",
              "            await google.colab.kernel.invokeFunction('convertToInteractive',\n",
              "                                                     [key], {});\n",
              "          if (!dataTable) return;\n",
              "\n",
              "          const docLinkHtml = 'Like what you see? Visit the ' +\n",
              "            '<a target=\"_blank\" href=https://colab.research.google.com/notebooks/data_table.ipynb>data table notebook</a>'\n",
              "            + ' to learn more about interactive tables.';\n",
              "          element.innerHTML = '';\n",
              "          dataTable['output_type'] = 'display_data';\n",
              "          await google.colab.output.renderOutput(dataTable, element);\n",
              "          const docLink = document.createElement('div');\n",
              "          docLink.innerHTML = docLinkHtml;\n",
              "          element.appendChild(docLink);\n",
              "        }\n",
              "      </script>\n",
              "    </div>\n",
              "  </div>\n",
              "  "
            ]
          },
          "metadata": {},
          "execution_count": 16
        }
      ],
      "source": [
        "#veamos los valores nulos\n",
        "def status(data):\n",
        "    data2=data\n",
        "    # total de rows\n",
        "    tot_rows=len(data2)\n",
        "    # total de nan\n",
        "    d2=data2.isnull().sum().reset_index()\n",
        "    d2.columns=['variable', 'q_nan']\n",
        "    # percentage of nan\n",
        "    d2[['p_nan']]=d2[['q_nan']]/tot_rows\n",
        "    # num of zeros\n",
        "    d2['q_zeros']=(data2==0).sum().values\n",
        "    # perc of zeros\n",
        "    d2['p_zeros']=d2[['q_zeros']]/tot_rows\n",
        "    # total unique values\n",
        "    d2['unique']=data2.nunique().values\n",
        "    # get data types per column\n",
        "    d2['type']=[str(x) for x in data2.dtypes.values]\n",
        "    return(d2)\n",
        "status(df)\n"
      ]
    },
    {
      "cell_type": "markdown",
      "metadata": {
        "id": "QhDAviD8OEsl"
      },
      "source": [
        "<font color=blue> La perdida de datos no es significativa en su mayoria no supera el 3% por variable. Veamos graficamente la perdida de los datos."
      ]
    },
    {
      "cell_type": "code",
      "execution_count": 17,
      "metadata": {
        "colab": {
          "base_uri": "https://localhost:8080/",
          "height": 457
        },
        "id": "Di-f82WFsiIZ",
        "outputId": "8da528a9-0851-453f-b3c4-2d08212a35d2"
      },
      "outputs": [
        {
          "output_type": "execute_result",
          "data": {
            "text/plain": [
              "<matplotlib.axes._subplots.AxesSubplot at 0x7fe3be32c710>"
            ]
          },
          "metadata": {},
          "execution_count": 17
        },
        {
          "output_type": "display_data",
          "data": {
            "text/plain": [
              "<Figure size 864x432 with 2 Axes>"
            ],
            "image/png": "[encoded data removed]"
          },
          "metadata": {
            "needs_background": "light"
          }
        }
      ],
      "source": [
        "import missingno as msno\n",
        "msno.matrix(df,figsize=(12, 6), fontsize=12, color=[0.5,0,0])"
      ]
    },
    {
      "cell_type": "code",
      "execution_count": 18,
      "metadata": {
        "colab": {
          "base_uri": "https://localhost:8080/",
          "height": 447
        },
        "id": "qBRmJOwhs8AA",
        "outputId": "10da4761-b5fb-4168-b5d3-68ef4feec00a"
      },
      "outputs": [
        {
          "output_type": "execute_result",
          "data": {
            "text/plain": [
              "<matplotlib.axes._subplots.AxesSubplot at 0x7fe3be336b10>"
            ]
          },
          "metadata": {},
          "execution_count": 18
        },
        {
          "output_type": "display_data",
          "data": {
            "text/plain": [
              "<Figure size 864x432 with 2 Axes>"
            ],
            "image/png": "[encoded data removed]"
          },
          "metadata": {
            "needs_background": "light"
          }
        }
      ],
      "source": [
        "# veamos su correlacion a fin de analizar si la faltante de datos esta relacionada , solo analizaremos las variables mas relavantes\n",
        "variables_nulas=['HomePlanet','CryoSleep','Destination','VIP','Name' ,'Cabin_num'] \n",
        "msno.heatmap(df[variables_nulas],figsize=(12, 6), fontsize=12)"
      ]
    },
    {
      "cell_type": "markdown",
      "metadata": {
        "id": "T2-BV2BRQNHM"
      },
      "source": [
        "<font color=blue> Como se puede apreciar no existe correlacion de perdida de datos entre las variables.<br> Las variables que descartaremos son:<br> \n",
        "PassengerId, dado que no es una variable que explique el comportamiento de las clases.<br>\n",
        "Cabin,dado que esta parseada en Cabin_side, Cabin_num y Cabin_deck.<br>\n",
        "Name, dado que no nos ha sido util para nuestro analisis, no nos explica el comportamiento de las clases. <br>"
      ]
    },
    {
      "cell_type": "markdown",
      "metadata": {
        "id": "Yptcj8GsbOoB"
      },
      "source": [
        "##<font color=blue> Preprocesamiento de Datos\n",
        "<font color=blue>Realizaremos una transformacion de las variables categoricas y booleanas y un OneHotEncoding de los datos para disponibilizarlos para el modelo. "
      ]
    },
    {
      "cell_type": "markdown",
      "metadata": {
        "id": "-yqbvLXTzXDr"
      },
      "source": [
        "###<font color=blue> Transformacion de Variables"
      ]
    },
    {
      "cell_type": "code",
      "execution_count": 19,
      "metadata": {
        "id": "MbTamc7xZ3RX"
      },
      "outputs": [],
      "source": [
        "# Eliminacion de caracteristicas\n",
        " \n",
        "df_bck = df.copy(deep=True)\n",
        "df_test_bck=df.copy(deep=True)\n",
        "drop_vars = ['PassengerId', 'Name', 'Cabin']\n",
        "\n",
        "df = df.drop(drop_vars, axis=1)\n",
        "df_test = df_test.drop(drop_vars, axis=1)\n",
        "\n"
      ]
    },
    {
      "cell_type": "code",
      "execution_count": 20,
      "metadata": {
        "id": "rTXxQfr7X3qA"
      },
      "outputs": [],
      "source": [
        "# imputacion de datos\n",
        "imputer_cols = [\"Age\", \"FoodCourt\", \"ShoppingMall\", \"Spa\", \"VRDeck\" ,\"RoomService\", \"Cabin_num\"]\n",
        "imputer = SimpleImputer(strategy=\"median\")\n",
        "df[imputer_cols] = imputer.fit_transform(df[imputer_cols])\n"
      ]
    },
    {
      "cell_type": "code",
      "execution_count": 21,
      "metadata": {
        "id": "ySZzohcP1zBZ"
      },
      "outputs": [],
      "source": [
        "# imputacion de bools, numericas y categoricas\n",
        "def cols(df):\n",
        "  vs = df.columns.to_series().groupby(df.dtypes).groups\n",
        "  numerical = vs[np.dtype('float64')]\n",
        "  categorical = vs[np.dtype('O')]\n",
        "  c_a = df.columns\n",
        "  c_c = categorical\n",
        "  c_n = numerical\n",
        "  return c_a, c_c, c_n"
      ]
    },
    {
      "cell_type": "code",
      "execution_count": 22,
      "metadata": {
        "id": "rJJXthnb1_DP"
      },
      "outputs": [],
      "source": [
        "def nor_num(df):\n",
        "  c_a, c_c, c_n = cols(df)\n",
        "  for col in c_n:\n",
        "    mu = df[col].mean()\n",
        "    st = df[col].std()\n",
        "    for i in range(len(df[col])):\n",
        "      df[col][i] = (df[col][i] - mu) / st"
      ]
    },
    {
      "cell_type": "code",
      "execution_count": 23,
      "metadata": {
        "id": "DdPPcD4a2CC3"
      },
      "outputs": [],
      "source": [
        "def imp_bool(df,col):\n",
        "  for i in range(len(df[col])):\n",
        "    ps = df[col][i]\n",
        "    if str(ps)=='True':\n",
        "      df[col][i] = 1.0\n",
        "    if str(ps)=='False':\n",
        "      df[col][i] =-1.0\n",
        "    if not (str(ps)=='True' or str(ps)=='False'):\n",
        "      df[col][i] = 0.0\n",
        "  df[col] = df[col].astype('float64')"
      ]
    },
    {
      "cell_type": "code",
      "execution_count": null,
      "metadata": {
        "colab": {
          "base_uri": "https://localhost:8080/"
        },
        "id": "jUkvmZ-12HMX",
        "outputId": "8493783e-7c11-49b9-b84f-da581996808e"
      },
      "outputs": [
        {
          "output_type": "stream",
          "name": "stderr",
          "text": [
            "/usr/local/lib/python3.7/dist-packages/ipykernel_launcher.py:7: SettingWithCopyWarning: \n",
            "A value is trying to be set on a copy of a slice from a DataFrame\n",
            "\n",
            "See the caveats in the documentation: https://pandas.pydata.org/pandas-docs/stable/user_guide/indexing.html#returning-a-view-versus-a-copy\n",
            "  import sys\n"
          ]
        }
      ],
      "source": [
        "#imputamos los dfs\n",
        "# train\n",
        "nor_num(df)\n",
        "imp_bool(df,'CryoSleep')\n",
        "imp_bool(df,'VIP')\n",
        "\n",
        "#test\n",
        "nor_num(df_test)\n",
        "imp_bool(df_test,'CryoSleep')\n",
        "imp_bool(df_test,'VIP')"
      ]
    },
    {
      "cell_type": "code",
      "execution_count": null,
      "metadata": {
        "id": "pb_i3VDN3UdA"
      },
      "outputs": [],
      "source": [
        "# Imputamos por Cabin_deck en forma separada dado que es una variable categorica y no en el OneHotEncode\n",
        "Te = LabelEncoder()\n",
        "for dataset in (df, df_test):\n",
        "    dataset['Cabin_deck'] = Te.fit_transform(dataset['Cabin_deck'])"
      ]
    },
    {
      "cell_type": "markdown",
      "metadata": {
        "id": "5aOUQktwzmKk"
      },
      "source": [
        "####<font color=blue> OneHotEncode"
      ]
    },
    {
      "cell_type": "code",
      "execution_count": null,
      "metadata": {
        "id": "K9kmKP-LAK1r"
      },
      "outputs": [],
      "source": [
        "#despues de la eliminacion de caracteristicas volvemos a identificamos tipos de variables \n",
        "def encode(df):\n",
        " variables_categoricas = []\n",
        " variables_numericas = []\n",
        " for columna in df.columns:\n",
        "  if df[columna].dtype == 'object':\n",
        "     variables_categoricas += [columna]\n",
        "  else:\n",
        "     variables_numericas += [columna]\n",
        "\n",
        "  #aplicamos OneHotEnconde , creamos un df para cada tipo de variable\n",
        " from sklearn.preprocessing import OneHotEncoder\n",
        " df_cat = df[variables_categoricas]\n",
        " df_num = df[variables_numericas]\n",
        "\n",
        " #valores de las variables categoricas\n",
        " categorias = [df_cat[col].value_counts().index.values for col in variables_categoricas]\n",
        "\n",
        " encoder = OneHotEncoder(categories=categorias, handle_unknown=\"ignore\")\n",
        " encoder.fit(df_cat)\n",
        "\n",
        " et = encoder.transform(df_cat).toarray()#.todense()\n",
        " #agregamos las columnas numericas\n",
        " dat_enc = np.hstack([et, df_num])\n",
        " #obtenemos la matriz \n",
        " dat_enc.shape\n",
        "\n",
        " #Creamos un dataframe a partir de la matriz generada\n",
        " ohc = encoder.get_feature_names_out(df_cat.columns)\n",
        " cols = np.append(ohc, df_num.columns)\n",
        " oh_df = pd.DataFrame(dat_enc, columns = cols)\n",
        " return oh_df\n",
        "\n"
      ]
    },
    {
      "cell_type": "code",
      "execution_count": null,
      "metadata": {
        "id": "fy8Icqdo5reL"
      },
      "outputs": [],
      "source": [
        "#train\n",
        "df_enc = encode(df)\n",
        "df_test = encode(df_test)\n",
        "df_enc.isnull().sum().reset_index()\n",
        "#df_enc[:10]\n"
      ]
    },
    {
      "cell_type": "code",
      "execution_count": null,
      "metadata": {
        "id": "dcGZZa_xBqB9"
      },
      "outputs": [],
      "source": [
        "# Convertimos los valores de la variable objetivo en numéricas, para satisfacer a accuracy_score\n",
        "y =df_enc.Transported.apply(lambda b: 1 if b else -1)\n",
        "X =df_enc.drop('Transported',axis=1)\n",
        "X\n",
        "x_train, x_test, y_train, y_test = train_test_split(X, y, train_size=0.8, random_state = 8)"
      ]
    },
    {
      "cell_type": "code",
      "execution_count": null,
      "metadata": {
        "id": "PwAzmRaGtogb"
      },
      "outputs": [],
      "source": [
        "y_train.values"
      ]
    },
    {
      "cell_type": "code",
      "execution_count": null,
      "metadata": {
        "id": "XBhJn6rPM1oW"
      },
      "outputs": [],
      "source": [
        "X[:5]"
      ]
    },
    {
      "cell_type": "markdown",
      "metadata": {
        "id": "BujFrHUrBISe"
      },
      "source": [
        "# Planteo modelos\n",
        "Tienen que elegir los 2 mejores modelos así que prueben con varios."
      ]
    },
    {
      "cell_type": "markdown",
      "metadata": {
        "id": "sWiLgEhLNaHt"
      },
      "source": [
        "## Modelo 1: XGB"
      ]
    },
    {
      "cell_type": "code",
      "execution_count": null,
      "metadata": {
        "id": "PSOOmF0jNKNX"
      },
      "outputs": [],
      "source": [
        "from sklearn.model_selection import cross_val_score, cross_validate, KFold, StratifiedKFold, LeaveOneOut, LeavePOut\n",
        "from sklearn.metrics import recall_score, accuracy_score, precision_score, f1_score, roc_auc_score, mean_squared_error, r2_score, confusion_matrix, classification_report, ConfusionMatrixDisplay\n",
        "from xgboost import XGBClassifier\n",
        "\n",
        "clfs =  [XGBClassifier()]\n",
        "\n",
        "names = [ 'XGBoost']\n",
        "\n",
        "trained_models = []\n",
        "accuracy_models = []\n",
        "for clf, name in zip(clfs, names):\n",
        "    print(name)\n",
        "    clf.fit(x_train.values, y_train.values)\n",
        "    train_predictions = clf.predict(x_train.values)\n",
        "    accuracy = accuracy_score(y_train.values, train_predictions)\n",
        "    print(f\"Accuracy train {name}: %.2f%%\" % (accuracy * 100.0))\n",
        "\n",
        "    test_predictions = clf.predict(x_test.values)\n",
        "    accuracy = accuracy_score(y_test, test_predictions)\n",
        "    print(f\"Accuracy test {name}: %.2f%%\" % (accuracy * 100.0))\n",
        "    trained_models.append(clf)    \n",
        "    accuracy_models.append(accuracy)"
      ]
    },
    {
      "cell_type": "code",
      "execution_count": null,
      "metadata": {
        "id": "7UbbxVFmS45X"
      },
      "outputs": [],
      "source": [
        "models = pd.DataFrame({'Model':names, 'Score':accuracy_models})\n",
        "models.sort_values(by='Score', ascending=False)"
      ]
    },
    {
      "cell_type": "markdown",
      "metadata": {
        "id": "NtMg5al1BISf"
      },
      "source": [
        "### Algún tipo de ajuste de hiperparámetros de los modelos elegidos"
      ]
    },
    {
      "cell_type": "markdown",
      "metadata": {
        "id": "tVWzTWG0bO3t"
      },
      "source": [
        "###<font color = blue>Hiperparametros ajustados para el Modelo seleccionado:\n",
        "<font color= blue> **learning_rate:** también llamado eta , especifica la rapidez con la que el modelo ajusta los errores residuales mediante el uso de aprendices de base adicionales.<br> **max_depth:** nivel de profundidad.<br>**sub_sample y colsample_bytree:** a los fines de controlar el sobreajuste se utiliza este parametro, dado que permite agregar aleatoriedad para que el entrenamiento sea resistente al ruido."
      ]
    },
    {
      "cell_type": "code",
      "execution_count": null,
      "metadata": {
        "id": "oyFX-ovR_4BF"
      },
      "outputs": [],
      "source": [
        "# Los valores de x_train son object. \n",
        "# Algunas funciones se quejan con el mensaje\n",
        "# \"\"\"DataFrame.dtypes for data must be int, float or bool. \n",
        "# Por lo que los tratamos como valores float.\n",
        "x_train.dtypes"
      ]
    },
    {
      "cell_type": "code",
      "execution_count": null,
      "metadata": {
        "id": "r7xjrrH0BDnW"
      },
      "outputs": [],
      "source": [
        "x_train_f = x_train.astype(float)\n",
        "x_test_f = x_test.astype(float)"
      ]
    },
    {
      "cell_type": "code",
      "execution_count": null,
      "metadata": {
        "id": "ScNZJ9VWkSjt"
      },
      "outputs": [],
      "source": [
        "# Init classifier\n",
        "from sklearn.metrics import accuracy_score\n",
        "import xgboost as xgb\n",
        "xgb_cl = xgb.XGBClassifier()\n",
        "\n",
        "# Fit\n",
        "xgb_cl.fit(x_train_f, y_train)\n",
        "\n",
        "# Predict\n",
        "preds = xgb_cl.predict(x_test_f)"
      ]
    },
    {
      "cell_type": "code",
      "execution_count": null,
      "metadata": {
        "id": "EuUnSsMvi0jW"
      },
      "outputs": [],
      "source": [
        "\n",
        "from sklearn.model_selection import GridSearchCV\n",
        "from sklearn.metrics import ConfusionMatrixDisplay, roc_curve\n",
        "\n",
        "param_grid = {\n",
        "    \"max_depth\":[3,5],\n",
        "    \"learning_rate\":[0.2, 0.5],\n",
        "    \"subsample\": [0.8],\n",
        "    \"colsample_bytree\": [0.5],\n",
        "}\n",
        "\n",
        "# Init classifier\n",
        "xgb_cl = xgb.XGBClassifier(objective=\"binary:logistic\")\n",
        "\n",
        "# Init Grid Search\n",
        "grid_cv = GridSearchCV(xgb_cl, param_grid, n_jobs=-1, cv=3, scoring=\"roc_auc\")\n",
        "\n",
        "grid_cv.fit(x_train_f, y_train)\n"
      ]
    },
    {
      "cell_type": "code",
      "execution_count": null,
      "metadata": {
        "id": "_wi6Zjhypc-M"
      },
      "outputs": [],
      "source": [
        "grid_cv.best_params_"
      ]
    },
    {
      "cell_type": "code",
      "execution_count": null,
      "metadata": {
        "id": "ly2Phz1_8r6Y"
      },
      "outputs": [],
      "source": [
        " grid_cv.best_score_"
      ]
    },
    {
      "cell_type": "code",
      "execution_count": null,
      "metadata": {
        "id": "EmKd--cOPNp2"
      },
      "outputs": [],
      "source": [
        "model1 = grid_cv.best_estimator_\n",
        "score1 = grid_cv.best_score_"
      ]
    },
    {
      "cell_type": "code",
      "execution_count": null,
      "metadata": {
        "id": "9WYrc0Tm89U_"
      },
      "outputs": [],
      "source": [
        "fpr, tpr, thresholds = roc_curve(y_test.values, model1.predict_proba(x_test_f)[:,1])\n",
        "plt.plot(fpr, tpr, label='ROC curve')\n",
        "plt.plot([0, 1], [0, 1], 'k--', label='Random guess')\n",
        "plt.xlabel('False Positive Rate')\n",
        "plt.ylabel('True Positive Rate')\n",
        "plt.title('ROC Curve')\n",
        "plt.xlim([-0.02, 1])\n",
        "plt.ylim([0, 1.02])\n",
        "plt.legend(loc=\"lower right\")"
      ]
    },
    {
      "cell_type": "markdown",
      "metadata": {
        "id": "SKePnxtMCtK9"
      },
      "source": [
        "<font color=blue> Como se puede apreciar el modelo mejoro sustancialmente principalmente al ajustarlo indicando el parametro objective, que por defecto es reg:squarederror: regresión con pérdida al cuadrado por el de binary:logistic: regresión logística para clasificación binaria, probabilidad de salida que se ajusta a nuestro modelo."
      ]
    },
    {
      "cell_type": "markdown",
      "metadata": {
        "id": "x0ZKb_3NPl7O"
      },
      "source": [
        "## Modelo 2: NN"
      ]
    },
    {
      "cell_type": "code",
      "execution_count": null,
      "metadata": {
        "id": "HZ5ea5clDg80"
      },
      "outputs": [],
      "source": [
        "import graphviz\n",
        "from sklearn.tree import export_graphviz"
      ]
    },
    {
      "cell_type": "code",
      "execution_count": null,
      "metadata": {
        "id": "RQUbnv3YEheL"
      },
      "outputs": [],
      "source": [
        "from sklearn.model_selection import cross_val_predict\n",
        "from sklearn.ensemble import RandomForestClassifier"
      ]
    },
    {
      "cell_type": "markdown",
      "metadata": {
        "id": "tUDxomE6Qprd"
      },
      "source": [
        "## Modelo 3: RF\n",
        "Entrenamos un árbol de desición y un _random forest_"
      ]
    },
    {
      "cell_type": "code",
      "execution_count": null,
      "metadata": {
        "id": "meAauos7jQx2"
      },
      "outputs": [],
      "source": [
        "#X_train, X_test, y_train, y_test = train_test_split(df_train.values, TARGET_COLUMN.values, test_size=0.33, random_state=42)\n",
        "x_train, x_test, y_train, y_test\n",
        "X_train = x_train\n",
        "X_test = x_test"
      ]
    },
    {
      "cell_type": "code",
      "execution_count": null,
      "metadata": {
        "id": "FSOXzJtXhphz"
      },
      "outputs": [],
      "source": [
        "X_train.shape, X_test.shape"
      ]
    },
    {
      "cell_type": "code",
      "execution_count": null,
      "metadata": {
        "id": "dPM10_55hvaP"
      },
      "outputs": [],
      "source": [
        "y_train.shape, y_test.shape"
      ]
    },
    {
      "cell_type": "code",
      "execution_count": null,
      "metadata": {
        "id": "xWCW5ItmlmsP"
      },
      "outputs": [],
      "source": [
        "X = X_train\n",
        "y = y_train"
      ]
    },
    {
      "cell_type": "code",
      "execution_count": null,
      "metadata": {
        "id": "_OFB4vovlsYU"
      },
      "outputs": [],
      "source": [
        "print(X.shape)\n",
        "print(y.shape)"
      ]
    },
    {
      "cell_type": "markdown",
      "metadata": {
        "id": "aOPz7JPLwxly"
      },
      "source": [
        "Realizamos un análisis sobre distintos valores del hiperparámetro `max_depth`, con el objetivo de tener un valor aproximado. El resto de los hiperparámetros tienen el valor _default_ \n",
        "\n",
        "(Valores en https://scikit-learn.org/stable/modules/generated/sklearn.tree.DecisionTreeClassifier.html#sklearn.tree.DecisionTreeClassifier)"
      ]
    },
    {
      "cell_type": "code",
      "execution_count": null,
      "metadata": {
        "id": "fxr4_oI7Il62"
      },
      "outputs": [],
      "source": [
        "def train_tree(features, target):\n",
        "  \"\"\"\n",
        "  Retorna una función que permite evaluar el conjunto de entrenamiento, dado \n",
        "  un valor para max_depth\n",
        "  \"\"\"\n",
        "  \n",
        "  def run_with(max_depth):\n",
        "    clf = DecisionTreeClassifier(max_depth = max_depth)\n",
        "    clf = clf.fit(features, target)\n",
        "    return clf\n",
        "\n",
        "  return run_with\n",
        "\n",
        "def eval(p, X_test, y_test):\n",
        "  \"\"\"\n",
        "  Retorna el accuracy_score del clasificador p, sobre los valores de entrenamiento\n",
        "  \"\"\"\n",
        "  y_pred = p.predict(X_test)\n",
        "  return accuracy_score(y_test, y_pred), p.score(X_test, y_test)\n",
        "\n",
        "\n",
        "build_tree = train_tree(X, y)\n",
        "e = {}\n",
        "\n",
        "b = build_tree(max_depth = None)\n",
        "acc_score, score = eval(b, X_test, y_test)\n",
        "\n",
        "print(f\"Depth: None, accuracy_score: {acc_score}, score: {score}\")\n",
        "e[0] = acc_score\n",
        "\n",
        "for d in range(1, 100):\n",
        "  candidate_tree = build_tree(d)\n",
        "\n",
        "  acc_score, score = eval(candidate_tree, X_test, y_test)\n",
        "  print(f\"Depth: {d}, accuracy_score: {acc_score}, score: {score}\")\n",
        "  \n",
        "  \n",
        "  e[d] = acc_score"
      ]
    },
    {
      "cell_type": "code",
      "execution_count": null,
      "metadata": {
        "id": "LEluTu3mWdDT"
      },
      "outputs": [],
      "source": [
        "d = max(e, key=e.get)\n",
        "depth = None if d == 0 else d\n",
        "\n",
        "print(f\"El arbol con mayor accuracy tiene profundidad {depth}\")\n",
        "tree_pred = build_tree(depth)\n",
        "\n",
        "eval(tree_pred, X_test, y_test)"
      ]
    },
    {
      "cell_type": "code",
      "execution_count": null,
      "metadata": {
        "id": "ti0kiATl2Hbv"
      },
      "outputs": [],
      "source": [
        "def class_names(p):\n",
        "  class_names = map(lambda b: str(b), p.classes_)\n",
        "  return list(class_names)\n",
        "\n",
        "classes = class_names(tree_pred)"
      ]
    },
    {
      "cell_type": "code",
      "execution_count": null,
      "metadata": {
        "id": "b4b8f1db"
      },
      "outputs": [],
      "source": [
        "dot_data = export_graphviz(tree_pred, out_file=None, \n",
        "                           feature_names=x_train.columns, \n",
        "                           class_names = classes,\n",
        "                         filled=True, rounded=True,\n",
        "                         special_characters=True)\n",
        "graph = graphviz.Source(dot_data)\n",
        "graph"
      ]
    },
    {
      "cell_type": "markdown",
      "metadata": {
        "id": "6bzCm-c71jQE"
      },
      "source": [
        "## Búsqueda de hiperparámetros\n",
        "Utilizamos búsqueda con validación cruzada para encontrar el mejor conjunto de hiperparámetros, utilizando un conjunto acotado de valores"
      ]
    },
    {
      "cell_type": "code",
      "execution_count": null,
      "metadata": {
        "id": "bfMfnb1KmbJC"
      },
      "outputs": [],
      "source": [
        "params = [\n",
        "    {\n",
        "        'max_leaf_nodes': list(range(2, 10)), \n",
        "        'min_samples_split': list(range(2, 25)),\n",
        "        'max_depth': [None] + list(range(2, 50))\n",
        "    },\n",
        "    \n",
        "    {\n",
        "        'max_features': ['auto', 'sqrt', 'log2'],\n",
        "        'criterion' :['gini', 'entropy']\n",
        "    }\n",
        "]\n",
        "\n",
        "\n",
        "tree = DecisionTreeClassifier()\n",
        "clf = GridSearchCV(tree, params)\n",
        "clf.fit(X_train, y_train)"
      ]
    },
    {
      "cell_type": "code",
      "execution_count": null,
      "metadata": {
        "id": "kyOpeWBCJE-q"
      },
      "outputs": [],
      "source": [
        "clf.cv_results_"
      ]
    },
    {
      "cell_type": "markdown",
      "metadata": {
        "id": "83VSabb2JuBh"
      },
      "source": [
        "Podemos obtener los parámetros que obtuvieron el mejor resultado, así como la media de resultados obtenidos al relizar cross validation"
      ]
    },
    {
      "cell_type": "code",
      "execution_count": null,
      "metadata": {
        "id": "stkUzCWNIuaO"
      },
      "outputs": [],
      "source": [
        "clf.best_params_, clf.best_score_"
      ]
    },
    {
      "cell_type": "code",
      "execution_count": null,
      "metadata": {
        "id": "cL-2EGwGn-M_"
      },
      "outputs": [],
      "source": [
        "best_tree = clf.best_estimator_\n",
        "\n",
        "best_tree\n"
      ]
    },
    {
      "cell_type": "code",
      "execution_count": null,
      "metadata": {
        "id": "ws0QjYjJx-Fn"
      },
      "outputs": [],
      "source": [
        "# accuracy_score\n",
        "eval(best_tree, X_test, y_test)"
      ]
    },
    {
      "cell_type": "code",
      "execution_count": null,
      "metadata": {
        "id": "dMBxNPdmpfPz"
      },
      "outputs": [],
      "source": [
        "dot_data = export_graphviz(best_tree, out_file=None, \n",
        "                           feature_names=x_train.columns, \n",
        "                           class_names = class_names(best_tree),\n",
        "                         filled=True, rounded=True,\n",
        "                         special_characters=True)\n",
        "graph = graphviz.Source(dot_data)\n",
        "graph"
      ]
    },
    {
      "cell_type": "markdown",
      "metadata": {
        "id": "oWUsuzHCHkx4"
      },
      "source": [
        "### Performance"
      ]
    },
    {
      "cell_type": "markdown",
      "metadata": {
        "id": "BixaVZnUMwlb"
      },
      "source": [
        "#### Confusion matrix"
      ]
    },
    {
      "cell_type": "code",
      "execution_count": null,
      "metadata": {
        "id": "Do2yuWi3F8BH"
      },
      "outputs": [],
      "source": [
        "# Obtenemos un conjunto de predicciones para comparar con los valores objetivos\n",
        "# Usamos los conjuntos de entrenamiento (no los de test)\n",
        "y_train_pred = cross_val_predict(best_tree, X_train, y_train, cv= 3)\n",
        "\n",
        "cm = confusion_matrix(y_train, y_train_pred)\n",
        "disp = ConfusionMatrixDisplay(confusion_matrix=cm, display_labels=class_names(best_tree))\n",
        "p = disp.plot()\n"
      ]
    },
    {
      "cell_type": "markdown",
      "metadata": {
        "id": "G2H-HjooOG21"
      },
      "source": [
        "#### Recall\n",
        "¿Cuál es el total de predicciones positivas que fueron clasificadas correctamente? Es decir, que porcentaje de personas transportadas fué reconocido como tal."
      ]
    },
    {
      "cell_type": "code",
      "execution_count": null,
      "metadata": {
        "id": "tSetPLJiNOOc"
      },
      "outputs": [],
      "source": [
        "recall_score(y_train, y_train_pred)"
      ]
    },
    {
      "cell_type": "markdown",
      "metadata": {
        "id": "X1DlMk1ON2W7"
      },
      "source": [
        "#### Precisión\n",
        "¿ Cuál es el porcentaje de positivos verdaderos? De aquellas personas que fueron identificadas como transportadas, ¿Qué porcentaje es verdadero?"
      ]
    },
    {
      "cell_type": "code",
      "execution_count": null,
      "metadata": {
        "id": "w0jRDeOiNLDB"
      },
      "outputs": [],
      "source": [
        "precision_score(y_train, y_train_pred)"
      ]
    },
    {
      "cell_type": "code",
      "execution_count": null,
      "metadata": {
        "id": "me5XMrtCPeDv"
      },
      "outputs": [],
      "source": [
        "X_train, X_test, y_train, y_test = train_test_split(x_train.values, y.values, test_size=0.33, random_state=42)"
      ]
    },
    {
      "cell_type": "code",
      "execution_count": null,
      "metadata": {
        "id": "OTbAUn8IPeDv"
      },
      "outputs": [],
      "source": [
        "X_train.shape, X_test.shape"
      ]
    },
    {
      "cell_type": "code",
      "execution_count": null,
      "metadata": {
        "id": "JaNlbswePeDw"
      },
      "outputs": [],
      "source": [
        "y_train.shape, y_test.shape"
      ]
    },
    {
      "cell_type": "code",
      "execution_count": null,
      "metadata": {
        "id": "6xM2bcUuPeDx"
      },
      "outputs": [],
      "source": [
        "X = X_train\n",
        "y = y_train"
      ]
    },
    {
      "cell_type": "code",
      "execution_count": null,
      "metadata": {
        "id": "t314aFZYPeDy"
      },
      "outputs": [],
      "source": [
        "print(X.shape)\n",
        "print(y.shape)"
      ]
    },
    {
      "cell_type": "markdown",
      "metadata": {
        "id": "rY5NiAhDPeDy"
      },
      "source": [
        "Realizamos un análisis sobre distintos valores del hiperparámetro `max_depth`, con el objetivo de tener un valor aproximado. El resto de los hiperparámetros tienen el valor _default_ \n",
        "\n",
        "(Valores en https://scikit-learn.org/stable/modules/generated/sklearn.tree.DecisionTreeClassifier.html#sklearn.tree.DecisionTreeClassifier)"
      ]
    },
    {
      "cell_type": "code",
      "execution_count": null,
      "metadata": {
        "id": "adzVC9qDPeDz"
      },
      "outputs": [],
      "source": [
        "def train_tree(features, target):\n",
        "  \"\"\"\n",
        "  Retorna una función que permite evaluar el conjunto de entrenamiento, dado \n",
        "  un valor para max_depth\n",
        "  \"\"\"\n",
        "  \n",
        "  def run_with(max_depth):\n",
        "    clf = DecisionTreeClassifier(max_depth = max_depth)\n",
        "    clf = clf.fit(features, target)\n",
        "    return clf\n",
        "\n",
        "  return run_with\n",
        "\n",
        "def eval(p, X_test, y_test):\n",
        "  \"\"\"\n",
        "  Retorna el accuracy_score del clasificador p, sobre los valores de entrenamiento\n",
        "  \"\"\"\n",
        "  y_pred = p.predict(X_test)\n",
        "  return accuracy_score(y_test, y_pred), p.score(X_test, y_test)\n",
        "\n",
        "\n",
        "build_tree = train_tree(X, y)\n",
        "e = {}\n",
        "\n",
        "b = build_tree(max_depth = None)\n",
        "acc_score, score = eval(b, X_test, y_test)\n",
        "\n",
        "print(f\"Depth: None, accuracy_score: {acc_score}, score: {score}\")\n",
        "e[0] = acc_score\n",
        "\n",
        "for d in range(1, 100):\n",
        "  candidate_tree = build_tree(d)\n",
        "\n",
        "  acc_score, score = eval(candidate_tree, X_test, y_test)\n",
        "  print(f\"Depth: {d}, accuracy_score: {acc_score}, score: {score}\")\n",
        "  \n",
        "  \n",
        "  e[d] = acc_score"
      ]
    },
    {
      "cell_type": "code",
      "execution_count": null,
      "metadata": {
        "id": "N1aUZfeAPeD0"
      },
      "outputs": [],
      "source": [
        "d = max(e, key=e.get)\n",
        "depth = None if d == 0 else d\n",
        "\n",
        "print(f\"El arbol con mayor accuracy tiene profundidad {depth}\")\n",
        "tree_pred = build_tree(depth)\n",
        "\n",
        "eval(tree_pred, X_test, y_test)"
      ]
    },
    {
      "cell_type": "code",
      "execution_count": null,
      "metadata": {
        "id": "46GZp9FHPeD1"
      },
      "outputs": [],
      "source": [
        "def class_names(p):\n",
        "  class_names = map(lambda b: str(b), p.classes_)\n",
        "  return list(class_names)\n",
        "\n",
        "classes = class_names(tree_pred)"
      ]
    },
    {
      "cell_type": "code",
      "execution_count": null,
      "metadata": {
        "id": "ZPAL0p1mPeD2"
      },
      "outputs": [],
      "source": [
        "dot_data = export_graphviz(tree_pred, out_file=None, \n",
        "                           feature_names=x_train.columns, \n",
        "                           class_names = classes,\n",
        "                         filled=True, rounded=True,\n",
        "                         special_characters=True)\n",
        "graph = graphviz.Source(dot_data)\n",
        "graph"
      ]
    },
    {
      "cell_type": "markdown",
      "metadata": {
        "id": "9Ixjv5UkPeD2"
      },
      "source": [
        "## Búsqueda de hiperparámetros"
      ]
    },
    {
      "cell_type": "code",
      "execution_count": null,
      "metadata": {
        "id": "Lu1u_lGUPeD3"
      },
      "outputs": [],
      "source": [
        "params = [\n",
        "    {\n",
        "        'max_leaf_nodes': list(range(2, 10)), \n",
        "        'min_samples_split': list(range(2, 25)),\n",
        "        'max_depth': [None] + list(range(2, 50))\n",
        "    },\n",
        "    \n",
        "    {\n",
        "        'max_features': ['auto', 'sqrt', 'log2'],\n",
        "        'criterion' :['gini', 'entropy']\n",
        "    }\n",
        "]\n",
        "\n",
        "\n",
        "tree = DecisionTreeClassifier()\n",
        "clf = GridSearchCV(tree, params)\n",
        "clf.fit(X_train, y_train)"
      ]
    },
    {
      "cell_type": "code",
      "execution_count": null,
      "metadata": {
        "id": "sLAo9-E7PeD3"
      },
      "outputs": [],
      "source": [
        "clf.cv_results_"
      ]
    },
    {
      "cell_type": "markdown",
      "metadata": {
        "id": "kHtwLqHePeD3"
      },
      "source": [
        "Podemos obtener los parámetros que obtuvieron el mejor resultado, así como la media de resultados obtenidos al relizar cross validation"
      ]
    },
    {
      "cell_type": "code",
      "execution_count": null,
      "metadata": {
        "id": "i-yM_HTLPeD4"
      },
      "outputs": [],
      "source": [
        "clf.best_params_, clf.best_score_"
      ]
    },
    {
      "cell_type": "code",
      "execution_count": null,
      "metadata": {
        "id": "nJrm1BUxPeD4"
      },
      "outputs": [],
      "source": [
        "best_tree = clf.best_estimator_\n",
        "\n",
        "best_tree\n"
      ]
    },
    {
      "cell_type": "code",
      "execution_count": null,
      "metadata": {
        "id": "9iZ7rBCRPeD5"
      },
      "outputs": [],
      "source": [
        "# accuracy_score\n",
        "eval(best_tree, X_test, y_test)"
      ]
    },
    {
      "cell_type": "code",
      "execution_count": null,
      "metadata": {
        "id": "DhXFv4nDPeD6"
      },
      "outputs": [],
      "source": [
        "dot_data = export_graphviz(best_tree, out_file=None, \n",
        "                           feature_names=x_train.columns, \n",
        "                           class_names = class_names(best_tree),\n",
        "                         filled=True, rounded=True,\n",
        "                         special_characters=True)\n",
        "graph = graphviz.Source(dot_data)\n",
        "graph"
      ]
    },
    {
      "cell_type": "markdown",
      "metadata": {
        "id": "k8yyPon7PeD7"
      },
      "source": [
        "### Performance"
      ]
    },
    {
      "cell_type": "markdown",
      "metadata": {
        "id": "j7CLjZ9qPeD7"
      },
      "source": [
        "#### Confusion matrix"
      ]
    },
    {
      "cell_type": "code",
      "execution_count": null,
      "metadata": {
        "id": "nGN1umV4PeD7"
      },
      "outputs": [],
      "source": [
        "# Obtenemos un conjunto de predicciones para comparar con los valores objetivos\n",
        "# Usamos los conjuntos de entrenamiento (no los de test)\n",
        "y_train_pred = cross_val_predict(best_tree, X_train, y_train, cv= 3)\n",
        "\n",
        "cm = confusion_matrix(y_train, y_train_pred)\n",
        "disp = ConfusionMatrixDisplay(confusion_matrix=cm, display_labels=class_names(best_tree))\n",
        "p = disp.plot()\n"
      ]
    },
    {
      "cell_type": "markdown",
      "metadata": {
        "id": "kG0q-wJvPeD8"
      },
      "source": [
        "#### Recall\n",
        "¿Cuál es el total de predicciones positivas que fueron clasificadas correctamente? Es decir, que porcentaje de personas transportadas fué reconocido como tal."
      ]
    },
    {
      "cell_type": "code",
      "execution_count": null,
      "metadata": {
        "id": "y9T6V7m5PeD8"
      },
      "outputs": [],
      "source": [
        "recall_score(y_train, y_train_pred)"
      ]
    },
    {
      "cell_type": "markdown",
      "metadata": {
        "id": "M--IYG5vPeD9"
      },
      "source": [
        "#### Precisión\n",
        "¿ Cuál es el porcentaje de positivos verdaderos? De aquellas personas que fueron identificadas como transportadas, ¿Qué porcentaje es verdadero?"
      ]
    },
    {
      "cell_type": "code",
      "execution_count": null,
      "metadata": {
        "id": "fbHux0xCPeD9"
      },
      "outputs": [],
      "source": [
        "precision_score(y_train, y_train_pred)"
      ]
    },
    {
      "cell_type": "markdown",
      "metadata": {
        "id": "O0gfqX3Mdl_K"
      },
      "source": [
        "## Random forest"
      ]
    },
    {
      "cell_type": "code",
      "execution_count": null,
      "metadata": {
        "id": "RB12-4QIqBmS"
      },
      "outputs": [],
      "source": [
        "forest_clf = RandomForestClassifier()"
      ]
    },
    {
      "cell_type": "code",
      "execution_count": null,
      "metadata": {
        "id": "81M9eV8aTtwI"
      },
      "outputs": [],
      "source": [
        "param_grid = [\n",
        "    {\n",
        "    'max_features': ['auto', 'sqrt', 'log2'],\n",
        "    'max_depth': [None] + list(range(2, 50)),\n",
        "     },\n",
        "     {\n",
        "    'n_estimators': [50, 100, 200, 400],\n",
        "    'criterion' :['gini', 'entropy']\n",
        "    }\n",
        "]"
      ]
    },
    {
      "cell_type": "code",
      "execution_count": null,
      "metadata": {
        "id": "WXwCB6JKTtoj"
      },
      "outputs": [],
      "source": [
        "cv_rfc = GridSearchCV(estimator=forest_clf, param_grid=param_grid, cv= 5)\n",
        "cv_rfc.fit(X_train, y_train)"
      ]
    },
    {
      "cell_type": "code",
      "execution_count": null,
      "metadata": {
        "id": "cOphYyTFXEGL"
      },
      "outputs": [],
      "source": [
        "cv_rfc.best_params_, cv_rfc.best_score_"
      ]
    },
    {
      "cell_type": "code",
      "execution_count": null,
      "metadata": {
        "id": "MF6wyM2XXJHk"
      },
      "outputs": [],
      "source": [
        "best_forest = cv_rfc.best_estimator_\n",
        "best_forest"
      ]
    },
    {
      "cell_type": "code",
      "execution_count": null,
      "metadata": {
        "id": "m1JT_8RxXcPh"
      },
      "outputs": [],
      "source": [
        "y_train_pred = cross_val_predict(best_forest, X_train, y_train, cv= 3)\n",
        "\n",
        "cm = confusion_matrix(y_train, y_train_pred)\n",
        "disp = ConfusionMatrixDisplay(confusion_matrix=cm, display_labels=class_names(best_forest))\n",
        "p = disp.plot()\n"
      ]
    },
    {
      "cell_type": "markdown",
      "metadata": {
        "id": "L-tndAp5YbC9"
      },
      "source": [
        "#### Precision  / Recall"
      ]
    },
    {
      "cell_type": "code",
      "execution_count": null,
      "metadata": {
        "id": "2-5VU53JYWlW"
      },
      "outputs": [],
      "source": [
        "precision_score(y_train, y_train_pred)"
      ]
    },
    {
      "cell_type": "code",
      "execution_count": null,
      "metadata": {
        "id": "9NJfBSkFYfrk"
      },
      "outputs": [],
      "source": [
        "recall_score(y_train, y_train_pred)"
      ]
    },
    {
      "cell_type": "markdown",
      "metadata": {
        "id": "EwTUpPbpQsqH"
      },
      "source": [
        "# Generamos la salida para entregar"
      ]
    },
    {
      "cell_type": "code",
      "execution_count": null,
      "metadata": {
        "id": "ybEXWuWjRHSk"
      },
      "outputs": [],
      "source": [
        "if score1 < score2:\n",
        "  best_model = model2\n",
        "if score2 < score1:\n",
        "  best_model = model1"
      ]
    },
    {
      "cell_type": "code",
      "execution_count": null,
      "metadata": {
        "id": "9wGpNh635iJ1"
      },
      "outputs": [],
      "source": [
        "test_id = passengerId\n",
        "test_pred = best_model.predict(df_test)"
      ]
    },
    {
      "cell_type": "code",
      "execution_count": null,
      "metadata": {
        "id": "wQxdyfQH5iJ1"
      },
      "outputs": [],
      "source": [
        "submission_csv = \"sample_submission.csv\"\n",
        "submission = pd.DataFrame(list(zip(test_id, test_pred)), columns=[\"PassengerId\", \"Transported\"])\n",
        "submission.to_csv(submission_csv, header=True, index=False)\n",
        "submission\n",
        "\n",
        "from google.colab import files\n",
        "files.download(submission_csv)"
      ]
    }
  ],
  "metadata": {
    "colab": {
      "collapsed_sections": [],
      "provenance": [],
      "include_colab_link": true
    },
    "kernelspec": {
      "display_name": "Python 3.9.13 ('diplodatos')",
      "language": "python",
      "name": "python3"
    },
    "language_info": {
      "codemirror_mode": {
        "name": "ipython",
        "version": 3
      },
      "file_extension": ".py",
      "mimetype": "text/x-python",
      "name": "python",
      "nbconvert_exporter": "python",
      "pygments_lexer": "ipython3",
      "version": "3.9.13"
    },
    "vscode": {
      "interpreter": {
        "hash": "e6b65fc4380ac725e50a330b268a227bbdbe91bddfffbf68e5f7ce9848a2b8d5"
      }
    }
  },
  "nbformat": 4,
  "nbformat_minor": 0
}